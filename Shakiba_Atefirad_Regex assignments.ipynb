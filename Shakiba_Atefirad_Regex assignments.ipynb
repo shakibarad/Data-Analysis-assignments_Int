{
 "cells": [
  {
   "cell_type": "markdown",
   "id": "4b4019ee",
   "metadata": {},
   "source": [
    "### search pattern brand and company if found print found else print not found"
   ]
  },
  {
   "cell_type": "code",
   "execution_count": 22,
   "id": "05a8243b",
   "metadata": {},
   "outputs": [
    {
     "name": "stdout",
     "output_type": "stream",
     "text": [
      "found\n"
     ]
    }
   ],
   "source": [
    "text = 'Apple is a tech brand, not a fruit'\n",
    "import re\n",
    "match=re.search(r\"Apple\",text)\n",
    "if match:\n",
    "    print(\"found\")\n",
    "else:\n",
    "    print(\"not found\")"
   ]
  },
  {
   "cell_type": "markdown",
   "id": "4cafcf62",
   "metadata": {},
   "source": [
    "### split the given text at @"
   ]
  },
  {
   "cell_type": "code",
   "execution_count": 23,
   "id": "4a6f4e77",
   "metadata": {},
   "outputs": [
    {
     "name": "stdout",
     "output_type": "stream",
     "text": [
      "['the list of given email are harry', 'gmail.com , ron', 'hotmail.com']\n"
     ]
    }
   ],
   "source": [
    "phrase = 'the list of given email are harry@gmail.com , ron@hotmail.com'\n",
    "match=re.split(\"@\",phrase)\n",
    "print(match)"
   ]
  },
  {
   "cell_type": "markdown",
   "id": "cba7d992",
   "metadata": {},
   "source": [
    "### Remove the punctation from the given sentence"
   ]
  },
  {
   "cell_type": "code",
   "execution_count": 38,
   "id": "1ebf1f45",
   "metadata": {},
   "outputs": [
    {
     "name": "stdout",
     "output_type": "stream",
     "text": [
      "hi are you doing good\n"
     ]
    }
   ],
   "source": [
    "test_phrase = 'hi! are you doing good?'\n",
    "match=re.sub(r\"[^\\w\\s]\",\"\",test_phrase)\n",
    "print(match)                 "
   ]
  },
  {
   "cell_type": "markdown",
   "id": "f80cfa77",
   "metadata": {},
   "source": [
    "### write a list of test pattern having a sequence of\n"
   ]
  },
  {
   "cell_type": "markdown",
   "id": "0938a9e9",
   "metadata": {},
   "source": [
    "lower case letter,\n",
    "uppercase lett\n",
    "lower or upper\n",
    "one upper case followed by lower case"
   ]
  },
  {
   "cell_type": "code",
   "execution_count": 46,
   "id": "5ffdf903",
   "metadata": {},
   "outputs": [
    {
     "name": "stdout",
     "output_type": "stream",
     "text": [
      "['egex', 's', 'difficult', 'to', 'grasp', 'in', 'short', 'period', 'of', 'time']\n"
     ]
    }
   ],
   "source": [
    "test_phrase = 'Regex Is difficult to grasp in short period of time'\n",
    "match=re.findall(r\"[a-z]+\",test_phrase)\n",
    "print(match)"
   ]
  },
  {
   "cell_type": "code",
   "execution_count": 47,
   "id": "bcce31df",
   "metadata": {},
   "outputs": [
    {
     "name": "stdout",
     "output_type": "stream",
     "text": [
      "['R', 'I']\n"
     ]
    }
   ],
   "source": [
    "test_phrase = 'Regex Is difficult to grasp in short period of time'\n",
    "match=re.findall(r\"[A-Z]+\",test_phrase)\n",
    "print(match)"
   ]
  },
  {
   "cell_type": "code",
   "execution_count": 48,
   "id": "b18e02f0",
   "metadata": {},
   "outputs": [
    {
     "name": "stdout",
     "output_type": "stream",
     "text": [
      "['Regex', 'Is', 'difficult', 'to', 'grasp', 'in', 'short', 'period', 'of', 'time']\n"
     ]
    }
   ],
   "source": [
    "test_phrase = 'Regex Is difficult to grasp in short period of time'\n",
    "match=re.findall(r\"[a-zA-z]+\",test_phrase)\n",
    "print(match)"
   ]
  },
  {
   "cell_type": "code",
   "execution_count": 52,
   "id": "78e088b5",
   "metadata": {},
   "outputs": [
    {
     "name": "stdout",
     "output_type": "stream",
     "text": [
      "['Regex', 'Is']\n"
     ]
    }
   ],
   "source": [
    "test_phrase = 'Regex Is difficult to grasp in short period of time'\n",
    "match=re.findall(r\"[A-Z][a-z]+\",test_phrase)\n",
    "print(match)"
   ]
  },
  {
   "cell_type": "markdown",
   "id": "9cf40870",
   "metadata": {},
   "source": [
    "### write a list of test pattern having a sequence"
   ]
  },
  {
   "cell_type": "code",
   "execution_count": null,
   "id": "bd887617",
   "metadata": {},
   "outputs": [],
   "source": [
    "sequence of non-digits\n",
    "sequence of whitespace\n",
    "sequence of non-whitespace\n",
    "alphanumeric characters\n",
    "non-alphanumeric\n"
   ]
  },
  {
   "cell_type": "code",
   "execution_count": 59,
   "id": "050810ee",
   "metadata": {},
   "outputs": [
    {
     "name": "stdout",
     "output_type": "stream",
     "text": [
      "['This is a string with some numbers ', ' and a symbol #hashtag']\n"
     ]
    }
   ],
   "source": [
    "test_phrase = 'This is a string with some numbers 1233 and a symbol #hashtag'\n",
    "match=re.findall(r\"\\D+\",test_phrase)\n",
    "print(match)"
   ]
  },
  {
   "cell_type": "code",
   "execution_count": 61,
   "id": "2d60f781",
   "metadata": {},
   "outputs": [
    {
     "name": "stdout",
     "output_type": "stream",
     "text": [
      "[' ', ' ', ' ', ' ', ' ', ' ', ' ', ' ', ' ', ' ', ' ']\n"
     ]
    }
   ],
   "source": [
    "test_phrase = 'This is a string with some numbers 1233 and a symbol #hashtag'\n",
    "match=re.findall(r\"\\s\",test_phrase)\n",
    "print(match)"
   ]
  },
  {
   "cell_type": "code",
   "execution_count": 62,
   "id": "7b056e3b",
   "metadata": {},
   "outputs": [
    {
     "name": "stdout",
     "output_type": "stream",
     "text": [
      "['This', 'is', 'a', 'string', 'with', 'some', 'numbers', '1233', 'and', 'a', 'symbol', '#hashtag']\n"
     ]
    }
   ],
   "source": [
    "test_phrase = 'This is a string with some numbers 1233 and a symbol #hashtag'\n",
    "match=re.findall(r\"\\S+\",test_phrase)\n",
    "print(match)"
   ]
  },
  {
   "cell_type": "code",
   "execution_count": 64,
   "id": "e4e4116d",
   "metadata": {},
   "outputs": [
    {
     "name": "stdout",
     "output_type": "stream",
     "text": [
      "['This', 'is', 'a', 'string', 'with', 'some', 'numbers', '1233', 'and', 'a', 'symbol', 'hashtag']\n"
     ]
    }
   ],
   "source": [
    "test_phrase = 'This is a string with some numbers 1233 and a symbol #hashtag'\n",
    "match=re.findall(r\"\\w+\",test_phrase)\n",
    "print(match)"
   ]
  },
  {
   "cell_type": "code",
   "execution_count": 66,
   "id": "228893d3",
   "metadata": {},
   "outputs": [
    {
     "name": "stdout",
     "output_type": "stream",
     "text": [
      "[' ', ' ', ' ', ' ', ' ', ' ', ' ', ' ', ' ', ' ', ' ', '#']\n"
     ]
    }
   ],
   "source": [
    "test_phrase = 'This is a string with some numbers 1233 and a symbol #hashtag'\n",
    "match=re.findall(r\"\\W\",test_phrase)\n",
    "print(match)"
   ]
  },
  {
   "cell_type": "markdown",
   "id": "71ebafec",
   "metadata": {},
   "source": [
    "### find the date from the given text"
   ]
  },
  {
   "cell_type": "code",
   "execution_count": 67,
   "id": "39337ca1",
   "metadata": {},
   "outputs": [
    {
     "name": "stdout",
     "output_type": "stream",
     "text": [
      "['12-12-1992']\n"
     ]
    }
   ],
   "source": [
    "text=\"is your birthday in 12-12-1992\"\n",
    "match=re.findall(r\"\\d+-\\d+-\\d+\",text)\n",
    "print(match)"
   ]
  },
  {
   "cell_type": "markdown",
   "id": "2d048e91",
   "metadata": {},
   "source": [
    "### write a regrex that find anything that start with bat"
   ]
  },
  {
   "cell_type": "code",
   "execution_count": 78,
   "id": "bf171c36",
   "metadata": {},
   "outputs": [
    {
     "name": "stdout",
     "output_type": "stream",
     "text": [
      "['bat', 'bat']\n"
     ]
    }
   ],
   "source": [
    "text=\"Here comes the batman in batmobile\"\n",
    "match=re.findall(r\"\\bbat+\",text)\n",
    "print(match)"
   ]
  },
  {
   "cell_type": "markdown",
   "id": "e0b22465",
   "metadata": {},
   "source": [
    "### write a regrex that find all the word that end with 'at'"
   ]
  },
  {
   "cell_type": "code",
   "execution_count": 85,
   "id": "9f191be7",
   "metadata": {},
   "outputs": [
    {
     "name": "stdout",
     "output_type": "stream",
     "text": [
      "['at', 'at', 'at', 'at', 'at']\n"
     ]
    }
   ],
   "source": [
    "text=\"The cat in the hat sat flat on the mat.\"\n",
    "match=re.findall(r\"at\\b\",text)\n",
    "print(match)"
   ]
  },
  {
   "cell_type": "markdown",
   "id": "caf969f1",
   "metadata": {},
   "source": [
    "### find the fistname and the last name of the person"
   ]
  },
  {
   "cell_type": "code",
   "execution_count": 89,
   "id": "44b6306b",
   "metadata": {},
   "outputs": [
    {
     "name": "stdout",
     "output_type": "stream",
     "text": [
      "[': Travis', ': Baker']\n"
     ]
    }
   ],
   "source": [
    "text=\"First Name: Travis Last Name: Baker\"\n",
    "match=re.findall(r\"\\:\\s\\b[A-Z][a-z]+\\b\",text)\n",
    "print(match)"
   ]
  },
  {
   "cell_type": "markdown",
   "id": "5f0a1fb7",
   "metadata": {},
   "source": [
    "### find all the words with an internal o."
   ]
  },
  {
   "cell_type": "code",
   "execution_count": 5,
   "id": "2b3a6471",
   "metadata": {},
   "outputs": [
    {
     "name": "stdout",
     "output_type": "stream",
     "text": [
      "['brown', 'fox']\n"
     ]
    }
   ],
   "source": [
    "text=\"the quick brown fox over \"\n",
    "match=re.findall(r\"\\w+[o]\\w+\",text)\n",
    "print(match)\n"
   ]
  },
  {
   "cell_type": "markdown",
   "id": "a718c933",
   "metadata": {},
   "source": [
    "### find that begin or end with o"
   ]
  },
  {
   "cell_type": "code",
   "execution_count": 14,
   "id": "0be8d878",
   "metadata": {},
   "outputs": [
    {
     "name": "stdout",
     "output_type": "stream",
     "text": [
      "['over']\n"
     ]
    }
   ],
   "source": [
    "import re\n",
    "text=\"quick brown fox jumps over a lazy dog\"\n",
    "match=re.findall(r\"\\b[o]\\w+\",text)\n",
    "print(match)"
   ]
  },
  {
   "cell_type": "markdown",
   "id": "d54ee9ce",
   "metadata": {},
   "source": [
    "### print the answer in the given format . hint use re.sub"
   ]
  },
  {
   "cell_type": "code",
   "execution_count": 78,
   "id": "8365c200",
   "metadata": {},
   "outputs": [
    {
     "name": "stdout",
     "output_type": "stream",
     "text": [
      "the quick =brown= =fox= jumped =over= the lazy =dog=\n"
     ]
    }
   ],
   "source": [
    "'The quick =brown= =fox= jumped =over= the lazy =dog= '\n",
    "text=\"the quick brown fox jumped over the lazy dog\"\n",
    "match=re.sub(r\"(\\b[b|f|o|d]\\w+)\",r\"=\\1=\",text)\n",
    "print(match)"
   ]
  },
  {
   "cell_type": "markdown",
   "id": "ac9b5c7a",
   "metadata": {},
   "source": [
    "### get the month from the given text"
   ]
  },
  {
   "cell_type": "code",
   "execution_count": 85,
   "id": "b2498638",
   "metadata": {},
   "outputs": [
    {
     "name": "stdout",
     "output_type": "stream",
     "text": [
      "['-10-', '-02-']\n"
     ]
    }
   ],
   "source": [
    "text=\"bill gate was born in 28-10-1955 and will was born in 1-02-2000\"\n",
    "match=re.findall(r\"-\\d+-\",text)\n",
    "print(match)"
   ]
  },
  {
   "cell_type": "markdown",
   "id": "0add0f2e",
   "metadata": {},
   "source": [
    "### splits before every o"
   ]
  },
  {
   "cell_type": "code",
   "execution_count": 86,
   "id": "732d82af",
   "metadata": {},
   "outputs": [
    {
     "name": "stdout",
     "output_type": "stream",
     "text": [
      "['pyth', 'n is an ', 'bject ', 'riented langugae']\n"
     ]
    }
   ],
   "source": [
    "text=\"python is an object oriented langugae\"\n",
    "match=re.split(\"o\",text)\n",
    "print(match)\n"
   ]
  },
  {
   "cell_type": "markdown",
   "id": "349786f4",
   "metadata": {},
   "source": [
    "### write a pattern that find dogs and dog"
   ]
  },
  {
   "cell_type": "code",
   "execution_count": 91,
   "id": "27face99",
   "metadata": {},
   "outputs": [
    {
     "name": "stdout",
     "output_type": "stream",
     "text": [
      "['dogs', 'dog']\n"
     ]
    }
   ],
   "source": [
    "test_string = \"I like dogs but my dog doesn't like me.\"\n",
    "match=re.findall(r\"\\bd\\w+[g|s]\\b\",test_string)\n",
    "print(match)"
   ]
  },
  {
   "cell_type": "markdown",
   "id": "0ce5893d",
   "metadata": {},
   "source": [
    "### Find all the p's and q's in the test string below."
   ]
  },
  {
   "cell_type": "code",
   "execution_count": 99,
   "id": "b45a6465",
   "metadata": {},
   "outputs": [
    {
     "name": "stdout",
     "output_type": "stream",
     "text": [
      "['Quick', 'pizzaz', 'path', 'queensland']\n"
     ]
    }
   ],
   "source": [
    "test_string = \"Quick, pizzaz shop is closing. Is this a path to queensland?\"\n",
    "match=re.findall(r\"\\b[q|Q|p|P]\\w+\",test_string)\n",
    "print(match)"
   ]
  },
  {
   "cell_type": "markdown",
   "id": "c98411df",
   "metadata": {},
   "source": [
    "### find everything except t in word"
   ]
  },
  {
   "cell_type": "code",
   "execution_count": 92,
   "id": "9bbbacf8",
   "metadata": {},
   "outputs": [
    {
     "name": "stdout",
     "output_type": "stream",
     "text": [
      "['h', 'e', ' ', 'q', 'u', 'i', 'c', 'k', ' ', 'b', 'r', 'o', 'w', 'n', ' ', 'f', 'o', 'x', ' ', 'j', 'u', 'm', 'p', 'e', 'd', ' ', 'o', 'v', 'e', 'r', ' ', 'h', 'e', ' ', 'l', 'a', 'z', 'y', ' ', 'd', 'o', 'g']\n"
     ]
    }
   ],
   "source": [
    "test_string = 'the quick brown fox jumped over the lazy dog'\n",
    "match=re.findall(r\"[^t]\",test_string)\n",
    "print(match)"
   ]
  },
  {
   "cell_type": "markdown",
   "id": "0a5fe3d5",
   "metadata": {},
   "source": [
    "### Find all the ^ characters in the following test sentence."
   ]
  },
  {
   "cell_type": "code",
   "execution_count": 96,
   "id": "b7fbad63",
   "metadata": {},
   "outputs": [
    {
     "name": "stdout",
     "output_type": "stream",
     "text": [
      "['^', '^', '^', '^5']\n"
     ]
    }
   ],
   "source": [
    "test_string = \"\"\"You can match the characters not listed within the class by complementing the set. \n",
    "\n",
    "This is indicated by including a ^ as the first character of the class; \n",
    "\n",
    "^ outside a character class will simply match the ^ character. \n",
    "\n",
    "For example, [^5] will match any character except 5.\"\"\"\n",
    "match=re.findall(r\"\\^\\w*\",test_string)\n",
    "print(match)"
   ]
  },
  {
   "cell_type": "markdown",
   "id": "58d7df6a",
   "metadata": {},
   "source": [
    "### Find all three digit prices in the following test sentence."
   ]
  },
  {
   "cell_type": "code",
   "execution_count": 100,
   "id": "fbcacc0f",
   "metadata": {},
   "outputs": [
    {
     "name": "stdout",
     "output_type": "stream",
     "text": [
      "['$999', '$550']\n"
     ]
    }
   ],
   "source": [
    "test_string = 'The Mac book cost over $999, while the windows system can be bought for less than $550.'\n",
    "match=re.findall(r\"\\$\\d+\",test_string)\n",
    "print(match)"
   ]
  },
  {
   "cell_type": "markdown",
   "id": "68c157e4",
   "metadata": {},
   "source": [
    "### Find all prices in the following test sentence."
   ]
  },
  {
   "cell_type": "code",
   "execution_count": 101,
   "id": "926782ec",
   "metadata": {},
   "outputs": [
    {
     "name": "stdout",
     "output_type": "stream",
     "text": [
      "['$999', '$550', '$1200', '$2500', '$30', '$390']\n"
     ]
    }
   ],
   "source": [
    "test_string = \"\"\"The iPhone X costs over $999, while the Android cost around $550.\n",
    "\n",
    "Apple's MacBook Pro costs $1200, while razer blade cost $2500.\n",
    "\n",
    "A new charger for iphone cost over $30.\n",
    "\n",
    "Bose headphone cost around $390\n",
    "\n",
    "\"\"\"\n",
    "match=re.findall(r\"\\$\\d+\",test_string)\n",
    "print(match)"
   ]
  },
  {
   "cell_type": "markdown",
   "id": "7261c62f",
   "metadata": {},
   "source": [
    "### find all the better in the given text"
   ]
  },
  {
   "cell_type": "code",
   "execution_count": 103,
   "id": "0be6f0af",
   "metadata": {},
   "outputs": [
    {
     "name": "stdout",
     "output_type": "stream",
     "text": [
      "['better', 'better', 'better', 'better', 'better', 'better', 'better', 'better']\n"
     ]
    }
   ],
   "source": [
    "robot_string = '''The Zen of Python, by Tim Peters\n",
    "\n",
    "Beautiful is better than ugly.\n",
    "Explicit is better than implicit.\n",
    "Simple is better than complex.\n",
    "Complex is better than complicated.\n",
    "Flat is better than nested.\n",
    "Sparse is better than dense.\n",
    "Readability counts.\n",
    "Special cases aren't special enough to break the rules.\n",
    "Although practicality beats purity.\n",
    "Errors should never pass silently.\n",
    "Unless explicitly silenced.\n",
    "In the face of ambiguity, refuse the temptation to guess.\n",
    "There should be one-- and preferably only one --obvious way to do it.\n",
    "Although that way may not be obvious at first unless you're Dutch.\n",
    "Now is better than never.\n",
    "Although never is often better than *right* now.\n",
    "If the implementation is hard to explain, it's a bad idea.\n",
    "If the implementation is easy to explain, it may be a good idea.\n",
    "Namespaces are one honking great idea -- let's do more of those!\n",
    "'''\n",
    "match=re.findall(r\"\\bb\\w+r\\b\",robot_string)\n",
    "print(match)"
   ]
  },
  {
   "cell_type": "markdown",
   "id": "ed60f1f2",
   "metadata": {},
   "source": [
    "### find the word that start with bat and end with man"
   ]
  },
  {
   "cell_type": "code",
   "execution_count": 106,
   "id": "c763edc7",
   "metadata": {},
   "outputs": [
    {
     "name": "stdout",
     "output_type": "stream",
     "text": [
      "['Batman', 'batwoman']\n"
     ]
    }
   ],
   "source": [
    "test_string = 'Batman is the best movies, batwoman never herad about it.'\n",
    "match=re.findall(r\"\\b[bat]\\w+[man]\\b\",test_string,re.IGNORECASE)\n",
    "print(match)"
   ]
  },
  {
   "cell_type": "markdown",
   "id": "fe9aa01a",
   "metadata": {},
   "source": [
    "### remove the year form the given list"
   ]
  },
  {
   "cell_type": "code",
   "execution_count": 109,
   "id": "df0f6440",
   "metadata": {},
   "outputs": [
    {
     "name": "stdout",
     "output_type": "stream",
     "text": [
      "Another You ()\n"
     ]
    }
   ],
   "source": [
    "str=\"Another You (1991-2000)\"\n",
    "match=re.sub(r\"\\d+-\\d+\",\"\",str)\n",
    "print(match)"
   ]
  },
  {
   "cell_type": "markdown",
   "id": "0b32ec9f",
   "metadata": {},
   "source": [
    "### write a regex to find the url_name only"
   ]
  },
  {
   "cell_type": "code",
   "execution_count": 114,
   "id": "d3368960",
   "metadata": {},
   "outputs": [
    {
     "name": "stdout",
     "output_type": "stream",
     "text": [
      "['google-map']\n"
     ]
    }
   ],
   "source": [
    "name=\"http://www.google-map.com\" \n",
    "match=re.findall(r\"\\w+-\\w+\",name)\n",
    "print(match)"
   ]
  },
  {
   "cell_type": "markdown",
   "id": "2631ecdd",
   "metadata": {},
   "source": [
    "### use regrex to find the size of the screen"
   ]
  },
  {
   "cell_type": "code",
   "execution_count": 270,
   "id": "082a6031",
   "metadata": {},
   "outputs": [
    {
     "name": "stdout",
     "output_type": "stream",
     "text": [
      "['(15', '(15', '(13', '(17']\n"
     ]
    }
   ],
   "source": [
    "doc=[\"Lenovo IdeaPad S145 Laptop 39,6 cm (15,6 Zoll, 1920x1080, FHD, matt) Slim Notebook (Intel Pentium N5000, 8 GB RAM, 512 GB SSD, Intel UHD-Grafik 605, Windows 10 Home) schwarz\",\n",
    "\"HP Notebook (15,6 Zoll), HD Display, AMD A4 2 x 2.50 GHz, 8 GB RAM, 256 GB SSD, HDMI, AMD R3 Grafik, Webcam, Windows 10 Pro\",\n",
    "'Neu Apple MacBook Air (13\", 1,1 GHz dual-core Intel Core i3 Prozessor der 10. Generation, 8 GB RAM, 256 GB) - Silber',\n",
    "'Lenovo (17,3 Zoll) Notebook (Intel Pentium 5405U 4-Thread CPU, 2.30 GHz, 8GB DDR4 RAM, 256GB SSD, 1000GB, DVD±RW, Intel HD, HDMI, Webcam, Bluetooth, USB3.0, WLAN, Win 10 Prof. 64, MS Office) #6477'\n",
    "]\n",
    "L=[]\n",
    "for i in range(len(doc)):\n",
    "    match=re.search(r\"[^\\d+,\\d\\scm\\s]\\b\\d+\",doc[i] ).group()\n",
    "    L.append(match)\n",
    "print(L)"
   ]
  },
  {
   "cell_type": "markdown",
   "id": "fa1a36a9",
   "metadata": {},
   "source": [
    "### use regrex to find the type of laptop eg: notebook"
   ]
  },
  {
   "cell_type": "code",
   "execution_count": 199,
   "id": "7755be12",
   "metadata": {},
   "outputs": [
    {
     "name": "stdout",
     "output_type": "stream",
     "text": [
      "['Lenovo', 'HP', 'Neu', 'Lenovo']\n"
     ]
    }
   ],
   "source": [
    "L=[]\n",
    "for i in range(len(doc)):\n",
    "    match=re.search(r\"\\w+\",doc[i] ).group()\n",
    "    L.append(match)\n",
    "print(L)"
   ]
  },
  {
   "cell_type": "markdown",
   "id": "f215dce2",
   "metadata": {},
   "source": [
    "### find the type of display"
   ]
  },
  {
   "cell_type": "code",
   "execution_count": 230,
   "id": "4fca0112",
   "metadata": {},
   "outputs": [
    {
     "name": "stdout",
     "output_type": "stream",
     "text": [
      "[['FHD', 'UHD'], ['HD'], [], ['HD']]\n"
     ]
    }
   ],
   "source": [
    "L=[]\n",
    "for i in range(len(doc)):\n",
    "    match=re.findall(r\"\\w*[H][D]\\b\",doc[i] )\n",
    "    L.append(match)\n",
    "print(L)"
   ]
  },
  {
   "cell_type": "markdown",
   "id": "11f7b5bd",
   "metadata": {},
   "source": [
    "### find the disk capacity size"
   ]
  },
  {
   "cell_type": "code",
   "execution_count": 234,
   "id": "1f4c817f",
   "metadata": {},
   "outputs": [
    {
     "name": "stdout",
     "output_type": "stream",
     "text": [
      "[['8 GB', '512 GB'], ['8 GB', '256 GB'], ['8\\xa0GB', '256 GB'], ['8GB', '256GB', '1000GB']]\n"
     ]
    }
   ],
   "source": [
    "L=[]\n",
    "for i in range(len(doc)):\n",
    "    match=re.findall(r\"\\b\\d*\\s?[G][B]\\b\",doc[i] )\n",
    "    L.append(match)\n",
    "print(L)"
   ]
  },
  {
   "cell_type": "markdown",
   "id": "d42f9981",
   "metadata": {},
   "source": [
    "### write a expressoion to get a name and phonenumber for the person whose name start with j and end with neu"
   ]
  },
  {
   "cell_type": "code",
   "execution_count": 242,
   "id": "0f253ec2",
   "metadata": {},
   "outputs": [
    {
     "name": "stdout",
     "output_type": "stream",
     "text": [
      "['Jack Neu 555-7666', 'Jeb Neu 555-5543', 'Jennifer Neu 555-3652']\n"
     ]
    }
   ],
   "source": [
    "phones=\"\"\"Earn Cash For Your Teeth 555-6312\n",
    "Family Therapy Center 555-HUGS\n",
    "Homer Jay Simpson (Plow King episode) 555-3223\n",
    "Homer Jay Simpson (work) 555-7334\n",
    "Jack Neu 555-7666\n",
    "Jeb Neu 555-5543\n",
    "Jennifer Neu 555-3652\n",
    "Ken Neu 555-8752\n",
    "Lionel Putz 555-5299\n",
    "MAD Magazine 555-8628\n",
    "Marital Street Hotline 555-1680\n",
    "Marvin Monroe 555-3700\n",
    "Marvin Monroe's radio therapy show 555-PAIN\n",
    "Moe Szyslak (phone number spells SMITHERS) 7648-4377\n",
    "Moe Szyslak 555-0000\n",
    "Moe's Tavern 555-1239\n",
    "Mr. Plow 555-3226\"\"\"\n",
    "\n",
    "match=re.findall(r\"\\b[J]\\w+\\s\\b[Neu]\\w+\\s\\d+-\\d+\",phones )\n",
    "print(match)"
   ]
  },
  {
   "cell_type": "markdown",
   "id": "5513036e",
   "metadata": {},
   "source": [
    "### from the given input find the month either feb or feburary and the year"
   ]
  },
  {
   "cell_type": "code",
   "execution_count": 249,
   "id": "a9ec822c",
   "metadata": {},
   "outputs": [
    {
     "name": "stdout",
     "output_type": "stream",
     "text": [
      "['February 2011', 'Feb 2012', 'Feb 2016']\n"
     ]
    }
   ],
   "source": [
    "#output[('February', '2011'), ('Feb', '2012'), ('Feb', '2016')]\n",
    "year=\" February 2011 and Feb 2012 was the worst year the Feb 2016\"\n",
    "match=re.findall(r\"\\b[F]\\w+\\s\\d+\",year)\n",
    "print(match)\n"
   ]
  },
  {
   "cell_type": "markdown",
   "id": "018a520d",
   "metadata": {},
   "source": [
    "### from the given tag get the text as:"
   ]
  },
  {
   "cell_type": "code",
   "execution_count": 40,
   "id": "ba376f1c",
   "metadata": {},
   "outputs": [
    {
     "name": "stdout",
     "output_type": "stream",
     "text": [
      "['<composer> steven wilson ', '<author> wilson ', '<city> kingston ', '<band>porcupine tree', '<song>Yellow Hedgerow Dreamscape']\n"
     ]
    }
   ],
   "source": [
    "import re\n",
    " \n",
    "a=\"\"\"<composer> steven wilson </composer>\n",
    "    <author> wilson </author>\n",
    "    <city> kingston </city>\n",
    "    <band>porcupine tree</band>\n",
    "    <song>Yellow Hedgerow Dreamscape</song>\"\"\"\n",
    "\n",
    "match=re.findall(r\"\\<\\w+\\>\\s*\\w*\\s*\\w*\\s*\\w*\",a)\n",
    "print(match)\n",
    "    "
   ]
  },
  {
   "cell_type": "markdown",
   "id": "e85c3450",
   "metadata": {},
   "source": [
    "### from the given list of string print get the output as"
   ]
  },
  {
   "cell_type": "code",
   "execution_count": null,
   "id": "27f011f4",
   "metadata": {},
   "outputs": [],
   "source": [
    "Allison Neu 99-12332-213123\n",
    "Lionel Messi 123-5435-453534\n",
    "Mark zukerberg 555-5299-32\n",
    "Homer Jay Simpson 55-7334-324\n",
    "using regex hint: use a grouping from re.search method\n",
    "    "
   ]
  },
  {
   "cell_type": "code",
   "execution_count": 285,
   "id": "3cf9fe47",
   "metadata": {},
   "outputs": [
    {
     "name": "stdout",
     "output_type": "stream",
     "text": [
      "('Allison', ' Neu,', '99-12332-21312')\n",
      "('Lionel', ' Messi,', '123-5435-45353')\n",
      "('Mark', ' zukerberg,', '555-5299-3')\n",
      "('Jay', ' Simpson,', '55-7334-32')\n"
     ]
    }
   ],
   "source": [
    "l = [\"99-12332-213123 Neu, Allison\", \n",
    "     \" 123-5435-453534 Messi, Lionel\", \n",
    "     \"555-5299-32 zukerberg, Mark\",\n",
    "     \"55-7334-324 Simpson, Homer Jay\"]\n",
    "\n",
    "for i in range(len(l)):\n",
    "    match=re.search(r\"(\\d+-\\d+-\\d+).+(\\s\\w+\\,).+(\\b\\w+)\",l[i])\n",
    "    print(match.group(3,2,1))\n",
    "\n",
    "\n"
   ]
  },
  {
   "cell_type": "markdown",
   "id": "40a7a507",
   "metadata": {},
   "source": [
    "### from the given string use a named capturing group to get the the hour,min,sec ."
   ]
  },
  {
   "cell_type": "code",
   "execution_count": 239,
   "id": "71fb1e9f",
   "metadata": {},
   "outputs": [
    {
     "data": {
      "text/plain": [
       "{'hour': '12', 'min': '48', 'sec': '13'}"
      ]
     },
     "execution_count": 239,
     "metadata": {},
     "output_type": "execute_result"
    }
   ],
   "source": [
    "s = \"Sun Oct 14 12:48:13 CEST 2021\"\n",
    "match=re.search(r\"(?P<hour>\\d+):?(?P<min>\\d+):?(?P<sec>\\d+)\",s)\n",
    "match.groupdict()"
   ]
  },
  {
   "cell_type": "markdown",
   "id": "cf80ae31",
   "metadata": {},
   "source": [
    "### from the given string get the cities name only and append it in a list"
   ]
  },
  {
   "cell_type": "code",
   "execution_count": 264,
   "id": "54b93e80",
   "metadata": {},
   "outputs": [
    {
     "name": "stdout",
     "output_type": "stream",
     "text": [
      "['Bremen', 'Hannover', 'Duisburg', 'Leipzig', 'Nürnberg', 'Dresden', 'Bochum', 'Wuppertal', 'Bielefeld', 'Mannheim']\n"
     ]
    }
   ],
   "source": [
    "cities=\"\"\"1.  Berlin          3.382.169 Berlin\n",
    "2.  Hamburg         1.715.392 Hamburg\n",
    "3.  München         1.210.223 Bayern\n",
    "4.  Köln              962.884 Nordrhein-Westfalen\n",
    "5.  Frankfurt am Main 646.550 Hessen\n",
    "6.  Essen             595.243 Nordrhein-Westfalen\n",
    "7.  Dortmund          588.994 Nordrhein-Westfalen\n",
    "8.  Stuttgart         583.874 Baden-Württemberg\n",
    "9.  Düsseldorf        569.364 Nordrhein-Westfalen\n",
    "10. Bremen            539.403 Bremen\n",
    "11. Hannover          515.001 Niedersachsen\n",
    "12. Duisburg          514.915 Nordrhein-Westfalen\n",
    "13. Leipzig           493.208 Sachsen\n",
    "14. Nürnberg          488.400 Bayern\n",
    "15. Dresden           477.807 Sachsen\n",
    "16. Bochum            391.147 Nordrhein-Westfalen\n",
    "17. Wuppertal         366.434 Nordrhein-Westfalen\n",
    "18. Bielefeld         321.758 Nordrhein-Westfalen\n",
    "19. Mannheim          306.729 Baden-Württemberg\"\"\"\n",
    "match=re.findall(r\"(?<=\\.\\s)\\w+\",cities)\n",
    "print(match)\n"
   ]
  },
  {
   "cell_type": "markdown",
   "id": "5a61d690",
   "metadata": {},
   "source": [
    "### write a expression to get first name , last name and position"
   ]
  },
  {
   "cell_type": "code",
   "execution_count": 292,
   "id": "daa570cc",
   "metadata": {},
   "outputs": [
    {
     "name": "stdout",
     "output_type": "stream",
     "text": [
      "['Trump', 'Donald', 'ex.president']\n",
      "['Merkel', 'Angela', 'chancellor']\n",
      "['Biden', 'joe', 'president']\n",
      "['musk', 'elon', 'enturperuner']\n"
     ]
    }
   ],
   "source": [
    "lines = [\"surname: Trump, prename: Donald, profession: ex.president\", \n",
    "\"surname: Merkel, prename: Angela, profession: chancellor\",\n",
    "\"surname: Biden , prename: joe , profession: president\",\n",
    "\"surname: musk prename: elon, profession: enturperuner\"]\n",
    "\n",
    "for i in range(len(lines)):\n",
    "    match=re.findall(r\"(?<=\\:\\s)\\w+\\.?\\w*\",lines[i])\n",
    "    print(match)\n",
    "    "
   ]
  },
  {
   "cell_type": "markdown",
   "id": "b19d2fed",
   "metadata": {},
   "source": [
    "### from a given text write a expression to get the"
   ]
  },
  {
   "cell_type": "code",
   "execution_count": null,
   "id": "86b1bc46",
   "metadata": {},
   "outputs": [],
   "source": [
    "1289,T83456\n",
    "1289,Z22334\n",
    "1205,T10032\n",
    "1205,B77301\n",
    "1205,T10786\n",
    "1205,C77502\n",
    "1410,K34001\n",
    "1410,T98987"
   ]
  },
  {
   "cell_type": "code",
   "execution_count": 138,
   "id": "139a4079",
   "metadata": {},
   "outputs": [
    {
     "name": "stdout",
     "output_type": "stream",
     "text": [
      "1289,T83456\n",
      "\n",
      "1289,Z22334\n",
      "\n",
      "1205,T10032\n",
      "\n",
      "1205,B77301\n",
      "\n",
      "1205,T10786\n",
      "\n",
      "1205,C77502\n",
      "\n",
      "1410,K34001\n",
      "\n",
      "1410,T98987\n",
      "\n"
     ]
    }
   ],
   "source": [
    "text=\"\"\"customer-id 1289\n",
    "T83456\n",
    "customer-id 1289\n",
    "customer-id 1205\n",
    "T10032\n",
    "B77301\n",
    "customer-id 1205\n",
    "customer-id 1410\n",
    "K34001\n",
    "T98987\n",
    "customer-id 1410\n",
    "customer-id 1205\n",
    "T10786\n",
    "C77502\n",
    "customer-id 1205\n",
    "customer-id 1289\n",
    "Z22334\n",
    "customer-id 1289\"\"\"\n",
    "\n",
    "data = {}    \n",
    "for x in re.finditer(r\"customer-id ([\\d+]{4})(.*?)customer-id\", text, re.DOTALL):\n",
    "    key, values = x.groups()\n",
    "\n",
    "    if key in data:                                                               \n",
    "        data[key] += values\n",
    "    else:\n",
    "        data[key] = values\n",
    "for key in data:\n",
    "    for j in data[key].split():\n",
    "        print(f\"{key},{j}\\n\")\n",
    "             "
   ]
  },
  {
   "cell_type": "markdown",
   "id": "60f41c2c",
   "metadata": {},
   "source": [
    "### open a file code.txt and search for all the city and post code in the a text file ."
   ]
  },
  {
   "cell_type": "code",
   "execution_count": 108,
   "id": "b2307116",
   "metadata": {},
   "outputs": [
    {
     "name": "stdout",
     "output_type": "stream",
     "text": [
      "{'OSLO': ['0001', '0010', '0015', '0018', '0021', '0024', '0026', '0028', '0030', '0031', '0032', '0033', '0034', '0037', '0040', '0045', '0046', '0047', '0048', '0050', '0055', '0060', '0081', '0101', '0102', '0103', '0104', '0105', '0106', '0107', '0109', '0110', '0111', '0112', '0113', '0114', '0115', '0116', '0117', '0118', '0119', '0120', '0121', '0122', '0123', '0124', '0125', '0128', '0129', '0130', '0131', '0132', '0133', '0134', '0135', '0136', '0138', '0139', '0140', '0150', '0151', '0152', '0153', '0154', '0155', '0157', '0158', '0159', '0160', '0161', '0162', '0164', '0165', '0166', '0167', '0168', '0169', '0170', '0171', '0172', '0173', '0174', '0175', '0176', '0177', '0178', '0179', '0180', '0181', '0182', '0183', '0184', '0185', '0186', '0187', '0188', '0190', '0191', '0192', '0193', '0194', '0195', '0196', '0198', '0201', '0202', '0203', '0204', '0207', '0208', '0211', '0212', '0213', '0214', '0215', '0216', '0217', '0218', '0230', '0240', '0244', '0247', '0250', '0251', '0252', '0253', '0254', '0255', '0256', '0257', '0258', '0259', '0260', '0262', '0263', '0264', '0265', '0266', '0267', '0268', '0270', '0271', '0272', '0273', '0274', '0275', '0276', '0277', '0278', '0279', '0280', '0281', '0282', '0283', '0284', '0286', '0287', '0301', '0302', '0303', '0304', '0305', '0306', '0307', '0308', '0309', '0311', '0313', '0314', '0315', '0316', '0317', '0318', '0319', '0323', '0330', '0340', '0349', '0350', '0351', '0352', '0353', '0354', '0355', '0356', '0357', '0358', '0359', '0360', '0361', '0362', '0363', '0364', '0365', '0366', '0367', '0368', '0369', '0370', '0371', '0372', '0373', '0374', '0375', '0376', '0377', '0378', '0379', '0380', '0381', '0382', '0383', '0401', '0402', '0403', '0404', '0405', '0406', '0409', '0410', '0411', '0412', '0413', '0415', '0421', '0422', '0423', '0424', '0440', '0441', '0442', '0445', '0450', '0451', '0452', '0454', '0455', '0456', '0457', '0458', '0459', '0460', '0461', '0462', '0463', '0464', '0465', '0467', '0468', '0469', '0470', '0472', '0473', '0474', '0475', '0476', '0477', '0478', '0479', '0480', '0481', '0482', '0483', '0484', '0485', '0486', '0487', '0488', '0489', '0490', '0491', '0492', '0493', '0494', '0495', '0496', '0501', '0502', '0503', '0504', '0505', '0506', '0507', '0508', '0509', '0510', '0511', '0512', '0513', '0515', '0516', '0517', '0518', '0520', '0540', '0550', '0551', '0552', '0553', '0554', '0555', '0556', '0557', '0558', '0559', '0560', '0561', '0562', '0563', '0564', '0565', '0566', '0567', '0568', '0569', '0570', '0571', '0572', '0573', '0574', '0575', '0576', '0577', '0578', '0579', '0580', '0581', '0582', '0583', '0584', '0585', '0586', '0587', '0588', '0589', '0590', '0591', '0592', '0593', '0594', '0595', '0596', '0597', '0598', '0601', '0602', '0603', '0604', '0605', '0606', '0607', '0608', '0609', '0611', '0612', '0613', '0614', '0615', '0616', '0617', '0618', '0619', '0620', '0621', '0622', '0623', '0624', '0626', '0650', '0651', '0652', '0653', '0654', '0655', '0656', '0657', '0658', '0659', '0660', '0661', '0662', '0663', '0664', '0665', '0666', '0667', '0668', '0669', '0670', '0671', '0672', '0673', '0674', '0675', '0676', '0677', '0678', '0679', '0680', '0681', '0682', '0683', '0684', '0685', '0686', '0687', '0688', '0689', '0690', '0691', '0692', '0693', '0694', '0701', '0702', '0705', '0710', '0712', '0750', '0751', '0752', '0753', '0754', '0755', '0756', '0757', '0758', '0760', '0763', '0764', '0765', '0766', '0767', '0768', '0770', '0771', '0772', '0773', '0774', '0775', '0776', '0777', '0778', '0779', '0781', '0782', '0783', '0784', '0785', '0786', '0787', '0788', '0789', '0790', '0791', '0801', '0805', '0806', '0807', '0840', '0850', '0851', '0852', '0853', '0854', '0855', '0856', '0857', '0858', '0860', '0861', '0862', '0863', '0864', '0870', '0871', '0872', '0873', '0874', '0875', '0876', '0877', '0880', '0881', '0882', '0883', '0884', '0890', '0891', '0901', '0902', '0903', '0904', '0905', '0907', '0908', '0913', '0914', '0915', '0950', '0951', '0952', '0953', '0954', '0955', '0956', '0957', '0958', '0959', '0960', '0962', '0963', '0964', '0968', '0969', '0970', '0971', '0972', '0973', '0975', '0976', '0977', '0978', '0979', '0980', '0981', '0982', '0983', '0984', '0985', '0986', '0987', '0988', '1001', '1003', '1005', '1006', '1007', '1008', '1009', '1011', '1051', '1052', '1053', '1054', '1055', '1056', '1061', '1062', '1063', '1064', '1065', '1067', '1068', '1069', '1071', '1081', '1083', '1084', '1086', '1087', '1088', '1089', '1101', '1102', '1108', '1109', '1112', '1150', '1151', '1152', '1153', '1154', '1155', '1156', '1157', '1158', '1160', '1161', '1162', '1163', '1164', '1165', '1166', '1167', '1168', '1169', '1170', '1172', '1176', '1177', '1178', '1179', '1181', '1182', '1184', '1185', '1187', '1188', '1189', '1201', '1203', '1204', '1205', '1207', '1214', '1215', '1250', '1251', '1252', '1253', '1254', '1255', '1256', '1257', '1258', '1259', '1262', '1263', '1266', '1270', '1271', '1272', '1273', '1274', '1275', '1278', '1279', '1281', '1283', '1284', '1285', '1286', '1290', '1291', '1294', '1295'], 'SANDVIKA': ['1300', '1301', '1302', '1303', '1304', '1306', '1336', '1337', '1338'], 'HASLUM': ['1305', '1344'], 'FORNEBU': ['1307', '1330', '1331', '1360', '1364'], 'JAR': ['1308', '1358'], 'RUD': ['1309', '1351'], 'HØVIKODDEN': ['1311'], 'SLEPENDEN': ['1312', '1341'], 'VØYENENGA': ['1313', '1314', '1339'], 'EIKSMARKA': ['1316', '1359'], 'BÆRUMS': ['1317', '1353', '1354'], 'BEKKESTUA': ['1318', '1319', '1356', '1357'], 'STABEKK': ['1321', '1368', '1369'], 'HØVIK': ['1322', '1323', '1328', '1363'], 'LYSAKER': ['1324', '1325', '1326', '1327', '1366'], 'LOMMEDALEN': ['1329', '1350'], 'ØSTERÅS': ['1332', '1361'], 'KOLSÅS': ['1333', '1352'], 'RYKKINN': ['1334', '1348', '1349'], 'SNARØYA': ['1335', '1367'], 'SKUI': ['1340'], 'GJETTUM': ['1342', '1346'], 'HOSLE': ['1362'], 'BLOMMENHOLM': ['1365'], 'ASKER': ['1371', '1372', '1373', '1383', '1384', '1385', '1386', '1387', '1399'], 'BILLINGSTAD': ['1375', '1376', '1377', '1396'], 'NESBRU': ['1378', '1379', '1394'], 'HEGGEDAL': ['1380', '1389'], 'VETTRE': ['1381', '1392'], 'BORGEN': ['1388'], 'VOLLEN': ['1390', '1391', '1393'], 'HVALSTAD': ['1395'], 'NESØYA': ['1397'], 'SKI': ['1400', '1401', '1402', '1406', '1423', '1424', '1425'], 'LANGHUS': ['1403', '1405'], 'SIGGERUD': ['1404', '1422'], 'VINTERBRO': ['1407', '1429'], 'KRÅKSTAD': ['1408'], 'SKOTBU': ['1409'], 'KOLBOTN': ['1410', '1411', '1418'], 'SOFIEMYR': ['1412', '1417'], 'TÅRNÅSEN': ['1413'], 'TROLLÅSEN': ['1414', '1421'], 'OPPEGÅRD': ['1415', '1416', '1419'], 'SVARTSKOG': ['1420'], 'ÅS': ['1430', '1431', '1432', '1433', '1434', '1435'], 'DRØBAK': ['1440', '1441', '1442', '1443', '1444', '1445', '1446', '1447', '1448', '1449'], 'NESODDTANGEN': ['1450', '1451', '1452', '1456'], 'BJØRNEMYR': ['1453'], 'FAGERSTRAND': ['1454', '1457'], 'NORDRE': ['1455', '2820', '9609'], 'FJELLSTRAND': ['1458'], 'NESODDEN': ['1459'], 'LØRENSKOG': ['1461', '1470', '1471', '1473', '1474', '1478'], 'FJELLHAMAR': ['1462', '1463', '1464', '1472', '1477'], 'STRØMMEN': ['1465', '1466', '1467', '2010', '2011'], 'FINSTADJORDET': ['1468', '1475'], 'RASTA': ['1469', '1476'], 'KURLAND': ['1479'], 'SLATTUM': ['1480'], 'HAGAN': ['1481', '1483'], 'NITTEDAL': ['1482', '1486'], 'HAKADAL': ['1484', '1485', '1487', '1488'], 'MOSS': ['1501', '1502', '1503', '1504', '1506', '1508', '1509', '1510', '1511', '1512', '1513', '1514', '1515', '1516', '1517', '1518', '1519', '1520', '1521', '1522', '1523', '1524', '1525', '1526', '1528', '1529', '1530', '1531', '1532', '1533', '1534', '1535', '1536', '1537', '1538', '1539', '1596', '1597', '1598', '1599'], 'VESTBY': ['1540', '1541', '1542', '1543', '1544'], 'HVITSTEN': ['1545'], 'HØLEN': ['1550'], 'SON': ['1555', '1556'], 'LARKOLLEN': ['1560', '1561'], 'DILLING': ['1570'], 'RYGGE': ['1580', '1581', '1590'], 'SPERREBOTN': ['1591'], 'VÅLER': ['1592', '1594', '2436'], 'SVINNDAL': ['1593'], 'FREDRIKSTAD': ['1601', '1602', '1604', '1605', '1606', '1607', '1608', '1609', '1610', '1612', '1613', '1614', '1615', '1616', '1617', '1618', '1619'], 'GRESSVIK': ['1620', '1621', '1622', '1623', '1624'], 'MANSTAD': ['1625', '1626'], 'ENGELSVIKEN': ['1628'], 'GAMLE': ['1629', '1630', '1632', '1633', '1634', '1636', '1637', '1638', '1639'], 'RÅDE': ['1640', '1641', '1643'], 'SALTNES': ['1642'], 'SELLEBAKK': ['1650', '1651', '1653', '1654', '1655'], 'TORP': ['1657', '1658', '1659'], 'ROLVSØY': ['1661', '1662', '1663', '1664', '1665', '1666', '1667'], 'KRÅKERØY': ['1670', '1671', '1672', '1673', '1675', '1676', '1678', '1679'], 'SKJÆRHALDEN': ['1680', '1682'], 'VESTERØY': ['1683', '1684'], 'HERFØL': ['1690'], 'NEDGÅRDEN': ['1692'], 'SARPSBORG': ['1701', '1702', '1703', '1704', '1705', '1706', '1707', '1708', '1709', '1710', '1711', '1721', '1722', '1723', '1724', '1725', '1726', '1727'], 'GRÅLUM': ['1712', '1713', '1714'], 'YVEN': ['1715'], 'GREÅKER': ['1718', '1719', '1720'], 'ISE': ['1730'], 'HAFSLUNDSØY': ['1733', '1734'], 'VARTEIG': ['1735'], 'BORGENHAUGEN': ['1738', '1739', '1740'], 'KLAVESTADHAUGEN': ['1742', '1743'], 'SKJEBERG': ['1745', '1746', '1747'], 'HALDEN': ['1751', '1752', '1753', '1754', '1757', '1759', '1760', '1761', '1762', '1763', '1764', '1765', '1766', '1767', '1768', '1769', '1771', '1772', '1776', '1777', '1778', '1779', '1781', '1782', '1783', '1784', '1785', '1786', '1787', '1788'], 'BERG': ['1789'], 'TISTEDAL': ['1790', '1791', '1792', '1793'], 'SPONVIKA': ['1794'], 'KORNSJØ': ['1796'], 'AREMARK': ['1798', '1799'], 'ASKIM': ['1801', '1802', '1803', '1807', '1808', '1809', '1811', '1812', '1813', '1814', '1815', '1830', '1831', '1832', '1833'], 'SPYDEBERG': ['1804', '1820', '1821'], 'TOMTER': ['1805', '1825'], 'SKIPTVET': ['1806', '1816'], 'KNAPSTAD': ['1823'], 'HOBØL': ['1827', '1828'], 'MYSEN': ['1850', '1851', '1852'], 'SLITU': ['1859'], 'TRØGSTAD': ['1860', '1861'], 'BÅSTAD': ['1866', '1867'], 'ØRJE': ['1870', '1871'], 'OTTEID': ['1875'], 'HÆRLAND': ['1878'], 'EIDSBERG': ['1880'], 'RAKKESTAD': ['1890', '1891', '1894'], 'DEGERNES': ['1892', '1893'], 'FETSUND': ['1900', '1901'], 'GAN': ['1903'], 'ENEBAKKNESET': ['1910'], 'FLATEBY': ['1911', '1916'], 'ENEBAKK': ['1912'], 'YTRE': ['1914', '1917', '5265', '7207', '8128'], 'SØRUMSAND': ['1920', '1921'], 'SØRUM': ['1923', '1924'], 'BLAKER': ['1925', '1926'], 'RÅNÅSFOSS': ['1927'], 'AULI': ['1928', '1929'], 'AURSKOG': ['1930', '1931'], 'BJØRKELANGEN': ['1940', '1941'], 'RØMSKOG': ['1950'], 'SETSKOG': ['1954'], 'LØKEN': ['1960', '1961'], 'FOSSER': ['1963'], 'HEMNES': ['1970', '1971'], 'LILLESTRØM': ['2000', '2001', '2003', '2004', '2012', '2028'], 'RÆLINGEN': ['2005', '2029'], 'LØVENSTAD': ['2006', '2018'], 'KJELLER': ['2007', '2027'], 'FJERDINGBY': ['2008', '2025'], 'NORDBY': ['2009'], 'SKJETTEN': ['2013', '2026'], 'BLYSTADLIA': ['2014'], 'LEIRSUND': ['2015'], 'FROGNER': ['2016', '2017'], 'SKEDSMOKORSET': ['2019', '2020', '2021', '2023'], 'GJERDRUM': ['2022', '2024'], 'NANNESTAD': ['2030', '2031'], 'MAURA': ['2032', '2036'], 'ÅSGREINA': ['2033'], 'HOLTER': ['2034', '2035'], 'KLØFTA': ['2040', '2041'], 'JESSHEIM': ['2050', '2051', '2052', '2053', '2057', '2062', '2063', '2066', '2067', '2068', '2069'], 'MOGREINA': ['2054'], 'NORDKISA': ['2055'], 'ALGARHEIM': ['2056'], 'SESSVOLLMOEN': ['2058'], 'GARDERMOEN': ['2060', '2061'], 'RÅHOLT': ['2070', '2071'], 'DAL': ['2072', '2076'], 'BØN': ['2073'], 'EIDSVOLL': ['2074', '2080', '2081'], 'HURDAL': ['2090', '2091'], 'MINNESUND': ['2092', '2094'], 'FEIRING': ['2093'], 'SKARNES': ['2100', '2101'], 'SLÅSTAD': ['2110'], 'DISENÅ': ['2114'], 'SANDER': ['2116'], 'SAGSTUA': ['2120', '2121'], 'BRUVOLL': ['2123'], 'KNAPPER': ['2130'], 'GARDVIK': ['2132', '2133'], 'AUSTVATN': ['2134'], 'ÅRNES': ['2150', '2151'], 'VORMSUND': ['2160', '2161'], 'BRÅRUD': ['2162'], 'SKOGBYGDA': ['2163', '2164'], 'HVAM': ['2165', '2167'], 'OPPAKER': ['2166'], 'FENSTAD': ['2170'], 'KONGSVINGER': ['2201', '2202', '2203', '2204', '2205', '2206', '2207', '2208', '2209', '2211', '2212', '2213', '2214', '2225', '2226'], 'GRANLI': ['2210'], 'ROVERUD': ['2215', '2216'], 'HOKKÅSEN': ['2217'], 'LUNDERSÆTER': ['2218'], 'BRANDVAL': ['2219'], 'ÅBOGEN': ['2220'], 'GALTERUD': ['2223'], 'AUSTMARKA': ['2224', '2227'], 'SKOTTERUD': ['2230', '2231'], 'TOBØL': ['2232'], 'VESTMARKA': ['2233'], 'MATRAND': ['2235'], 'MAGNOR': ['2240', '2241'], 'GRUE': ['2251', '2256'], 'KIRKENÆR': ['2260', '2261'], 'GRINDER': ['2264'], 'NAMNÅ': ['2265'], 'ARNEBERG': ['2266'], 'FLISA': ['2270', '2271'], 'GJESÅSEN': ['2280'], 'ÅSNES': ['2283'], 'HAMAR': ['2301', '2302', '2303', '2304', '2305', '2306', '2307', '2308', '2309', '2311', '2315', '2316', '2317', '2318', '2319', '2321', '2325', '2326'], 'OTTESTAD': ['2312', '2313', '2314'], 'FURNES': ['2320', '2327'], 'RIDABU': ['2322', '2328'], 'INGEBERG': ['2323'], 'VANG': ['2324', '2329', '2974', '2975'], 'VALLSET': ['2330', '2331'], 'ÅSVANG': ['2332'], 'ROMEDAL': ['2333', '2334'], 'STANGE': ['2335', '2336'], 'TANGEN': ['2337', '2339'], 'ESPA': ['2338'], 'LØTEN': ['2340', '2341'], 'ILSENG': ['2344', '2346'], 'ÅDALSBRUK': ['2345'], 'NES': ['2350', '2351', '3523', '3524', '4934'], 'STAVSJØ': ['2353'], 'GAUPEN': ['2355'], 'RUDSHØGDA': ['2360', '2361'], 'NÆROSET': ['2364'], 'ÅSMARKA': ['2365'], 'BRØTTUM': ['2372', '2373'], 'BRUMUNDDAL': ['2380', '2381', '2382', '2383', '2384', '2385', '2386', '2387', '2388', '2389'], 'MOELV': ['2390', '2391'], 'ELVERUM': ['2401', '2402', '2403', '2404', '2405', '2406', '2407', '2408', '2409', '2411', '2413', '2414', '2417', '2418', '2419'], 'HERNES': ['2410'], 'SØRSKOGBYGDA': ['2412'], 'HERADSBYGD': ['2415', '2442'], 'JØMNA': ['2416'], 'TRYSIL': ['2420', '2421'], 'NYBERGSUND': ['2422'], 'ØSTBY': ['2423', '2424'], 'LJØRDALEN': ['2425', '2426'], 'PLASSEN': ['2427'], 'SØRE': ['2428', '2447'], 'TØRBERGET': ['2429'], 'JORDET': ['2430'], 'SLETTÅS': ['2432'], 'BRASKEREIDFOSS': ['2434', '2435'], 'HASLEMOEN': ['2437'], 'GRAVBERGET': ['2438'], 'ENGERDAL': ['2440', '2441'], 'DREVSJØ': ['2443', '2444'], 'ELGÅ': ['2446'], 'SØMÅDALEN': ['2448'], 'RENA': ['2450', '2451'], 'OSEN': ['2460', '2461'], 'ATNA': ['2476'], 'SOLLIA': ['2477'], 'HANESTAD': ['2478'], 'KOPPANG': ['2480', '2481'], 'RENDALEN': ['2484', '2485', '2486', '2487', '2488'], 'TYNSET': ['2500', '2501'], 'TYLLDALEN': ['2510'], 'KVIKNE': ['2512', '2513'], 'TOLGA': ['2540', '2541'], 'VINGELEN': ['2542'], 'ØVERSJØDALEN': ['2544'], 'OS': ['2550', '2551', '5200', '5201', '5202', '5203', '5206', '5208', '5209', '5210', '5211'], 'DALSBYGDA': ['2552'], 'TUFSINGDALEN': ['2555'], 'ALVDAL': ['2560', '2561'], 'FOLLDAL': ['2580', '2581'], 'GRIMSBU': ['2582'], 'DALHOLEN': ['2584'], 'LILLEHAMMER': ['2601', '2602', '2603', '2604', '2605', '2606', '2608', '2609', '2611', '2613', '2614', '2615', '2617', '2618', '2619', '2622', '2623', '2624', '2626', '2629'], 'VINGROM': ['2607', '2621'], 'MESNALI': ['2610', '2620'], 'SJUSJØEN': ['2612', '2628'], 'LISMARKA': ['2616'], 'FÅBERG': ['2625', '2627'], 'RINGEBU': ['2630', '2631'], 'VENABYGD': ['2632'], 'FÅVANG': ['2633', '2634'], 'TRETTEN': ['2635', '2638'], 'ØYER': ['2636', '2637'], 'VINSTRA': ['2639', '2640'], 'KVAM': ['2641', '2642'], 'SKÅBU': ['2643', '2644'], 'SØR-FRON': ['2645', '2647', '2648'], 'GÅLÅ': ['2646'], 'ØSTRE': ['2649', '2651'], 'SVINGVOLL': ['2652'], 'VESTRE': ['2653', '2654', '4152', '4915', '5396', '9802', '9810'], 'FOLLEBU': ['2656'], 'SVATSUM': ['2657'], 'ESPEDALEN': ['2658'], 'DOMBÅS': ['2659', '2660'], 'HJERKINN': ['2661'], 'DOVRE': ['2662', '2664'], 'DOVRESKOGEN': ['2663'], 'LESJA': ['2665', '2671'], 'LORA': ['2666'], 'LESJAVERK': ['2667'], 'LESJASKOG': ['2668'], 'BJORLI': ['2669'], 'OTTA': ['2670', '2675'], 'SEL': ['2672', '2678'], 'HØVRINGEN': ['2673'], 'MYSUSÆTER': ['2674'], 'HEIDAL': ['2676', '2679'], 'NEDRE': ['2677', '3358', '5578'], 'VÅGÅ': ['2680', '2684'], 'LALM': ['2681', '2682'], 'TESSANDEN': ['2683'], 'GARMO': ['2685'], 'LOM': ['2686', '2688'], 'BØVERDALEN': ['2687'], 'SKJÅK': ['2690', '2694'], 'NORDBERG': ['2693'], 'GROTLI': ['2695'], 'GRAN': ['2711', '2750'], 'BRANDBU': ['2712', '2718', '2760'], 'ROA': ['2713', '2740'], 'JAREN': ['2714', '2770'], 'LUNNER': ['2715', '2730'], 'HARESTUA': ['2716', '2743'], 'GRUA': ['2717', '2742'], 'GRINDVOLL': ['2720'], 'GJØVIK': ['2801', '2802', '2803', '2804', '2805', '2806', '2808', '2809', '2810', '2812', '2815', '2816', '2817', '2818', '2819', '2821', '2825'], 'HUNNDALEN': ['2807', '2811', '2827'], 'BYBRUA': ['2822'], 'RAUFOSS': ['2830', '2831', '2833', '2834', '2835'], 'BIRI': ['2832', '2836'], 'BIRISTRAND': ['2837'], 'SNERTINGDAL': ['2838', '2841'], 'ØVRE': ['2839', '5106', '5576', '5784', '6653', '6882', '6884'], 'REINSVOLL': ['2840', '2853'], 'EINA': ['2843', '2854'], 'KOLBU': ['2844', '2847'], 'BØVERBRU': ['2845', '2846'], 'SKREIA': ['2848', '2857'], 'KAPP': ['2849', '2858'], 'LENA': ['2850', '2851'], 'HOV': ['2860', '2867'], 'LANDÅSBYGDA': ['2861'], 'FLUBERG': ['2862'], 'VESTSIDA': ['2863'], 'FALL': ['2864'], 'ENGER': ['2866'], 'DOKKA': ['2870', '2882'], 'ODNES': ['2879'], 'NORD-TORPA': ['2880'], 'AUST-TORPA': ['2881'], 'ETNEDAL': ['2890', '2893'], 'FAGERNES': ['2900', '2901'], 'LEIRA': ['2907', '2920'], 'AURDAL': ['2909', '2910'], 'SKRAUTVÅL': ['2917'], 'ULNES': ['2918'], 'TISLEIDALEN': ['2923'], 'BAGN': ['2929', '2930'], 'REINLI': ['2933'], 'BEGNADALEN': ['2936'], 'BEGNA': ['2937'], 'HEGGENES': ['2939', '2940'], 'ROGNE': ['2943'], 'SKAMMESTEIN': ['2950'], 'BEITO': ['2952'], 'BEITOSTØLEN': ['2953', '2954'], 'RØN': ['2959', '2960'], 'SLIDRE': ['2965', '2966'], 'LOMEN': ['2967'], 'RYFOSS': ['2972', '2973'], 'ØYE': ['2977'], 'TYINKRYSSET': ['2985'], 'DRAMMEN': ['3001', '3002', '3003', '3004', '3005', '3006', '3007', '3008', '3009', '3010', '3011', '3012', '3013', '3014', '3015', '3016', '3017', '3018', '3019', '3021', '3022', '3023', '3024', '3025', '3026', '3027', '3028', '3029', '3030', '3031', '3032', '3033', '3034', '3035', '3036', '3037', '3038', '3039', '3040', '3041', '3042', '3043', '3044', '3045', '3046', '3047', '3048', '3063', '3064', '3065', '3066'], 'MJØNDALEN': ['3050', '3051'], 'STEINBERG': ['3053'], 'KROKSTADELVA': ['3054', '3055'], 'SOLBERGELVA': ['3056', '3057'], 'SOLBERGMOEN': ['3058'], 'SVELVIK': ['3060', '3061'], 'SANDE': ['3070', '3071', '3072', '3073', '3074', '3076', '3077', '6971', '6973'], 'BERGER': ['3075'], 'HOLMESTRAND': ['3080', '3081', '3082', '3083', '3084', '3085', '3086', '3087', '3088', '3089'], 'HOF': ['3090', '3091'], 'SUNDBYFOSS': ['3092'], 'EIDSFOSS': ['3095'], 'TØNSBERG': ['3101', '3103', '3104', '3105', '3109', '3110', '3111', '3112', '3113', '3114', '3115', '3116', '3117', '3118', '3119', '3122', '3123', '3124', '3125', '3126', '3127', '3129', '3134'], 'NØTTERØY': ['3106', '3120', '3121', '3128', '3140', '3163'], 'SEM': ['3107', '3170', '3171'], 'VEAR': ['3108', '3172', '3173'], 'HUSØYSUND': ['3131', '3132'], 'DUKEN': ['3133'], 'TORØD': ['3135', '3137'], 'SKALLESTAD': ['3138', '3139'], 'KJØPMANNSKJÆR': ['3141', '3143'], 'VESTSKOGEN': ['3142'], 'VEIERLAND': ['3144'], 'TJØME': ['3145', '3165'], 'HVASSER': ['3148'], 'TOLVSRØD': ['3150', '3151', '3152', '3153', '3154', '3166'], 'MELSOMVIK': ['3156', '3159', '3168'], 'BARKÅKER': ['3157'], 'ANDEBU': ['3158', '3162'], 'STOKKE': ['3160', '3161', '3169'], 'REVETAL': ['3164', '3174'], 'ÅSGÅRDSTRAND': ['3167', '3179'], 'RAMNES': ['3175'], 'UNDRUMSDAL': ['3176'], 'VÅLE': ['3177', '3178'], 'NYKIRKE': ['3180', '3197'], 'HORTEN': ['3181', '3182', '3183', '3186', '3187', '3188', '3189', '3191', '3192', '3193', '3194', '3196'], 'BORRE': ['3184', '3199'], 'SKOPPUM': ['3185', '3195'], 'SANDEFJORD': ['3201', '3202', '3203', '3204', '3205', '3206', '3207', '3208', '3209', '3210', '3211', '3212', '3213', '3214', '3215', '3216', '3217', '3218', '3219', '3220', '3221', '3222', '3223', '3224', '3225', '3226', '3227', '3228', '3229', '3230', '3231', '3232', '3233', '3234', '3235', '3236', '3237', '3238', '3239', '3240', '3241', '3242', '3244', '3246', '3247', '3248', '3249'], 'KODAL': ['3243', '3245'], 'LARVIK': ['3251', '3252', '3253', '3254', '3255', '3256', '3257', '3258', '3259', '3260', '3261', '3262', '3263', '3264', '3265', '3267', '3268', '3269', '3270', '3271', '3274', '3285'], 'SVARSTAD': ['3275', '3276'], 'STEINSHOLT': ['3277'], 'TJODALYNG': ['3280', '3281'], 'KVELDE': ['3282', '3284'], 'STAVERN': ['3290', '3291', '3292', '3294'], 'HELGEROA': ['3295', '3297'], 'NEVLUNGHAVN': ['3296'], 'HOKKSUND': ['3300', '3301', '3302', '3303'], 'VESTFOSSEN': ['3320', '3321'], 'FISKUM': ['3322'], 'SKOTSELV': ['3330', '3331'], 'ÅMOT': ['3340', '3341', '3342'], 'PRESTFOSS': ['3350', '3351'], 'SOLUMSMOEN': ['3355'], 'EGGEDAL': ['3357', '3359'], 'GEITHUS': ['3360', '3361'], 'VIKERSUND': ['3370', '3371'], 'LIER': ['3401', '3402', '3403', '3404', '3405', '3413'], 'TRANBY': ['3406', '3407', '3408', '3409'], 'SYLLING': ['3410', '3411'], 'LIERSTRANDA': ['3412', '3414'], 'LIERSKOGEN': ['3420', '3421'], 'REISTAD': ['3425'], 'GULLAUG': ['3426', '3427', '3428'], 'SPIKKESTAD': ['3430', '3431'], 'RØYKEN': ['3440', '3441'], 'HYGGEN': ['3442'], 'SLEMMESTAD': ['3470', '3471'], 'BØDALEN': ['3472'], 'ÅROS': ['3474'], 'SÆTRE': ['3475', '3476'], 'BÅTSTØ': ['3477'], 'NÆRSNES': ['3478', '3479'], 'FILTVET': ['3480', '3485'], 'TOFTE': ['3481', '3482'], 'KANA': ['3483'], 'HOLMSBU': ['3484'], 'KLOKKARSTUA': ['3490'], 'HØNEFOSS': ['3501', '3502', '3503', '3504', '3507', '3510', '3511', '3512', '3513', '3514', '3515', '3516', '3517', '3518', '3519'], 'JEVNAKER': ['3520', '3521'], 'BJONEROA': ['3522', '3527'], 'HALLINGBY': ['3525', '3526'], 'HEDALEN': ['3528'], 'RØYSE': ['3529', '3530'], 'KROKKLEIVA': ['3531', '3546'], 'TYRISTRAND': ['3532', '3533'], 'SOKNA': ['3534', '3542'], 'KRØDEREN': ['3535', '3537'], 'NORESUND': ['3536', '3543'], 'SOLLIHØGDA': ['3538'], 'FLÅ': ['3539', '3545'], 'NESBYEN': ['3540', '3541'], 'TUNHOVD': ['3544'], 'GOL': ['3550', '3551'], 'HEMSEDAL': ['3560', '3561'], 'ÅL': ['3570', '3571'], 'HOL': ['3575', '3576', '9444'], 'HOVET': ['3577'], 'TORPO': ['3579'], 'GEILO': ['3580', '3581'], 'DAGALI': ['3588'], 'USTAOSET': ['3593'], 'HAUGASTØL': ['3595'], 'KONGSBERG': ['3601', '3602', '3603', '3604', '3605', '3606', '3607', '3609', '3610', '3611', '3612', '3613', '3614', '3615', '3616', '3617'], 'HEISTADMOEN': ['3608'], 'SKOLLENBORG': ['3618', '3619', '3625'], 'FLESBERG': ['3620'], 'LAMPELAND': ['3621', '3623'], 'SVENE': ['3622'], 'LYNGDAL': ['3624', '4575', '4576', '4577', '4579', '4580'], 'ROLLAG': ['3626'], 'VEGGLI': ['3627', '3628'], 'NORE': ['3629', '3634'], 'RØDBERG': ['3630', '3631'], 'UVDAL': ['3632'], 'HVITTINGFOSS': ['3646', '3647'], 'PASSEBEKK': ['3648'], 'TINN': ['3650'], 'HOVIN': ['3652', '7236', '7238'], 'ATRÅ': ['3656', '3666'], 'MILAND': ['3658'], 'RJUKAN': ['3660', '3661'], 'SAULAND': ['3665', '3692'], 'NOTODDEN': ['3671', '3672', '3673', '3674', '3675', '3676', '3677', '3678', '3679', '3680', '3681', '3683', '3684'], 'HJARTDAL': ['3690'], 'GRANSHERAD': ['3691'], 'TUDDAL': ['3697'], 'SKIEN': ['3701', '3702', '3703', '3704', '3705', '3707', '3710', '3711', '3712', '3713', '3714', '3715', '3716', '3717', '3718', '3719', '3720', '3721', '3722', '3723', '3724', '3725', '3726', '3727', '3728', '3729', '3730', '3731', '3732', '3733', '3734', '3735', '3736', '3737', '3738', '3739', '3740', '3741', '3742', '3743', '3744', '3746', '3747', '3785', '3787', '3792', '3796', '3798', '3799'], 'SILJAN': ['3748', '3749'], 'DRANGEDAL': ['3750', '3795'], 'TØRDAL': ['3753'], 'NESLANDSVATN': ['3760'], 'SANNIDAL': ['3766', '3793'], 'KRAGERØ': ['3770', '3772', '3783', '3789', '3791'], 'SKÅTØY': ['3780'], 'JOMFRULAND': ['3781'], 'STABBESTAD': ['3788'], 'HELLE': ['3790', '3794'], 'BØ': ['3800', '3801', '3802', '3803', '3804', '3805', '3833', '8469', '8470'], 'GVARV': ['3810', '3834'], 'HØRTE': ['3811'], 'AKKERHAUGEN': ['3812'], 'NORDAGUTU': ['3820'], 'LUNDE': ['3825', '3832'], 'ULEFOSS': ['3830', '3831'], 'SELJORD': ['3835', '3840'], 'KVITESEID': ['3836', '3850'], 'FLATDAL': ['3841'], 'ÅMOTSDAL': ['3844'], 'MORGEDAL': ['3848'], 'VRÅLIOSEN': ['3849'], 'VRÅDAL': ['3852', '3853'], 'NISSEDAL': ['3854'], 'TREUNGEN': ['3855', '3883'], 'RAULAND': ['3864', '3884'], 'FYRESDAL': ['3870', '3885'], 'DALEN': ['3880', '3886'], 'ÅMDALS': ['3882'], 'VINJE': ['3887', '3890'], 'EDLAND': ['3888', '3895'], 'HØYDALSMO': ['3891'], 'VINJESVINGEN': ['3893'], 'PORSGRUNN': ['3901', '3902', '3903', '3904', '3905', '3906', '3910', '3911', '3912', '3913', '3914', '3915', '3916', '3917', '3918', '3919', '3920', '3921', '3922', '3924', '3925', '3928', '3929', '3930', '3931', '3933', '3936', '3937', '3939', '3940', '3941', '3942', '3943', '3944', '3946', '3948', '3949', '3996', '3997', '3998'], 'LANGANGEN': ['3947'], 'BREVIK': ['3950', '3991'], 'STATHELLE': ['3960', '3961', '3962', '3966', '3967', '3995'], 'HERRE': ['3965', '3999'], 'LANGESUND': ['3970', '3993', '3994'], 'STAVANGER': ['4001', '4002', '4003', '4004', '4005', '4006', '4007', '4008', '4009', '4010', '4011', '4012', '4013', '4014', '4015', '4016', '4017', '4018', '4019', '4020', '4021', '4022', '4023', '4024', '4025', '4026', '4027', '4028', '4029', '4031', '4032', '4033', '4034', '4035', '4036', '4068', '4078', '4079', '4081', '4082', '4084', '4087', '4088', '4092', '4093', '4094', '4095', '4099'], 'HAFRSFJORD': ['4041', '4042', '4043', '4044', '4045', '4046', '4047', '4048', '4049', '4089', '4090', '4091'], 'SOLA': ['4050', '4051', '4055', '4097'], 'RØYNEBERG': ['4052', '4059'], 'RÆGE': ['4053'], 'TJELTA': ['4054', '4063'], 'TANANGER': ['4056', '4057', '4058', '4098'], 'RANDABERG': ['4070', '4071', '4072', '4073', '4096'], 'VASSØY': ['4076'], 'HUNDVÅG': ['4077', '4083', '4085', '4086'], 'JØRPELAND': ['4100', '4103', '4104', '4105', '4126'], 'IDSE': ['4102'], 'FORSAND': ['4110', '4119'], 'TAU': ['4120', '4121', '4124'], 'SØR-HIDLE': ['4123'], 'LYSEBOTN': ['4127'], 'FLØYRLI': ['4128'], 'SONGESAND': ['4129'], 'HJELMELAND': ['4130', '4148'], 'JØSENFJORDEN': ['4134'], 'ÅRDAL': ['4137'], 'FISTER': ['4139'], 'SKIFTUN': ['4146'], 'RENNESØY': ['4150', '4159'], 'BRIMSE': ['4153'], 'AUSTRE': ['4154'], 'MOSTERØY': ['4156'], 'BRU': ['4158'], 'FINNØY': ['4160', '4161'], 'TALGJE': ['4163'], 'FOGN': ['4164'], 'HELGØY': ['4167'], 'BYRE': ['4168'], 'SØRBOKN': ['4169'], 'SJERNARØY': ['4170', '4174'], 'NORD-HIDLE': ['4173'], 'KVITSØY': ['4180', '4181'], 'SKARTVEIT': ['4182'], 'OMBO': ['4187'], 'FOLDØY': ['4198'], 'SAUDA': ['4200', '4201'], 'SAUDASJØEN': ['4208'], 'VANVIK': ['4209'], 'SAND': ['4230', '4239'], 'ERFJORD': ['4233'], 'JELSA': ['4234'], 'HEBNES': ['4235'], 'SULDALSOSEN': ['4237', '4240'], 'NESFLATEN': ['4244'], 'KOPERVIK': ['4250', '4291', '4294'], 'TORVASTAD': ['4260', '4298'], 'AVALDSNES': ['4262', '4299'], 'KVALAVÅG': ['4264'], 'HÅVIK': ['4265'], 'ÅKREHAMN': ['4270', '4296'], 'SANDVE': ['4272'], 'STOL': ['4274'], 'SÆVELANDSVIK': ['4275'], 'VEAVÅGEN': ['4276', '4295'], 'SKUDENESHAVN': ['4280', '4297'], 'SANDNES': ['4301', '4302', '4306', '4307', '4308', '4309', '4312', '4313', '4314', '4315', '4316', '4317', '4318', '4319', '4320', '4321', '4322', '4323', '4324', '4325', '4326', '4327', '4328', '4329', '4336', '4337', '4338', '4391', '4392', '4393', '4394', '4396', '4397', '4398', '4399'], 'HOMMERSÅK': ['4310', '4311', '4395'], 'ÅLGÅRD': ['4330', '4331', '4334', '4339'], 'FIGGJO': ['4332'], 'OLTEDAL': ['4333', '4390'], 'DIRDAL': ['4335'], 'BRYNE': ['4340', '4341', '4344', '4345', '4346', '4349'], 'UNDHEIM': ['4342'], 'ORRE': ['4343'], 'LYE': ['4347', '4348'], 'KLEPPE': ['4350', '4351', '4352', '4358'], 'KLEPP': ['4353', '4357'], 'VOLL': ['4354'], 'KVERNALAND': ['4355', '4356'], 'VARHAUG': ['4360', '4368'], 'SIREVÅG': ['4361', '4364'], 'VIGRESTAD': ['4362', '4369'], 'BRUSAND': ['4363'], 'NÆRBØ': ['4365', '4367'], 'EGERSUND': ['4370', '4371', '4372', '4373', '4374', '4378', '4379'], 'HELLVIK': ['4375'], 'HELLELAND': ['4376', '4385'], 'HAUGE': ['4380', '4381'], 'VIKESÅ': ['4384', '4389'], 'BJERKREIM': ['4387'], 'FLEKKEFJORD': ['4400', '4401', '4402', '4403', '4404', '4405', '4406', '4407'], 'ÅNA-SIRA': ['4420'], 'HIDRASUND': ['4432'], 'ANDABELØY': ['4434'], 'GYLAND': ['4436'], 'SIRA': ['4438', '4439'], 'TONSTAD': ['4440', '4441'], 'TJØRHOM': ['4443'], 'MOI': ['4460', '4465'], 'HOVSHERAD': ['4462'], 'UALAND': ['4463'], 'KVINLOG': ['4473'], 'KVINESDAL': ['4480', '4490', '4491', '4492'], 'ØYESTRANDA': ['4484'], 'FEDA': ['4485', '4486'], 'MANDAL': ['4501', '4502', '4503', '4504', '4507', '4508', '4509', '4513', '4514', '4515', '4516', '4517'], 'HOLUM': ['4519'], 'LINDESNES': ['4520', '4521', '4522', '4523', '4524'], 'KONSMO': ['4525', '4526'], 'KOLLUNGTVEIT': ['4528'], 'BYREMO': ['4529'], 'ØYSLEBØ': ['4532'], 'MARNARDAL': ['4534', '4535'], 'BJELLAND': ['4536'], 'ÅSERAL': ['4540', '4541'], 'FOSSDAL': ['4544'], 'FARSUND': ['4550', '4551', '4552', '4553', '4554'], 'VANSE': ['4557', '4558', '4560'], 'BORHAUG': ['4563'], 'KORSHAMN': ['4586'], 'KVÅS': ['4588'], 'SNARTEMO': ['4590'], 'TINGVATN': ['4595'], 'EIKEN': ['4596', '4597'], 'KRISTIANSAND': ['4604', '4605', '4606', '4608', '4610', '4611', '4612', '4613', '4614', '4615', '4616', '4617', '4618', '4620', '4621', '4622', '4623', '4624', '4626', '4628', '4629', '4630', '4631', '4632', '4633', '4634', '4635', '4636', '4637', '4638', '4639', '4661', '4662', '4663', '4664', '4665', '4666', '4670', '4671', '4672', '4673', '4674', '4675', '4676', '4677', '4678', '4686', '4687', '4688', '4689', '4691', '4693', '4694', '4695', '4696', '4697', '4698'], 'KARDEMOMME': ['4609'], 'MOSBY': ['4619'], 'FLEKKERØY': ['4625', '4679'], 'SØGNE': ['4640', '4641', '4642', '4643', '4644', '4681', '4682', '4683'], 'NODELAND': ['4645', '4685'], 'FINSLAND': ['4646', '4649'], 'BRENNÅSEN': ['4647', '4684'], 'HAMRESANDEN': ['4656'], 'KJEVIK': ['4657'], 'TVEIT': ['4658', '4699'], 'VENNESLA': ['4700', '4701', '4702', '4703', '4706', '4707', '4708'], 'ØVREBØ': ['4705', '4715'], 'HÆGELAND': ['4720', '4721'], 'IVELAND': ['4724', '4725'], 'VATNESTRØM': ['4730'], 'EVJE': ['4733', '4734', '4735'], 'HORNNES': ['4737'], 'BYGLANDSFJORD': ['4741'], 'GRENDI': ['4742'], 'BYGLAND': ['4744', '4745'], 'VALLE': ['4746', '4747'], 'RYSSTAD': ['4748', '4749'], 'BYKLE': ['4754'], 'HOVDEN': ['4755', '4756'], 'BIRKELAND': ['4760', '4795'], 'HEREFOSS': ['4766'], 'ENGESLAND': ['4768'], 'HØVÅG': ['4770', '4793'], 'BREKKESTØ': ['4780'], 'LILLESAND': ['4790', '4791', '4792', '4794'], 'ARENDAL': ['4801', '4802', '4803', '4804', '4808', '4809', '4825', '4836', '4838', '4839', '4841', '4842', '4843', '4844', '4846', '4847', '4848', '4849', '4856', '4857', '4858', '4859'], 'EYDEHAVN': ['4810', '4862'], 'KONGSHAVN': ['4812'], 'SALTRØD': ['4815', '4851'], 'KOLBJØRNSVIK': ['4816'], 'HIS': ['4817', '4853'], 'FÆRVIK': ['4818', '4852'], 'FROLAND': ['4820', '4855'], 'RYKENE': ['4821', '4822'], 'NEDENES': ['4823', '4854'], 'BJORBEKK': ['4824'], 'FROLANDS': ['4827'], 'MJÅVATN': ['4828'], 'HYNNEKLEIV': ['4830'], 'MYKLAND': ['4832'], 'RISDAL': ['4834'], 'NELAUG': ['4863'], 'ÅMLI': ['4864', '4865'], 'SELÅSVATN': ['4868'], 'DØLEMO': ['4869'], 'FEVIK': ['4870', '4889'], 'GRIMSTAD': ['4876', '4877', '4878', '4879', '4884', '4885', '4886', '4887', '4891', '4892', '4893', '4894', '4896', '4898'], 'HOMBORSUND': ['4888'], 'TVEDESTRAND': ['4900', '4901', '4902', '4903', '4904', '4905'], 'SONGE': ['4909'], 'LYNGØR': ['4910'], 'GJEVING': ['4912'], 'BORØY': ['4916'], 'STAUBØ': ['4920', '4921'], 'RISØR': ['4950', '4951', '4952', '4953', '4955', '4956', '4957'], 'SUNDEBRU': ['4971', '4993'], 'GJERSTAD': ['4972', '4980'], 'VEGÅRSHEI': ['4973', '4985'], 'SØNDELED': ['4974', '4990'], 'AKLAND': ['4994'], 'BERGEN': ['5003', '5004', '5005', '5006', '5007', '5008', '5009', '5010', '5011', '5012', '5013', '5014', '5015', '5016', '5017', '5018', '5019', '5020', '5021', '5022', '5031', '5032', '5033', '5034', '5035', '5036', '5037', '5038', '5039', '5041', '5042', '5043', '5045', '5052', '5053', '5054', '5055', '5056', '5057', '5058', '5059', '5063', '5067', '5068', '5072', '5073', '5075', '5081', '5082', '5089', '5093', '5094', '5096', '5097', '5098', '5099', '5802', '5803', '5804', '5805', '5806', '5807', '5808', '5809', '5810', '5811', '5812', '5813', '5814', '5815', '5816', '5817', '5818', '5819', '5820', '5821', '5822', '5823', '5824', '5825', '5826', '5827', '5829', '5830', '5831', '5832', '5833', '5834', '5835', '5836', '5837', '5838', '5841', '5843', '5844', '5845', '5847', '5848', '5849', '5851', '5852', '5853', '5854', '5855', '5857', '5858', '5859', '5861', '5862', '5863', '5864', '5865', '5866', '5867', '5868', '5869', '5872', '5873', '5876', '5877', '5878', '5879', '5881', '5884', '5886', '5887', '5888', '5889', '5892', '5893', '5895', '5896', '5899'], 'EIDSVÅGNESET': ['5101'], 'EIDSVÅG': ['5104', '5105', '6460', '6461'], 'SALHUS': ['5107'], 'HORDVIK': ['5108'], 'HYLKJE': ['5109'], 'BREISTEIN': ['5111'], 'TERTNES': ['5113', '5114'], 'ULSET': ['5115', '5116', '5117', '5118', '5119', '5121'], 'MORVIK': ['5122', '5124'], 'NYBORG': ['5130', '5131', '5132'], 'FLAKTVEIT': ['5134', '5135'], 'MJØLKERÅEN': ['5136', '5137'], 'FYLLINGSDALEN': ['5141', '5142', '5143', '5144', '5145', '5146', '5147', '5148'], 'STRAUMSGREND': ['5151'], 'BØNES': ['5152', '5153', '5154', '5155'], 'LAKSEVÅG': ['5160', '5161', '5162', '5163', '5164', '5165'], 'BJØRNDALSTRÆ': ['5170'], 'LODDEFJORD': ['5171', '5172', '5173', '5176', '5178'], 'MATHOPEN': ['5174'], 'BJØRØYHAMN': ['5177'], 'GODVIK': ['5179'], 'OLSVIK': ['5183', '5184'], 'SØFTELAND': ['5207', '5212'], 'LEPSØY': ['5213', '5216'], 'LYSEKLOSTER': ['5214', '5215'], 'HAGAVIK': ['5217'], 'NORDSTRØNO': ['5218'], 'NESTTUN': ['5221', '5222', '5223', '5224', '5225', '5226', '5227', '5228'], 'KALANDSEIDET': ['5229'], 'PARADIS': ['5230', '5231', '5232'], 'RÅDAL': ['5235', '5236', '5237', '5238', '5239'], 'FANA': ['5243', '5244'], 'SØREIDGREND': ['5251', '5252'], 'SANDSLI': ['5253', '5254'], 'KOKSTAD': ['5257'], 'BLOMSTERDALEN': ['5258'], 'HJELLESTAD': ['5259'], 'INDRE': ['5260', '5261', '7944', '8743', '9710'], 'ARNATVEIT': ['5262'], 'TRENGEREID': ['5263'], 'GARNES': ['5264'], 'ESPELAND': ['5267'], 'HAUKELAND': ['5268'], 'VALESTRANDSFOSSEN': ['5281', '5291'], 'LONEVÅG': ['5282', '5293'], 'FOTLANDSVÅG': ['5283'], 'TYSSEBOTNEN': ['5284'], 'BRUVIK': ['5285'], 'HAUS': ['5286', '5299'], 'KLEPPESTØ': ['5300', '5301', '5308', '5309', '5319', '5321', '5322', '5323'], 'STRUSSHAMN': ['5302', '5318'], 'FOLLESE': ['5303', '5325'], 'HETLEVIK': ['5304'], 'FLORVÅG': ['5305', '5329'], 'ERDAL': ['5306'], 'ASK': ['5307', '5326'], 'HAUGLANDSHELLA': ['5310', '5327'], 'KJERRGARDEN': ['5311', '5314'], 'HERDLA': ['5315'], 'RONG': ['5331', '5337'], 'TJELDSTØ': ['5333', '5336'], 'HELLESØY': ['5334'], 'HERNAR': ['5335'], 'STRAUME': ['5341', '5342', '5343', '5353', '5354'], 'KNARREVIK': ['5345', '5355'], 'ÅGOTNES': ['5346', '5347', '5363'], 'BRATTHOLMEN': ['5350'], 'FJELL': ['5357', '5358'], 'KOLLTVEIT': ['5360'], 'TURØY': ['5365'], 'MISJE': ['5366'], 'SKOGSVÅG': ['5371', '5382'], 'STEINSLAND': ['5374', '5379'], 'KLOKKARVIK': ['5378'], 'TELAVÅG': ['5380'], 'GLESVÆR': ['5381'], 'TORANGSVÅG': ['5384'], 'BAKKASUND': ['5385'], 'MØKSTER': ['5387'], 'LITLAKALSØY': ['5388'], 'STOREBØ': ['5392', '5393'], 'KOLBEINSVIK': ['5394'], 'BEKKJARVIK': ['5397', '5399'], 'STOLMEN': ['5398'], 'STORD': ['5401', '5402', '5403', '5404', '5406', '5407', '5409', '5411', '5412', '5414', '5415', '5416', '5417'], 'SAGVÅG': ['5408', '5410'], 'HUGLO': ['5413'], 'FITJAR': ['5418', '5419'], 'RUBBESTADNESET': ['5420'], 'BRANDASUND': ['5423'], 'URANGSVÅG': ['5427'], 'FOLDRØYHAMN': ['5428'], 'BREMNES': ['5430', '5445'], 'FINNÅS': ['5437'], 'MOSTERHAMN': ['5440', '5447'], 'BØMLO': ['5443', '5449'], 'ESPEVÆR': ['5444'], 'SUNDE': ['5450'], 'VALEN': ['5451'], 'SANDVOLL': ['5452'], 'UTÅKER': ['5453'], 'SÆBØVIK': ['5454', '5484'], 'HALSNØY': ['5455'], 'HØYLANDSBYGD': ['5457'], 'ARNAVIK': ['5458'], 'FJELBERG': ['5459'], 'HUSNES': ['5460', '5480'], 'HERØYSUNDET': ['5462'], 'USKEDALEN': ['5463', '5465'], 'DIMMELSVIK': ['5464'], 'ROSENDAL': ['5470', '5486'], 'SEIMSFOSS': ['5472'], 'SNILSTVEITØY': ['5473'], 'LØFALLSTRAND': ['5474'], 'ÆNES': ['5475'], 'MAURANGER': ['5476'], 'MATRE': ['5498'], 'ÅKRA': ['5499'], 'HAUGESUND': ['5501', '5502', '5503', '5504', '5505', '5506', '5507', '5509', '5511', '5512', '5514', '5515', '5516', '5517', '5518', '5519', '5521', '5522', '5523', '5525', '5527', '5528', '5529', '5531', '5532', '5533', '5534', '5535', '5536', '5537', '5538'], 'KARMSUND': ['5508', '5542'], 'KOLNES': ['5541'], 'VORMEDAL': ['5544', '5545'], 'RØYKSUND': ['5546'], 'UTSIRA': ['5547'], 'FEØY': ['5548'], 'RØVÆR': ['5549'], 'SVEIO': ['5550', '5559'], 'AUKLANDSHAMN': ['5551'], 'VALEVÅG': ['5554'], 'FØRDE': ['5555', '5556', '6800', '6801', '6802', '6803', '6804', '6805', '6807', '6808', '6809', '6810', '6811', '6812', '6813', '6814', '6815', '6819', '6820'], 'NEDSTRAND': ['5560', '5562'], 'BOKN': ['5561', '5569'], 'FØRRESFJORDEN': ['5563', '5595'], 'TYSVÆRVÅG': ['5565'], 'HERVIK': ['5566'], 'SKJOLDASTRAUMEN': ['5567'], 'VIKEBYGD': ['5568'], 'AKSDAL': ['5570', '5575'], 'SKJOLD': ['5574'], 'ØLEN': ['5580', '5588'], 'ØLENSVÅG': ['5582'], 'VIKEDAL': ['5583', '5586'], 'BJOA': ['5584'], 'SANDEID': ['5585', '5589'], 'ETNE': ['5590', '5591'], 'SKÅNEVIK': ['5593', '5594'], 'MARKHUS': ['5596'], 'FJÆRA': ['5598'], 'NORHEIMSUND': ['5600', '5601', '5602'], 'ØYSTESE': ['5604', '5610'], 'ÅLVIK': ['5605', '5614'], 'STEINSTØ': ['5612'], 'TØRVIKBYGD': ['5620'], 'KYSNESSTRAND': ['5626'], 'JONDAL': ['5627', '5629'], 'HERAND': ['5628'], 'STRANDEBARM': ['5630', '5631'], 'OMASTRAND': ['5632', '5633'], 'HATLESTRAND': ['5635'], 'VARALDSØY': ['5636'], 'ØLVE': ['5637'], 'EIKELANDSOSEN': ['5640', '5649'], 'FUSA': ['5641', '5648'], 'HOLMEFJORD': ['5642'], 'STRANDVIK': ['5643'], 'SÆVAREID': ['5644', '5645'], 'NORDTVEITGREND': ['5646'], 'BALDERSHEIM': ['5647'], 'TYSSE': ['5650', '5651'], 'ÅRLAND': ['5652', '5653'], 'TYSNES': ['5680', '5696'], 'REKSTEREN': ['5683'], 'UGGDAL': ['5685', '5695'], 'FLATRÅKER': ['5687'], 'LUNDEGREND': ['5690'], 'ÅRBAKKA': ['5693'], 'ONARHEIM': ['5694'], 'VOSS': ['5700', '5701', '5702', '5703', '5704', '5705', '5706', '5708', '5709', '5714'], 'EVANGER': ['5707'], 'SKULESTADMO': ['5710', '5711'], 'VOSSESTRAND': ['5712', '5713'], 'STALHEIM': ['5715'], 'MYRDAL': ['5718'], 'FINSE': ['5719'], 'STANGHELLE': ['5720', '5724'], 'DALEKVAM': ['5721', '5722'], 'BOLSTADØYRI': ['5723'], 'VAKSDAL': ['5725', '5726'], 'STAMNES': ['5727'], 'EIDSLANDET': ['5728'], 'MODALEN': ['5729', '5732'], 'ULVIK': ['5730', '5731'], 'GRANVIN': ['5733', '5736'], 'VALLAVIK': ['5734'], 'AURLAND': ['5741', '5745'], 'FLÅM': ['5742', '5743'], 'UNDREDAL': ['5746'], 'GUDVANGEN': ['5747', '5749'], 'ODDA': ['5750', '5751', '5752'], 'RØLDAL': ['5760'], 'SKARE': ['5763'], 'TYSSEDAL': ['5770'], 'HOVLAND': ['5773'], 'NÅ': ['5775', '5776'], 'GRIMO': ['5777'], 'UTNE': ['5778', '5779'], 'KINSARVIK': ['5780', '5782', '5788'], 'LOFTHUS': ['5781', '5787'], 'EIDFJORD': ['5783', '5786'], 'VØRINGSFOSS': ['5785'], 'ISDALSTØ': ['5902', '5903', '5904', '5908', '5914', '5916'], 'FREKHAUG': ['5906', '5918', '5919'], 'ALVERSUND': ['5907', '5911'], 'SEIM': ['5912'], 'EIKANGERVÅG': ['5913'], 'HJELMÅS': ['5915'], 'ROSSLAND': ['5917'], 'MANGER': ['5931', '5936'], 'BØVÅGEN': ['5935', '5937'], 'SÆBØVÅGEN': ['5938'], 'SLETTA': ['5939'], 'AUSTRHEIM': ['5941', '5943'], 'FEDJE': ['5947', '5948'], 'LINDÅS': ['5951', '5955'], 'FONNES': ['5952', '5953'], 'MONGSTAD': ['5954'], 'HUNDVIN': ['5956'], 'MYKING': ['5957'], 'DALSØYRA': ['5960', '5963'], 'BREKKE': ['5961', '5964'], 'BJORDAL': ['5962', '5965'], 'EIVINDVIK': ['5966', '5967'], 'BYRKNESØY': ['5970', '5979'], 'ÅNNELAND': ['5977'], 'MJØMNA': ['5978'], 'MASFJORDNES': ['5981', '5982'], 'HAUGSVÆR': ['5983', '5985'], 'MATREDAL': ['5984'], 'HOSTELAND': ['5986', '5987'], 'OSTEREIDET': ['5991', '5993'], 'VIKANES': ['5994'], 'ÅLESUND': ['6001', '6002', '6003', '6004', '6005', '6006', '6007', '6008', '6009', '6010', '6011', '6012', '6013', '6014', '6015', '6016', '6017', '6018', '6019', '6020', '6021', '6022', '6023', '6024', '6025', '6026', '6028', '6044', '6045', '6046', '6047', '6048'], 'LANGEVÅG': ['6030', '6039'], 'EIDSNES': ['6034', '6037'], 'FISKARSTRAND': ['6035'], 'MAUSEIDVÅG': ['6036'], 'VIGRA': ['6040', '6059'], 'VALDERØYA': ['6050', '6058'], 'GISKE': ['6052'], 'GODØYA': ['6054', '6055'], 'ELLINGSØY': ['6057'], 'HAREID': ['6060', '6069'], 'BRANDAL': ['6062'], 'HJØRUNGAVÅG': ['6063'], 'HADDAL': ['6064'], 'ULSTEINVIK': ['6065', '6067'], 'EIKSUND': ['6068'], 'TJØRVÅG': ['6070'], 'MOLTUSTRANDA': ['6075', '6076'], 'GJERDSVIKA': ['6078', '6083'], 'GURSKØY': ['6079', '6080'], 'GURSKEN': ['6082'], 'LARSNES': ['6084', '6085'], 'KVAMSØY': ['6086', '6087'], 'SANDSHAMN': ['6088', '6089'], 'FOSNAVÅG': ['6090', '6091', '6092', '6099'], 'LEINØY': ['6094'], 'BØLANDET': ['6095'], 'RUNDE': ['6096'], 'NERLANDSØY': ['6098'], 'VOLDA': ['6100', '6101', '6102', '6103', '6104', '6105', '6106'], 'AUSTEFJORDEN': ['6110'], 'FOLKESTAD': ['6120', '6121'], 'LAUVSTAD': ['6133', '6134'], 'SYVDE': ['6138', '6140'], 'FISKÅ': ['6139', '6143'], 'ROVDE': ['6141'], 'EIDSÅ': ['6142'], 'SYLTE': ['6144'], 'ÅHEIM': ['6146', '6147'], 'ÅRAM': ['6149'], 'ØRSTA': ['6150', '6151', '6152', '6153', '6154', '6155', '6156'], 'HOVDEBYGDA': ['6160', '6161'], 'SÆBØ': ['6165', '6166'], 'VARTDAL': ['6170', '6171'], 'BARSTADVIK': ['6174'], 'TRANDAL': ['6183'], 'STORESTANDAL': ['6184'], 'BJØRKE': ['6190'], 'NORANGSFJORDEN': ['6196'], 'STRANDA': ['6200', '6201'], 'VALLDAL': ['6210', '6211'], 'LIABYGDA': ['6212'], 'TAFJORD': ['6213'], 'NORDDAL': ['6214'], 'EIDSDAL': ['6215', '6255'], 'GEIRANGER': ['6216', '6217'], 'HELLESYLT': ['6218', '6219'], 'STRAUMGJERDE': ['6220', '6238'], 'IKORNNES': ['6222', '6223'], 'HUNDEIDVIK': ['6224'], 'SYKKYLVEN': ['6230', '6239'], 'ØRSKOG': ['6240', '6249'], 'STORDAL': ['6250', '6259'], 'SKODJE': ['6260', '6263'], 'TENNFJORD': ['6264'], 'VATNE': ['6265', '6283'], 'BRATTVÅG': ['6270', '6282'], 'HILDRE': ['6272'], 'SØVIK': ['6280', '6281'], 'STOREKALVØY': ['6285'], 'HARAMSØY': ['6290', '6291'], 'KJERSTAD': ['6292'], 'LONGVA': ['6293'], 'FJØRTOFT': ['6294'], 'ÅNDALSNES': ['6300', '6301'], 'VEBLUNGSNES': ['6310'], 'INNFJORDEN': ['6315'], 'ISFJORDEN': ['6320', '6339'], 'VERMA': ['6330', '6331'], 'EIDSBYGDA': ['6350'], 'ÅFARNES': ['6360', '6361'], 'MITTET': ['6363'], 'VISTDAL': ['6364', '6365'], 'MÅNDALEN': ['6385', '6386'], 'VÅGSTRANDA': ['6387', '6388'], 'FIKSDAL': ['6389', '6394'], 'VESTNES': ['6390', '6399'], 'TRESFJORD': ['6391', '6397'], 'VIKEBUKT': ['6392', '6396'], 'TOMREFJORD': ['6393', '6398'], 'REKDAL': ['6395'], 'MOLDE': ['6401', '6402', '6403', '6404', '6405', '6407', '6409', '6410', '6411', '6412', '6413', '6414', '6415', '6416', '6419', '6420', '6421', '6422', '6423', '6425', '6429', '6434', '6435', '6436'], 'AUREOSEN': ['6408'], 'SEKKEN': ['6418'], 'BUD': ['6430', '6431'], 'HUSTAD': ['6433'], 'ELNESVÅGEN': ['6440', '6447'], 'TORNES': ['6443'], 'FARSTAD': ['6444', '6446'], 'MALMEFJORDEN': ['6445'], 'HJELSET': ['6450', '6454'], 'KLEIVE': ['6452', '6453'], 'KORTGARDEN': ['6455'], 'SKÅLA': ['6456', '6458'], 'BOLSØYA': ['6457'], 'RAUDSAND': ['6462'], 'ERESFJORD': ['6470', '6471'], 'EIKESDAL': ['6472'], 'MIDSUND': ['6475', '6476'], 'AUKRA': ['6480', '6481'], 'ONA': ['6483'], 'SANDØY': ['6484'], 'HARØY': ['6485', '6487'], 'ORTEN': ['6486'], 'MYKLEBOST': ['6488'], 'EIDE': ['6490', '6499'], 'LYNGSTAD': ['6493'], 'VEVANG': ['6494'], 'KRISTIANSUND': ['6501', '6502', '6503', '6504', '6506', '6507', '6508', '6509', '6510', '6511', '6512', '6514', '6515', '6516', '6517', '6518', '6546', '6547', '6548', '6549'], 'FREI': ['6520', '6521', '6522', '6523', '6524', '6525', '6527', '6528', '6529'], 'AVERØY': ['6530', '6531', '6532', '6533', '6538', '6539'], 'SMØLA': ['6570', '6571'], 'TUSTNA': ['6590', '6591'], 'SUNNDALSØRA': ['6600', '6601'], 'ØKSENDAL': ['6610'], 'FURUGRENDA': ['6611'], 'GRØA': ['6612'], 'GJØRA': ['6613', '6614'], 'ÅLVUNDEID': ['6620'], 'ÅLVUNDFJORD': ['6622', '6623'], 'TINGVOLL': ['6627', '6630'], 'MEISINGSET': ['6628'], 'TORJULVÅGEN': ['6629'], 'BATNFJORDSØRA': ['6631', '6632'], 'GJEMNES': ['6633'], 'ANGVIK': ['6636'], 'FLEMMA': ['6637'], 'OSMARKA': ['6638'], 'TORVIKBUKT': ['6639', '6641'], 'KVANNE': ['6640'], 'STANGVIK': ['6642'], 'BØFJORDEN': ['6643'], 'BÆVERFJORD': ['6644'], 'TODALEN': ['6645'], 'SURNADAL': ['6650', '6652', '6656'], 'VINDØLA': ['6655'], 'RINDAL': ['6657', '6659'], 'RINDALSSKOGEN': ['6658'], 'ØYDEGARD': ['6670', '6671'], 'KVISVIK': ['6674'], 'HALSANAUSTAN': ['6680'], 'VÅGLAND': ['6683', '6688'], 'VALSØYBOTN': ['6686'], 'VALSØYFJORD': ['6687'], 'AURE': ['6689', '6690'], 'MJOSUNDET': ['6693'], 'FOLDFJORDEN': ['6694'], 'VIHALS': ['6697'], 'LESUND': ['6698'], 'KJØRSVIKBUGEN': ['6699'], 'MÅLØY': ['6700', '6701', '6702', '6703'], 'DEKNEPOLLEN': ['6704', '6718'], 'RAUDEBERG': ['6707', '6710'], 'BRYGGJA': ['6708', '6711'], 'ALMENNINGEN': ['6713'], 'SILDA': ['6714'], 'BARMEN': ['6715'], 'HUSEVÅG': ['6716'], 'FLATRAKET': ['6717'], 'SKATESTRAUMEN': ['6719'], 'SVELGEN': ['6721', '6723'], 'BREMANGER': ['6726', '6727'], 'KALVÅG': ['6728', '6729'], 'DAVIK': ['6730'], 'RUGSUND': ['6734'], 'ÅLFOTEN': ['6737'], 'SELJE': ['6740', '6741'], 'STADLANDET': ['6750', '6751'], 'HORNINDAL': ['6761', '6763'], 'NORDFJORDEID': ['6770', '6771', '6772', '6773', '6774'], 'KJØLSDALEN': ['6776'], 'STÅRHEIM': ['6777'], 'LOTE': ['6778'], 'HOLMØYANE': ['6779'], 'STRYN': ['6781', '6782', '6783'], 'OLDEN': ['6784', '6788'], 'LOEN': ['6789', '6790'], 'OLDEDALEN': ['6791'], 'BRIKSDALSBRE': ['6792'], 'INNVIK': ['6793', '6794'], 'BLAKSÆTER': ['6795'], 'HOPLAND': ['6796'], 'UTVIK': ['6797'], 'HJELLEDALEN': ['6798'], 'OPPSTRYN': ['6799'], 'NAUSTDAL': ['6806', '6817'], 'HAUKEDALEN': ['6818'], 'SANDANE': ['6821', '6822', '6823'], 'BYRKJELO': ['6826', '6830'], 'BREIM': ['6827'], 'HESTENESØYRA': ['6828'], 'HYEN': ['6829', '6831'], 'SKEI': ['6841', '6843'], 'VASSENDEN': ['6844', '6847'], 'FJÆRLAND': ['6845', '6848'], 'KAUPANGER': ['6849', '6854'], 'SOGNDAL': ['6851', '6852', '6853', '6856', '6857'], 'FRØNNINGEN': ['6855'], 'FARDAL': ['6858'], 'SLINDA': ['6859'], 'LEIKANGER': ['6861', '6863'], 'GAUPNE': ['6866', '6868'], 'HAFSLO': ['6867', '6869'], 'ORNES': ['6870'], 'JOSTEDAL': ['6871'], 'LUSTER': ['6872', '6874'], 'MARIFJØRA': ['6873'], 'HØYHEIMSVIK': ['6875'], 'SKJOLDEN': ['6876'], 'FORTUN': ['6877'], 'VEITASTROND': ['6878'], 'SOLVORN': ['6879'], 'ÅRDALSTANGEN': ['6881', '6885'], 'LÆRDAL': ['6886', '6887'], 'BORGUND': ['6888'], 'VIK': ['6891', '6893'], 'VANGSNES': ['6894'], 'FEIOS': ['6895'], 'FRESVIK': ['6896'], 'BALESTRAND': ['6898', '6899'], 'FLORØ': ['6900', '6901', '6902', '6903', '6905', '6906', '6907', '6908', '6909', '6910', '6913'], 'KINN': ['6912'], 'SVANØYBUKT': ['6914'], 'ROGNALDSVÅG': ['6915'], 'BAREKSTAD': ['6916'], 'BATALDEN': ['6917'], 'SØR-SKORPA': ['6918'], 'TANSØY': ['6919'], 'HARDBAKKE': ['6921', '6924'], 'KRAKHELLA': ['6926'], 'YTRØYGREND': ['6927'], 'KOLGROV': ['6928'], 'HERSVIKBYGDA': ['6929'], 'EIKEFJORD': ['6940', '6941'], 'SVORTEVIK': ['6942'], 'STAVANG': ['6944'], 'LAVIK': ['6946', '6947'], 'HYLLESTAD': ['6951', '6957'], 'LEIRVIK': ['6953'], 'SØRBØVÅG': ['6958', '6959'], 'DALE': ['6961', '6963'], 'KORSSUND': ['6964'], 'GUDDAL': ['6966'], 'HELLEVIK': ['6967'], 'FLEKKE': ['6968'], 'STRAUMSNES': ['6969'], 'SKILBREI': ['6975'], 'BYGSTAD': ['6976', '6977'], 'VIKSDALEN': ['6978'], 'ASKVOLL': ['6980', '6988'], 'HOLMEDAL': ['6982'], 'KVAMMEN': ['6983'], 'STONGFJORDEN': ['6984'], 'ATLØY': ['6985'], 'VÆRLANDET': ['6986'], 'BULANDET': ['6987'], 'HØYANGER': ['6991', '6993'], 'NESSANE': ['6994'], 'KYRKJEBØ': ['6995'], 'VADHEIM': ['6996', '6997'], 'TRONDHEIM': ['7003', '7004', '7005', '7006', '7010', '7011', '7012', '7013', '7014', '7015', '7016', '7017', '7018', '7019', '7020', '7021', '7022', '7023', '7024', '7025', '7026', '7027', '7028', '7029', '7030', '7031', '7032', '7033', '7034', '7035', '7036', '7037', '7038', '7039', '7040', '7041', '7042', '7043', '7044', '7045', '7046', '7047', '7048', '7049', '7050', '7051', '7052', '7066', '7067', '7068', '7069', '7071', '7400', '7401', '7402', '7403', '7404', '7405', '7406', '7407', '7408', '7409', '7410', '7411', '7412', '7413', '7414', '7415', '7416', '7417', '7418', '7419', '7420', '7421', '7422', '7424', '7425', '7426', '7427', '7428', '7429', '7430', '7431', '7432', '7433', '7434', '7435', '7436', '7437', '7438', '7439', '7440', '7441', '7442', '7443', '7444', '7445', '7446', '7447', '7448', '7449', '7450', '7451', '7452', '7453', '7454', '7455', '7456', '7457', '7458', '7459', '7462', '7463', '7464', '7465', '7466', '7467', '7468', '7469', '7470', '7471', '7472', '7473', '7474', '7475', '7476', '7477', '7478', '7479', '7480', '7481', '7482', '7483', '7484', '7485', '7486', '7487', '7488', '7489', '7490', '7491', '7492', '7493', '7494', '7495', '7496', '7497', '7498'], 'RANHEIM': ['7053', '7054', '7055', '7056'], 'JONSVATNET': ['7057'], 'JAKOBSLI': ['7058', '7059'], 'BOSBERG': ['7070'], 'HEIMDAL': ['7072', '7080', '7088', '7089'], 'SPONGDAL': ['7074'], 'TILLER': ['7075', '7091', '7092', '7093'], 'SAUPSTAD': ['7078', '7097', '7098'], 'FLATÅSEN': ['7079', '7099'], 'SJETNEMARKA': ['7081'], 'KATTEM': ['7082'], 'LEINSTRAND': ['7083'], 'RISSA': ['7100', '7101'], 'STADSBYGD': ['7105', '7119'], 'FEVÅG': ['7110'], 'HASSELVIKA': ['7111', '7112'], 'HUSBYSJØEN': ['7113', '7115'], 'RÅKVÅG': ['7114', '7116'], 'LEKSVIK': ['7120', '7121'], 'VANVIKAN': ['7125', '7126'], 'OPPHAUG': ['7127', '7140'], 'BREKSTAD': ['7129', '7130'], 'UTHAUG': ['7142'], 'STORFOSNA': ['7150', '7151'], 'KRÅKVÅG': ['7152'], 'GARTEN': ['7153'], 'LEKSA': ['7156'], 'BJUGN': ['7159', '7160'], 'LYSØYSUNDET': ['7164', '7168'], 'OKSVOLL': ['7165'], 'TARVA': ['7166'], 'VALLERSUND': ['7167'], 'ÅFJORD': ['7169', '7170'], 'REVSNES': ['7174', '7177'], 'STOKKØY': ['7175', '7178'], 'LINESØYA': ['7176'], 'ROAN': ['7180', '7181'], 'BESSAKER': ['7190'], 'BRANDSFJORD': ['7194'], 'KYRKSÆTERØRA': ['7200', '7201'], 'VINJEØRA': ['7203'], 'HELLANDSJØEN': ['7206'], 'KORSVEGEN': ['7211', '7212'], 'GÅSBAKKEN': ['7213'], 'MELHUS': ['7221', '7223', '7224'], 'GIMSE': ['7227'], 'KVÅL': ['7228'], 'LUNDAMO': ['7231', '7232'], 'LER': ['7234', '7235'], 'HITRA': ['7239', '7240'], 'ANSNES': ['7241'], 'KNARRLAGSUND': ['7242', '7244'], 'KVENVÆR': ['7243', '7245'], 'SANDSTAD': ['7246'], 'HESTVIKA': ['7247'], 'MELANDSJØ': ['7250'], 'DOLMØY': ['7252'], 'SUNDLANDET': ['7255'], 'HEMNSKJELA': ['7256'], 'SNILLFJORD': ['7257', '7259'], 'SISTRANDA': ['7260', '7261'], 'HAMARVIK': ['7263', '7264'], 'KVERVA': ['7266', '7267'], 'TITRAN': ['7268'], 'DYRVIK': ['7270'], 'NORDDYRØY': ['7273', '7274'], 'SULA': ['7280'], 'BOGØYVÆR': ['7282'], 'MAUSUND': ['7284'], 'GJÆSINGEN': ['7285'], 'SØRBURØY': ['7286'], 'SAUØY': ['7287'], 'SOKNEDAL': ['7288', '7289'], 'STØREN': ['7290', '7291'], 'ROGNES': ['7295'], 'BUDALEN': ['7298'], 'ORKANGER': ['7300', '7301', '7302', '7303'], 'GJØLME': ['7310'], 'LENSVIK': ['7315', '7316'], 'AGDENES': ['7318', '7319'], 'FANNREM': ['7320', '7321'], 'SVORKMO': ['7327', '7329'], 'LØKKEN': ['7331', '7332'], 'STORÅS': ['7333', '7334'], 'JERPSTAD': ['7335'], 'MELDAL': ['7336', '7338'], 'OPPDAL': ['7340', '7341'], 'LØNSET': ['7342'], 'VOGNILL': ['7343'], 'DRIVA': ['7345'], 'BUVIKA': ['7350', '7351'], 'BØRSA': ['7353', '7358'], 'VIGGJA': ['7354'], 'EGGKLEIVA': ['7355'], 'SKAUN': ['7356', '7357'], 'RØROS': ['7361', '7374', '7375'], 'BREKKEBYGD': ['7370'], 'GLÅMOS': ['7372'], 'ÅLEN': ['7380', '7384'], 'HALTDALEN': ['7383'], 'SINGSÅS': ['7386', '7387', '7388'], 'RENNEBU': ['7391', '7392', '7393', '7397', '7398', '7399'], 'STJØRDAL': ['7500', '7501', '7502', '7503', '7504', '7505', '7506', '7507', '7508', '7509', '7512', '7513', '7514'], 'SKATVAL': ['7510', '7511'], 'HELL': ['7517', '7570'], 'ELVARLI': ['7519'], 'HEGRA': ['7520', '7529'], 'FLORNES': ['7525'], 'MERÅKER': ['7530', '7531'], 'KOPPERÅ': ['7533'], 'KLÆBU': ['7540', '7541'], 'TANEM': ['7549'], 'HOMMELVIK': ['7550', '7551'], 'VIKHAMMER': ['7560', '7566'], 'SAKSVIK': ['7562'], 'MALVIK': ['7563'], 'SELBU': ['7580', '7581', '7583'], 'SELBUSTRAND': ['7584'], 'TYDAL': ['7590', '7591'], 'FLAKNAN': ['7596'], 'LEVANGER': ['7600', '7601', '7602', '7603', '7604', '7605', '7606', '7607', '7608', '7609', '7610'], 'SKOGN': ['7619', '7620'], 'MARKABYGDA': ['7622'], 'RONGLAN': ['7623'], 'EKNE': ['7624'], 'YTTERØY': ['7629'], 'ÅSEN': ['7630', '7631'], 'ÅSENFJORD': ['7632'], 'FROSTA': ['7633', '7634'], 'VERDAL': ['7650', '7651', '7652', '7653', '7654', '7655', '7656', '7657', '7658'], 'VUKU': ['7660', '7661'], 'INDERØY': ['7670', '7671', '7672'], 'MOSVIK': ['7690', '7691'], 'STEINKJER': ['7701', '7702', '7703', '7704', '7705', '7707', '7708', '7709', '7711', '7712', '7713', '7714', '7715', '7716', '7717', '7718', '7724', '7725', '7726', '7729', '7732', '7734', '7735', '7736', '7737', '7738'], 'SPARBU': ['7710', '7733'], 'BEITSTAD': ['7730', '7739'], 'STEINSDALEN': ['7740', '7741'], 'YTTERVÅG': ['7742'], 'HEPSØY': ['7744'], 'OPPLAND': ['7745'], 'HASVÅG': ['7746'], 'SETER': ['7748'], 'NAMDALSEID': ['7750', '7751'], 'SNÅSA': ['7760', '7761'], 'FLATANGER': ['7770', '7771'], 'NORD-STATLAND': ['7777'], 'MALM': ['7790', '7791'], 'FOLLAFOSS': ['7795', '7796'], 'VERRABOTN': ['7797'], 'NAMSOS': ['7800', '7801', '7802', '7803', '7804', '7805', '7808', '7810'], 'SALSNES': ['7817'], 'LUND': ['7818'], 'FOSSLANDSOSEN': ['7819'], 'SPILLUM': ['7820', '7821'], 'BANGSUND': ['7822', '7823'], 'JØA': ['7856'], 'SKAGE': ['7860', '7869'], 'OVERHALLA': ['7863', '7864'], 'GRONG': ['7870', '7871'], 'HARRAN': ['7873', '7874'], 'KONGSMOEN': ['7876'], 'HØYLANDET': ['7877', '7878'], 'NORDLI': ['7881', '7882'], 'SØRLI': ['7884', '7885'], 'NAMSSKOGAN': ['7890', '7891'], 'TRONES': ['7892'], 'SKOROVATN': ['7893'], 'BREKKVASSELV': ['7896'], 'LIMINGEN': ['7897', '7898'], 'RØRVIK': ['7900', '7901', '7902'], 'AUSTAFJORD': ['7924'], 'OTTERSØY': ['7940', '7941'], 'ABELVÆR': ['7950'], 'SALSBRUKET': ['7960'], 'KOLVEREID': ['7970', '7971'], 'GJERDINGA': ['7973'], 'TERRÅK': ['7979', '7980'], 'HARANGSFJORD': ['7981'], 'BINDALSEIDET': ['7982', '7983'], 'FOLDEREID': ['7985', '7986'], 'NAUSTBUKTA': ['7990'], 'GUTVIK': ['7993'], 'LEKA': ['7994', '7995'], 'BODØ': ['8001', '8002', '8003', '8004', '8005', '8006', '8007', '8008', '8009', '8010', '8011', '8012', '8013', '8014', '8015', '8016', '8019', '8020', '8021', '8022', '8023', '8025', '8026', '8027', '8028', '8029', '8030', '8031', '8037', '8038', '8041', '8047', '8048', '8049', '8070', '8071', '8072', '8073', '8074', '8075', '8076', '8079', '8084', '8085', '8086', '8087', '8088', '8089', '8091', '8092'], 'TVERLANDET': ['8050', '8058'], 'SALTSTRAUMEN': ['8056', '8057'], 'VÆRØY': ['8062', '8063'], 'RØST': ['8064', '8065'], 'KJERRINGØY': ['8093'], 'FLEINVÆR': ['8094'], 'HELLIGVÆR': ['8095'], 'BLIKSVÆR': ['8096'], 'GIVÆR': ['8097'], 'LANDEGODE': ['8098'], 'JAN': ['8099'], 'MISVÆR': ['8100', '8108'], 'SKJERSTAD': ['8102'], 'BREIVIK': ['8103'], 'MOLDJORD': ['8110', '8118'], 'TOLLÅ': ['8114'], 'NYGÅRDSJØEN': ['8120'], 'SANDHORNØY': ['8130'], 'SØRARNØY': ['8134', '8135'], 'NORDARNØY': ['8136'], 'INNDYR': ['8138', '8140'], 'STORVIK': ['8145'], 'REIPÅ': ['8146'], 'NEVERDAL': ['8149'], 'ØRNES': ['8150', '8151'], 'MELØY': ['8157'], 'BOLGA': ['8158'], 'STØTT': ['8159'], 'GLOMFJORD': ['8160', '8161'], 'ENGAVÅGEN': ['8168', '8170'], 'HALSA': ['8178', '8179'], 'MYKEN': ['8181'], 'MELFJORDBOTN': ['8182'], 'VÅGAHOLMEN': ['8183', '8185'], 'ÅGSKARDET': ['8184'], 'TJONGSFJORDEN': ['8186'], 'JEKTVIK': ['8187', '8192'], 'NORDVERNES': ['8188'], 'GJERSVIKGRENDA': ['8189'], 'SØRFJORDEN': ['8190'], 'RØDØY': ['8193'], 'GJERØY': ['8195'], 'SELSØYVIK': ['8196'], 'STORSELSØY': ['8197'], 'NORDNESØY': ['8198'], 'FAUSKE': ['8200', '8201', '8202', '8203', '8205', '8206', '8207', '8208', '8209', '8210', '8211', '8214', '8218', '8219'], 'VALNESFJORD': ['8215', '8233'], 'RØSVIK': ['8220'], 'STRAUMEN': ['8226', '8232'], 'SULITJELMA': ['8230', '8231'], 'ROGNAN': ['8250', '8251', '8252', '8253'], 'RØKLAND': ['8255', '8256'], 'INNHAVET': ['8260', '8261'], 'ENGAN': ['8264'], 'MØRSVIKBOTN': ['8266'], 'DRAG': ['8270', '8271'], 'NEVERVIK': ['8273'], 'MUSKEN': ['8274'], 'STORJORD': ['8275'], 'ULVSVÅG': ['8276'], 'STORÅ': ['8278'], 'LEINESFJORD': ['8281', '8283'], 'LEINES': ['8285'], 'NORDFOLD': ['8286'], 'ENGELØYA': ['8287', '8289'], 'BOGØY': ['8288'], 'SKUTVIK': ['8290'], 'HAMARØY': ['8294', '8298'], 'TRANØY': ['8297'], 'SVOLVÆR': ['8300', '8301', '8305'], 'KABELVÅG': ['8309', '8310'], 'HENNINGSVÆR': ['8311', '8312'], 'KLEPPSTAD': ['8313'], 'GIMSØYSAND': ['8314'], 'LAUKVIK': ['8315'], 'LAUPSTAD': ['8316'], 'STRØNSTAD': ['8317'], 'SKROVA': ['8320'], 'BRETTESNES': ['8322'], 'STORFJELL': ['8323'], 'DIGERMULEN': ['8324'], 'TENGELFJORD': ['8325'], 'MYRLAND': ['8326'], 'STORMOLLA': ['8328'], 'STAMSUND': ['8340', '8378'], 'SENNESVIK': ['8352'], 'VALBERG': ['8357'], 'BØSTAD': ['8360', '8361'], 'LEKNES': ['8370', '8376'], 'GRAVDAL': ['8372', '8377'], 'BALLSTAD': ['8373', '8374'], 'RAMBERG': ['8380', '8388'], 'NAPP': ['8382'], 'SUND': ['8384'], 'MØLNARODDEN': ['8385'], 'FREDVANG': ['8387'], 'REINE': ['8390', '8398'], 'SØRVÅGEN': ['8392', '8393'], 'SORTLAND': ['8400', '8401', '8402', '8403', '8404', '8405', '8406', '8407', '8408', '8415', '8416', '8419'], 'GULLESFJORD': ['8409'], 'LØDINGEN': ['8410', '8411'], 'VESTBYGD': ['8412'], 'KVITNES': ['8413'], 'HENNES': ['8414'], 'BARKESTAD': ['8426'], 'TUNSTAD': ['8428'], 'MYRE': ['8430', '8439'], 'ALSVÅG': ['8432'], 'STØ': ['8438'], 'MELBU': ['8445', '8459'], 'LONKAN': ['8447'], 'STOKMARKNES': ['8450', '8455'], 'STRAUMSJØEN': ['8465', '8475'], 'ANDENES': ['8480', '8483'], 'BLEIK': ['8481'], 'RISØYHAMN': ['8484', '8493'], 'DVERBERG': ['8485'], 'NØSS': ['8488'], 'NORDMELA': ['8489'], 'NARVIK': ['8501', '8502', '8503', '8504', '8505', '8506', '8507', '8508', '8509', '8510', '8512', '8514', '8515', '8516', '8517', '8518', '8519'], 'ANKENES': ['8513', '8520', '8521'], 'BEISFJORD': ['8522'], 'SKJOMEN': ['8523'], 'BJERKVIK': ['8530', '8531'], 'BOGEN': ['8533', '8539'], 'LILAND': ['8534'], 'TÅRSTAD': ['8535'], 'EVENES': ['8536'], 'BALLANGEN': ['8540', '8546'], 'KJELDEBOTN': ['8543'], 'KJØPSVIK': ['8590', '8591'], 'MO': ['8601', '8602', '8603', '8604', '8607', '8608', '8609', '8610', '8611', '8613', '8614', '8616', '8618', '8619', '8622', '8624', '8626', '8634'], 'SKONSENG': ['8615'], 'DALSGRENDA': ['8617'], 'STORFORSHEI': ['8630', '8638'], 'HEMNESBERGET': ['8640', '8641'], 'FINNEIDFJORD': ['8642'], 'BJERKA': ['8643', '8644'], 'KORGEN': ['8646', '8648'], 'BLEIKVASSLIA': ['8647'], 'MOSJØEN': ['8651', '8652', '8654', '8655', '8656', '8657', '8658', '8659', '8660', '8661', '8663', '8664', '8665', '8666'], 'ELSFJORD': ['8672'], 'TROFORS': ['8681', '8682', '8683', '8684', '8685'], 'HATTFJELLDAL': ['8691', '8692', '8693', '8694', '8695', '8696'], 'NESNA': ['8700', '8701'], 'VIKHOLMEN': ['8720'], 'HUSBY': ['8723'], 'SAURA': ['8724'], 'UTSKARPEN': ['8725'], 'BRATLAND': ['8730'], 'ALDRA': ['8732'], 'STUVLAND': ['8733'], 'STOKKVÅGEN': ['8735'], 'NORD-SOLVÆR': ['8740'], 'SELVÆR': ['8742'], 'TONNES': ['8750'], 'KONSVIKOSEN': ['8752', '8753'], 'ØRESVIK': ['8754'], 'SLENESET': ['8762'], 'LOVUND': ['8764'], 'LURØY': ['8766'], 'TRÆNA': ['8770'], 'SANDNESSJØEN': ['8800', '8801', '8802', '8803', '8804', '8805', '8809'], 'LØKTA': ['8813'], 'DØNNA': ['8820', '8827'], 'VANDVE': ['8830'], 'BRASØY': ['8842'], 'SANDVÆR': ['8844'], 'HERØY': ['8850', '8851', '8852'], 'AUSTBØ': ['8854'], 'TJØTTA': ['8860', '8861'], 'TRO': ['8865'], 'VISTHUS': ['8870'], 'BÆRØYVÅGEN': ['8880'], 'LEIRFJORD': ['8890', '8891'], 'SUNDØY': ['8892'], 'BARDAL': ['8897'], 'BRØNNØYSUND': ['8900', '8901', '8902', '8904', '8905', '8906', '8907', '8908', '8909', '8910'], 'SØMNA': ['8920', '8921', '8922'], 'VELFJORD': ['8960', '8961'], 'VEVELSTAD': ['8976', '8977'], 'VEGA': ['8981', '8982', '8983', '8984', '8986'], 'YLVINGEN': ['8985'], 'TROMSØ': ['9006', '9007', '9008', '9009', '9010', '9011', '9012', '9013', '9014', '9015', '9016', '9017', '9018', '9019', '9037', '9038', '9240', '9251', '9252', '9253', '9254', '9255', '9256', '9257', '9258', '9259', '9260', '9261', '9262', '9263', '9265', '9266', '9267', '9268', '9269', '9270', '9271', '9272', '9273', '9274', '9275', '9276', '9277', '9278', '9279', '9280', '9281', '9282', '9283', '9284', '9285', '9286', '9287', '9288', '9290', '9291', '9292', '9293', '9294', '9296', '9298', '9299'], 'TROMSDALEN': ['9020', '9021', '9029'], 'KROKELVDALEN': ['9022', '9023'], 'TOMASJORD': ['9024'], 'RAMFJORDBOTN': ['9027'], 'SJURSNES': ['9030'], 'OLDERVIK': ['9034'], 'NORDKJOSBOTN': ['9040', '9049'], 'LAKSVATN': ['9042'], 'JØVIK': ['9043'], 'LAKSELVBUKT': ['9045'], 'OTEREN': ['9046'], 'STORSTEINNES': ['9050', '9059'], 'MEISTERVIK': ['9055'], 'MORTENHALS': ['9056'], 'VIKRAN': ['9057'], 'LYNGSEIDET': ['9060', '9069'], 'FURUFLATEN': ['9062'], 'SVENSBY': ['9064'], 'NORD-LENANGEN': ['9068'], 'KVALØYSLETTA': ['9100', '9101', '9102'], 'KVALØYA': ['9103', '9104', '9105', '9107', '9108', '9109'], 'STRAUMSBUKTA': ['9106'], 'SOMMARØY': ['9110', '9119'], 'BRENSHOLMEN': ['9118'], 'VENGSØY': ['9120'], 'TUSSØY': ['9128'], 'HANSNES': ['9130', '9134'], 'KÅRVIK': ['9131'], 'STAKKVIK': ['9132'], 'VANNVÅG': ['9135', '9137'], 'VANNAREID': ['9136'], 'KARLSØY': ['9138'], 'REBBENES': ['9140'], 'MJØLVIK': ['9141'], 'SKIBOTN': ['9142', '9143'], 'SAMUELSBERG': ['9144', '9145'], 'OLDERDALEN': ['9146', '9148'], 'BIRTAVARRE': ['9147', '9149'], 'STORSLETT': ['9151', '9154', '9156', '9157', '9158'], 'SØRKJOSEN': ['9152', '9155'], 'ROTSUND': ['9153'], 'HAVNNES': ['9159'], 'BURFJORD': ['9161', '9169'], 'SØRSTRAUMEN': ['9162'], 'JØKELFJORD': ['9163'], 'LONGYEARBYEN': ['9170', '9171'], 'NY-ÅLESUND': ['9173'], 'HOPEN': ['9174'], 'SVEAGRUVA': ['9175'], 'BJØRNØYA': ['9176'], 'BARENTSBURG': ['9178'], 'SKJERVØY': ['9180', '9189'], 'HAMNEIDET': ['9181'], 'SEGLVIK': ['9182'], 'REINFJORD': ['9184'], 'SPILDRA': ['9185'], 'ANDSNES': ['9186'], 'VALANHAMN': ['9187'], 'AKKARVIK': ['9190'], 'ARNØYHAMN': ['9192'], 'NIKKEBY': ['9193'], 'LAUKSLETTA': ['9194'], 'ÅRVIKSAND': ['9195'], 'ULØYBUKT': ['9197'], 'FINNSNES': ['9300', '9305', '9306', '9307', '9308', '9309'], 'ROSSFJORDSTRAUMEN': ['9302'], 'SILSAND': ['9303', '9370'], 'VANGSVIK': ['9304'], 'SØRREISA': ['9310', '9315'], 'BRØSTADBOTN': ['9311', '9316'], 'MOEN': ['9321', '9329'], 'KARLSTAD': ['9322'], 'BARDUFOSS': ['9325', '9326'], 'ØVERBYGD': ['9334', '9335'], 'RUNDHAUG': ['9336'], 'SJØVEGAN': ['9350', '9355'], 'TENNEVOLL': ['9357', '9358'], 'BARDU': ['9360', '9365'], 'GIBOSTAD': ['9372', '9382'], 'BOTNHAMN': ['9373'], 'SKATVIK': ['9376'], 'GRYLLEFJORD': ['9379', '9380'], 'TORSKEN': ['9381'], 'SKALAND': ['9384', '9385'], 'SENJAHOPEN': ['9386', '9387'], 'FJORDGARD': ['9388'], 'HUSØY': ['9389'], 'STONGLANDSEIDET': ['9391', '9392'], 'FLAKSTADVÅG': ['9393'], 'KALDFARNES': ['9395'], 'HARSTAD': ['9402', '9403', '9404', '9405', '9406', '9407', '9408', '9409', '9411', '9414', '9415', '9416', '9479', '9480', '9481', '9482', '9483', '9484', '9485', '9486', '9487', '9488', '9489', '9496', '9497', '9498'], 'SØRVIK': ['9419'], 'LUNDENES': ['9420'], 'GRØTAVÆR': ['9423'], 'KJØTTA': ['9424'], 'SANDSØY': ['9425'], 'BJARKØY': ['9426'], 'MELØYVÆR': ['9427'], 'SANDTORG': ['9430'], 'KONGSVIK': ['9436'], 'EVENSKJER': ['9439', '9440'], 'FJELLDAL': ['9441'], 'RAMSUND': ['9442', '9448'], 'MYKLEBOSTAD': ['9443'], 'TOVIK': ['9445'], 'GROVFJORD': ['9446', '9447'], 'HAMNVIK': ['9450', '9451'], 'KRÅKRØHAMN': ['9453'], 'ÅNSTAD': ['9454'], 'ENGENES': ['9455', '9456'], 'GRATANGEN': ['9470', '9471'], 'BORKENES': ['9475', '9476'], 'ALTA': ['9501', '9502', '9503', '9504', '9505', '9506', '9507', '9508', '9509', '9510', '9511', '9512', '9513', '9514', '9515', '9516', '9517', '9518', '9538', '9541'], 'KVIBY': ['9519'], 'KAUTOKEINO': ['9520', '9521', '9522', '9523', '9524', '9527', '9528', '9529'], 'MAZE': ['9525'], 'KVALFJORD': ['9531'], 'HAKKSTABBEN': ['9532'], 'KONGSHUS': ['9533'], 'KORSFJORDEN': ['9536'], 'TVERRELVDALEN': ['9537'], 'TALVIK': ['9540'], 'LANGFJORDBOTN': ['9545'], 'ØKSFJORD': ['9550'], 'BERGSFJORD': ['9580'], 'NUVSVÅG': ['9582'], 'LANGFJORDHAMN': ['9583'], 'SØR-TVERRFJORD': ['9584'], 'SANDLAND': ['9585'], 'LOPPA': ['9586'], 'SKAVNAKK': ['9587'], 'HASVIK': ['9590', '9591'], 'BREIVIKBOTN': ['9593'], 'SØRVÆR': ['9595'], 'HAMMERFEST': ['9600', '9601', '9602', '9603', '9615', '9616'], 'RYPEFJORD': ['9610', '9611'], 'FORSØL': ['9612'], 'KVALSUND': ['9620', '9621'], 'REVSNESHAMN': ['9624'], 'AKKARFJORD': ['9650'], 'LANGSTRAND': ['9651'], 'KÅRHAMN': ['9657'], 'SANDØYBOTN': ['9664'], 'TUFJORD': ['9670'], 'INGØY': ['9672'], 'HAVØYSUND': ['9690', '9691'], 'MÅSØY': ['9692'], 'LAKSELV': ['9700', '9711', '9712'], 'PORSANGMOEN': ['9709'], 'RUSSENES': ['9713'], 'SNEFJORD': ['9714'], 'KOKELV': ['9715'], 'BØRSELV': ['9716'], 'VEIDNESKLUBBEN': ['9717'], 'SKOGANVARRE': ['9722'], 'KARASJOK': ['9730', '9731', '9732', '9733', '9734', '9735', '9736', '9737'], 'LEBESBY': ['9740'], 'KUNES': ['9742'], 'HONNINGSVÅG': ['9750', '9751'], 'NORDVÅGEN': ['9760'], 'KAMØYVÆR': ['9762'], 'SKARSVÅG': ['9763'], 'NORDKAPP': ['9764'], 'GJESVÆR': ['9765'], 'SARNES': ['9766'], 'REPVÅG': ['9768'], 'MEHAMN': ['9770'], 'SKJÅNES': ['9771'], 'LANGFJORDNES': ['9772'], 'NERVEI': ['9773'], 'GAMVIK': ['9775'], 'DYFJORD': ['9782'], 'KJØLLEFJORD': ['9790'], 'VADSØ': ['9800', '9801', '9803', '9804', '9811', '9815'], 'VARANGERBOTN': ['9820', '9840'], 'SIRMA': ['9826'], 'TANA': ['9841', '9842', '9843', '9844', '9845', '9846'], 'KIRKENES': ['9900', '9901', '9915', '9917'], 'BJØRNEVATN': ['9910', '9914'], 'JARFJORD': ['9911'], 'HESSENG': ['9912', '9916'], 'SVANVIK': ['9925'], 'NEIDEN': ['9930'], 'BUGØYNES': ['9935'], 'VARDØ': ['9950', '9951'], 'KIBERG': ['9960'], 'BERLEVÅG': ['9980', '9981'], 'KONGSFJORD': ['9982'], 'BÅTSFJORD': ['9990', '9991']}\n"
     ]
    }
   ],
   "source": [
    "data_list=[]\n",
    "data_dict = {}\n",
    "with open(\"postalcode.txt\") as f:\n",
    "    lines = f.readlines() \n",
    "    for i in lines:\n",
    "        words=i.split(\" \")\n",
    "        data_list.append(words)\n",
    "\n",
    "\n",
    "for j in data_list:\n",
    "    items=j[0].split(\"\\t\")\n",
    "    postalcode=items[0]\n",
    "    city=items[1]\n",
    "    if city not in data_dict:\n",
    "        data_dict[city] = [postalcode]\n",
    "    else:\n",
    "        data_dict[city].append(postalcode)\n",
    "        \n",
    "print(data_dict)\n",
    "    \n"
   ]
  },
  {
   "cell_type": "markdown",
   "id": "f9dd939f",
   "metadata": {},
   "source": [
    "### write a program that recoginzes the postal code or not"
   ]
  },
  {
   "cell_type": "code",
   "execution_count": 113,
   "id": "5ef5af01",
   "metadata": {},
   "outputs": [
    {
     "name": "stdout",
     "output_type": "stream",
     "text": [
      " EC2N 2DB\n",
      "postal code\n"
     ]
    }
   ],
   "source": [
    "import re\n",
    "def postalcode(str):\n",
    "    if re.search(r\"\\w+\\s\\d+[A-Z]\",a):\n",
    "                 return(\"postal code\")\n",
    "    else:\n",
    "        return(\"Not postal code\")\n",
    "        \n",
    "        \n",
    "a=input(\" \")\n",
    "print(postalcode(a))\n"
   ]
  },
  {
   "cell_type": "code",
   "execution_count": null,
   "id": "2b7f766e",
   "metadata": {},
   "outputs": [],
   "source": []
  }
 ],
 "metadata": {
  "kernelspec": {
   "display_name": "Python 3",
   "language": "python",
   "name": "python3"
  },
  "language_info": {
   "codemirror_mode": {
    "name": "ipython",
    "version": 3
   },
   "file_extension": ".py",
   "mimetype": "text/x-python",
   "name": "python",
   "nbconvert_exporter": "python",
   "pygments_lexer": "ipython3",
   "version": "3.9.7"
  }
 },
 "nbformat": 4,
 "nbformat_minor": 5
}
