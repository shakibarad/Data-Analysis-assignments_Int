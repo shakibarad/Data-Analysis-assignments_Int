{
 "cells": [
  {
   "cell_type": "markdown",
   "id": "3abb8656",
   "metadata": {},
   "source": [
    "### 1. Calculate Area of a Circle\n"
   ]
  },
  {
   "cell_type": "code",
   "execution_count": 3,
   "id": "0573a636",
   "metadata": {},
   "outputs": [
    {
     "name": "stdout",
     "output_type": "stream",
     "text": [
      "Enter the radius :2\n",
      "Area of a circle = 12.56\n"
     ]
    }
   ],
   "source": [
    "PI = 3.14\n",
    "r = float(input(\"Enter the radius :\"))\n",
    "area = PI * r * r\n",
    "print(f\"Area of a circle = {area}\")"
   ]
  },
  {
   "cell_type": "markdown",
   "id": "86829660",
   "metadata": {},
   "source": [
    "### 2. Say Hello to user, Expected, ‘Hello name’"
   ]
  },
  {
   "cell_type": "code",
   "execution_count": 5,
   "id": "55e0c328",
   "metadata": {},
   "outputs": [
    {
     "name": "stdout",
     "output_type": "stream",
     "text": [
      "Enter your name :Shakiba\n",
      "Hello Shakiba\n"
     ]
    }
   ],
   "source": [
    "name=input(\"Enter your name :\")\n",
    "print(f\"Hello {name}\")"
   ]
  },
  {
   "cell_type": "markdown",
   "id": "d72545f0",
   "metadata": {},
   "source": [
    "### 3. Calculate Volume of Sphere"
   ]
  },
  {
   "cell_type": "code",
   "execution_count": 6,
   "id": "70b1363b",
   "metadata": {},
   "outputs": [
    {
     "name": "stdout",
     "output_type": "stream",
     "text": [
      "Enter the radius :6\n",
      "Volume of sphere = 904.3199999999998\n"
     ]
    }
   ],
   "source": [
    "PI = 3.14\n",
    "r = float(input(\"Enter the radius :\"))\n",
    "volume = 4/3 *PI * r * r* r\n",
    "print(f\"Volume of sphere = {volume}\")"
   ]
  },
  {
   "cell_type": "markdown",
   "id": "ef154094",
   "metadata": {},
   "source": [
    "### 4. Copy String in n times"
   ]
  },
  {
   "cell_type": "code",
   "execution_count": 13,
   "id": "772c977a",
   "metadata": {},
   "outputs": [
    {
     "name": "stdout",
     "output_type": "stream",
     "text": [
      "Enter your string :shakiba\n",
      " 2\n",
      "shakibashakiba\n"
     ]
    }
   ],
   "source": [
    "your_string=input(\"Enter your string :\")\n",
    "n=int(input(\" \"))\n",
    "print(your_string *n)\n",
    "\n"
   ]
  },
  {
   "cell_type": "code",
   "execution_count": 24,
   "id": "fc3c5761",
   "metadata": {},
   "outputs": [
    {
     "name": "stdout",
     "output_type": "stream",
     "text": [
      "HiHiHiHiHiHiHiHiHiHi\n"
     ]
    }
   ],
   "source": [
    "def repeat(a, b):\n",
    "    repeated_string = a * b\n",
    "    return repeated_string\n",
    "\n",
    "r = repeat(\"Hi\", 10)\n",
    "print(r)"
   ]
  },
  {
   "cell_type": "markdown",
   "id": "4d3a9a9c",
   "metadata": {},
   "source": [
    "### 5. Calculate Area of a Triangle"
   ]
  },
  {
   "cell_type": "code",
   "execution_count": 15,
   "id": "b90672d9",
   "metadata": {},
   "outputs": [
    {
     "name": "stdout",
     "output_type": "stream",
     "text": [
      "Enter first side: 1\n",
      "Enter second side: 3\n",
      "Enter third side: 6\n",
      "The area of the triangle is (3.8726732145403874e-16+6.324555320336759j)\n"
     ]
    }
   ],
   "source": [
    "a = float(input('Enter first side: '))  \n",
    "b = float(input('Enter second side: '))  \n",
    "c = float(input('Enter third side: '))  \n",
    "    \n",
    "s = (a + b + c) / 2   \n",
    "area = (s*(s-a)*(s-b)*(s-c)) ** 0.5  \n",
    "print(f'The area of the triangle is {area}') "
   ]
  },
  {
   "cell_type": "markdown",
   "id": "82037f69",
   "metadata": {},
   "source": [
    "### 6. Calculate Interest\n"
   ]
  },
  {
   "cell_type": "code",
   "execution_count": 29,
   "id": "429bc51d",
   "metadata": {},
   "outputs": [
    {
     "name": "stdout",
     "output_type": "stream",
     "text": [
      "The principal is 100\n",
      "The time period is 8\n",
      "The rate of interest is 2\n",
      "The Interest is 16.0\n"
     ]
    }
   ],
   "source": [
    "def Interest(p,r,t):\n",
    "    print('The principal is', p)\n",
    "    print('The time period is', t)\n",
    "    print('The rate of interest is',r)\n",
    "    Calculate_Interest = (p*r*t)/100\n",
    "    print('The Interest is', Calculate_Interest)\n",
    "    return Calculate_Interest\n",
    "\n",
    "I = Interest(100,2,8)\n"
   ]
  },
  {
   "cell_type": "markdown",
   "id": "19c9f3a8",
   "metadata": {},
   "source": [
    "### 7. calculate Euclidean Distance"
   ]
  },
  {
   "cell_type": "code",
   "execution_count": 38,
   "id": "895be2fc",
   "metadata": {},
   "outputs": [
    {
     "name": "stdout",
     "output_type": "stream",
     "text": [
      "4.24\n"
     ]
    }
   ],
   "source": [
    "def distance(A, B):\n",
    "    D=(((A[0]-B[0])**2)+((A[1]-B[1])**2)+((A[2]-B[2])**2))**0.5\n",
    "    return D\n",
    "\n",
    "A=(2,3,4)\n",
    "B=(1,2,0)\n",
    "ED=distance(A, B)\n",
    "print(\"{:.2f}\".format(ED))\n",
    "    \n",
    "        \n",
    "        "
   ]
  },
  {
   "cell_type": "markdown",
   "id": "a4290929",
   "metadata": {},
   "source": [
    "### 8. Feet to centimeter Converter"
   ]
  },
  {
   "cell_type": "code",
   "execution_count": 42,
   "id": "10c06eb7",
   "metadata": {},
   "outputs": [
    {
     "name": "stdout",
     "output_type": "stream",
     "text": [
      "91.44 centimeter\n"
     ]
    }
   ],
   "source": [
    "def convert(feet):\n",
    "    c=30.48 * feet\n",
    "    return c\n",
    "D= convert(3)\n",
    "print(f\"{D} centimeter\")"
   ]
  },
  {
   "cell_type": "markdown",
   "id": "2be35198",
   "metadata": {},
   "source": [
    "### 9. BMI Calculator"
   ]
  },
  {
   "cell_type": "code",
   "execution_count": 43,
   "id": "7b226ba1",
   "metadata": {},
   "outputs": [
    {
     "name": "stdout",
     "output_type": "stream",
     "text": [
      "Enter your height in cm: 160\n",
      "Enter your weight in kg: 67\n",
      "You BMI is 26.171874999999996\n"
     ]
    }
   ],
   "source": [
    "height = float(input(\"Enter your height in cm: \"))\n",
    "weight = float(input(\"Enter your weight in kg: \"))\n",
    "BMI = weight / (height/100)**2\n",
    "print(f\"You BMI is {BMI}\")"
   ]
  },
  {
   "cell_type": "markdown",
   "id": "50b44a83",
   "metadata": {},
   "source": [
    "### 10. Binary to Decimal\n"
   ]
  },
  {
   "cell_type": "code",
   "execution_count": 46,
   "id": "329d3c81",
   "metadata": {},
   "outputs": [
    {
     "name": "stdout",
     "output_type": "stream",
     "text": [
      "Enter a Binary number:1011\n",
      "The decimal conversion is: 11\n",
      "<class 'int'>\n"
     ]
    }
   ],
   "source": [
    "number= input('Enter a Binary number:')\n",
    "dec_number= int(number, 2)\n",
    "print('The decimal conversion is:', dec_number)\n",
    "print(type(dec_number))"
   ]
  },
  {
   "cell_type": "markdown",
   "id": "bfb67fe8",
   "metadata": {},
   "source": [
    "### 11. receive two integral numbers in string form and compute their sum and then print it in console."
   ]
  },
  {
   "cell_type": "code",
   "execution_count": 66,
   "id": "01496a79",
   "metadata": {},
   "outputs": [
    {
     "name": "stdout",
     "output_type": "stream",
     "text": [
      "Sum =  30\n"
     ]
    }
   ],
   "source": [
    "def calculateSum (a,b):\n",
    "    s = int(a) + int(b)\n",
    "    return s \n",
    "\n",
    "num1 = \"10\"\n",
    "num2 = \"20\"\n",
    "sum = calculateSum (num1, num2)  \n",
    "print (\"Sum = \", sum)\n"
   ]
  },
  {
   "cell_type": "markdown",
   "id": "aec36244",
   "metadata": {},
   "source": [
    "### 12. bitwise operators for any two variable all the bitwise operator that are there"
   ]
  },
  {
   "cell_type": "code",
   "execution_count": 1,
   "id": "ef2c7f71",
   "metadata": {},
   "outputs": [
    {
     "name": "stdout",
     "output_type": "stream",
     "text": [
      "0\n",
      "14\n",
      "-11\n",
      "14\n"
     ]
    }
   ],
   "source": [
    "x=10 # 0000 1010 \n",
    "y=4 # 0000 0100\n",
    "print(x&y)\n",
    "print(x|y)\n",
    "print(~x)\n",
    "print(x^y)"
   ]
  },
  {
   "cell_type": "markdown",
   "id": "6eb1bcf7",
   "metadata": {},
   "source": [
    "### 13. Shift operator"
   ]
  },
  {
   "cell_type": "code",
   "execution_count": 2,
   "id": "a4207b57",
   "metadata": {},
   "outputs": [
    {
     "name": "stdout",
     "output_type": "stream",
     "text": [
      "2\n",
      "40\n"
     ]
    }
   ],
   "source": [
    "print(x>>2)\n",
    "print(x<<2)"
   ]
  },
  {
   "cell_type": "markdown",
   "id": "3633759b",
   "metadata": {},
   "source": [
    "### 14.str1=\" this is a sample daTaa to test for the task\" Check if ‘is’ present in str1"
   ]
  },
  {
   "cell_type": "code",
   "execution_count": 73,
   "id": "62b1d830",
   "metadata": {},
   "outputs": [
    {
     "name": "stdout",
     "output_type": "stream",
     "text": [
      " THIS IS A SAMPLE DATAA TO TEST FOR THE TASK\n"
     ]
    }
   ],
   "source": [
    "str1=\" this is a sample daTaa to test for the task\"\n",
    "if \"present\" not in str1:\n",
    "    print(str1.upper())\n",
    "    \n",
    "    "
   ]
  },
  {
   "cell_type": "code",
   "execution_count": 74,
   "id": "0bc2889a",
   "metadata": {},
   "outputs": [
    {
     "name": "stdout",
     "output_type": "stream",
     "text": [
      " This Is A Sample Dataa To Test For The Task\n"
     ]
    }
   ],
   "source": [
    "print(str1.title())"
   ]
  },
  {
   "cell_type": "code",
   "execution_count": 80,
   "id": "da15dcb1",
   "metadata": {},
   "outputs": [
    {
     "name": "stdout",
     "output_type": "stream",
     "text": [
      "['this', 'is', 'a', 'sample', 'Dataa', 'to', 'test', 'for', 'the', 'task']\n"
     ]
    }
   ],
   "source": [
    "L=str1.split()\n",
    "L[4]=\"Dataa\"\n",
    "print(L)"
   ]
  },
  {
   "cell_type": "code",
   "execution_count": 82,
   "id": "8553244f",
   "metadata": {},
   "outputs": [
    {
     "name": "stdout",
     "output_type": "stream",
     "text": [
      "this is a sample Dataa to test for the task\n"
     ]
    }
   ],
   "source": [
    "S = ' '.join( L)\n",
    "print(S)"
   ]
  },
  {
   "cell_type": "code",
   "execution_count": 84,
   "id": "202819d1",
   "metadata": {},
   "outputs": [
    {
     "name": "stdout",
     "output_type": "stream",
     "text": [
      "this is a sample Data to test for the task\n"
     ]
    }
   ],
   "source": [
    "x = S.replace(\"Dataa\", \"Data\")\n",
    "print(x)"
   ]
  },
  {
   "cell_type": "code",
   "execution_count": 4,
   "id": "40c69b45",
   "metadata": {},
   "outputs": [],
   "source": [
    "str2=\"this is another sample string\"\n",
    "L2=str2.split()"
   ]
  },
  {
   "cell_type": "code",
   "execution_count": 5,
   "id": "9b4cfcc2",
   "metadata": {},
   "outputs": [
    {
     "name": "stdout",
     "output_type": "stream",
     "text": [
      "sample\n"
     ]
    }
   ],
   "source": [
    "print(L2[3])"
   ]
  },
  {
   "cell_type": "code",
   "execution_count": null,
   "id": "15e85c77",
   "metadata": {},
   "outputs": [],
   "source": [
    "T= 21-oct-2020\n",
    "from datetime import datetime\n",
    "print(datetime.now().day)"
   ]
  },
  {
   "cell_type": "markdown",
   "id": "0c4018d4",
   "metadata": {},
   "source": [
    "### 21.Display date, month and year form 21-oct-2020"
   ]
  },
  {
   "cell_type": "code",
   "execution_count": 27,
   "id": "cbc6a1d3",
   "metadata": {},
   "outputs": [
    {
     "name": "stdout",
     "output_type": "stream",
     "text": [
      "21 10 2020\n"
     ]
    }
   ],
   "source": [
    "from datetime import datetime\n",
    "datestring = \"21-oct-2020\"\n",
    "dt = datetime.strptime(datestring,\"%d-%b-%Y\")\n",
    "print (dt.day,dt.month,dt.year)\n"
   ]
  },
  {
   "cell_type": "markdown",
   "id": "0d24986a",
   "metadata": {},
   "source": [
    "### 22. arr = “10,20,30,40,50,60,70”, get “50,60”"
   ]
  },
  {
   "cell_type": "code",
   "execution_count": 12,
   "id": "e4a93f97",
   "metadata": {},
   "outputs": [
    {
     "name": "stdout",
     "output_type": "stream",
     "text": [
      "50,60\n"
     ]
    }
   ],
   "source": [
    "arr=\"10,20,30,40,50,60,70\"\n",
    "A=arr.split(\",\")\n",
    "print(f\"{A[4]},{A[5]}\")"
   ]
  },
  {
   "cell_type": "markdown",
   "id": "b5ae1d4b",
   "metadata": {},
   "source": [
    "### 23.using negative index get \"50 ,60\""
   ]
  },
  {
   "cell_type": "code",
   "execution_count": 13,
   "id": "56f8daf6",
   "metadata": {},
   "outputs": [
    {
     "name": "stdout",
     "output_type": "stream",
     "text": [
      "50,60\n"
     ]
    }
   ],
   "source": [
    "arr=\"10,20,30,40,50,60,70\"\n",
    "A=arr.split(\",\")\n",
    "print(f\"{A[-3]},{A[-2]}\")"
   ]
  },
  {
   "cell_type": "markdown",
   "id": "7e4ea1d4",
   "metadata": {},
   "source": [
    "### 24. From credit_str get ‘8888’ credit_str = \"xxxx----xxxx-8888------xxxx\""
   ]
  },
  {
   "cell_type": "code",
   "execution_count": 17,
   "id": "7b8dbd60",
   "metadata": {},
   "outputs": [
    {
     "name": "stdout",
     "output_type": "stream",
     "text": [
      "8888\n"
     ]
    }
   ],
   "source": [
    "import re\n",
    "credit_str = \"xxxx----xxxx-8888------xxxx\"\n",
    "print(credit_str[13:17])"
   ]
  },
  {
   "cell_type": "markdown",
   "id": "41fa259c",
   "metadata": {},
   "source": [
    "### 25. From credit_str get ‘0’ credit_str = \"1234-5678-9878-0434\""
   ]
  },
  {
   "cell_type": "code",
   "execution_count": 19,
   "id": "42d435a2",
   "metadata": {},
   "outputs": [
    {
     "name": "stdout",
     "output_type": "stream",
     "text": [
      "0\n"
     ]
    }
   ],
   "source": [
    "credit_str = \"1234-5678-9878-0434\"\n",
    "print(credit_str[15])"
   ]
  },
  {
   "cell_type": "markdown",
   "id": "def492b1",
   "metadata": {},
   "source": [
    "### 26. convert a integer into a string and print it in console."
   ]
  },
  {
   "cell_type": "code",
   "execution_count": 23,
   "id": "41d4439a",
   "metadata": {},
   "outputs": [
    {
     "name": "stdout",
     "output_type": "stream",
     "text": [
      "<class 'int'>\n",
      "<class 'str'>\n"
     ]
    }
   ],
   "source": [
    "num=3\n",
    "print(type(num))\n",
    "s=str(num)\n",
    "print(type(s))"
   ]
  },
  {
   "cell_type": "markdown",
   "id": "d774fbfe",
   "metadata": {},
   "source": [
    "### 27. take two strings as input and concatenate them and then print it"
   ]
  },
  {
   "cell_type": "code",
   "execution_count": 24,
   "id": "212683e7",
   "metadata": {},
   "outputs": [
    {
     "name": "stdout",
     "output_type": "stream",
     "text": [
      "hi\n",
      "shakiba\n",
      "hishakiba\n"
     ]
    }
   ],
   "source": [
    "A=input(\"\")\n",
    "B=input(\"\")\n",
    "print(A+B)"
   ]
  },
  {
   "cell_type": "markdown",
   "id": "7811f62e",
   "metadata": {},
   "source": [
    "### 28. convert the given string into list given_string = \" Apples is differnt from Apple Inc\""
   ]
  },
  {
   "cell_type": "code",
   "execution_count": 26,
   "id": "062b7ee7",
   "metadata": {},
   "outputs": [
    {
     "name": "stdout",
     "output_type": "stream",
     "text": [
      "['Apples', 'is', 'differnt', 'from', 'Apple', 'Inc']\n"
     ]
    }
   ],
   "source": [
    "given_string = \" Apples is differnt from Apple Inc\"\n",
    "L=given_string.split()\n",
    "print(L)"
   ]
  },
  {
   "cell_type": "markdown",
   "id": "d559c4f6",
   "metadata": {},
   "source": [
    "### 29. print type of a and get the 1 element a = {(1,2):1,(2,3):2}"
   ]
  },
  {
   "cell_type": "code",
   "execution_count": 30,
   "id": "04e68cb6",
   "metadata": {},
   "outputs": [
    {
     "name": "stdout",
     "output_type": "stream",
     "text": [
      "<class 'dict'>\n",
      "1\n"
     ]
    }
   ],
   "source": [
    "a = {(1,2):1,(2,3):2}\n",
    "print(type(a))\n",
    "print(a[(1,2)])"
   ]
  },
  {
   "cell_type": "markdown",
   "id": "08f4ea0c",
   "metadata": {},
   "source": [
    "### 30. write a program to get list as 4,3,2 from the list below a=1,2,3,4,5"
   ]
  },
  {
   "cell_type": "code",
   "execution_count": 41,
   "id": "42af28b3",
   "metadata": {},
   "outputs": [
    {
     "name": "stdout",
     "output_type": "stream",
     "text": [
      "[4, 3, 2]\n"
     ]
    }
   ],
   "source": [
    "a=[1,2,3,4,5]\n",
    "b=a[-1::-1]\n",
    "print(b[1:4])"
   ]
  },
  {
   "cell_type": "markdown",
   "id": "0f49e73e",
   "metadata": {},
   "source": [
    "### 31.write a program to get odd number only using a slicing a=1,2,3,4,5,6,7,8,9"
   ]
  },
  {
   "cell_type": "code",
   "execution_count": 47,
   "id": "4934e0da",
   "metadata": {},
   "outputs": [
    {
     "name": "stdout",
     "output_type": "stream",
     "text": [
      "(1, 3, 5, 7, 9)\n"
     ]
    }
   ],
   "source": [
    "a=1,2,3,4,5,6,7,8,9\n",
    "print(a[::2])"
   ]
  },
  {
   "cell_type": "markdown",
   "id": "9b7258ff",
   "metadata": {},
   "source": [
    "### 32. create a tuple with (1,2) 5 times"
   ]
  },
  {
   "cell_type": "code",
   "execution_count": 5,
   "id": "2f0f1c44",
   "metadata": {},
   "outputs": [
    {
     "name": "stdout",
     "output_type": "stream",
     "text": [
      "((1, 2), (1, 2), (1, 2), (1, 2), (1, 2))\n"
     ]
    }
   ],
   "source": [
    "T=((1,2),)*5\n",
    "print(T)"
   ]
  },
  {
   "cell_type": "markdown",
   "id": "5db13f12",
   "metadata": {},
   "source": [
    "### 33. from given list create separate lists of strings and numbers.use list comprehension gadgets = \"Mobile\", \"Laptop\", 100, \"Camera\", 310.28, \"Speakers\", 27.00, \"Television\", 1000, \"Laptop Case\", \"Camera Lens\""
   ]
  },
  {
   "cell_type": "code",
   "execution_count": 15,
   "id": "d46519b3",
   "metadata": {},
   "outputs": [
    {
     "name": "stdout",
     "output_type": "stream",
     "text": [
      "Mobile\n",
      "Laptop\n",
      "Camera\n",
      "Speakers\n",
      "Television\n",
      "Laptop Case\n",
      "Camera Lens\n"
     ]
    }
   ],
   "source": [
    "gadgets = [\"Mobile\", \"Laptop\", 100, \"Camera\", 310.28, \"Speakers\", 27.00, \"Television\", 1000, \"Laptop Case\", \"Camera Lens\"]\n",
    "A=[print(i)       for i in gadgets\n",
    "  if type(i)==str]"
   ]
  },
  {
   "cell_type": "code",
   "execution_count": 18,
   "id": "74bbfbc9",
   "metadata": {},
   "outputs": [
    {
     "name": "stdout",
     "output_type": "stream",
     "text": [
      "100\n",
      "310.28\n",
      "27.0\n",
      "1000\n"
     ]
    }
   ],
   "source": [
    "gadgets = [\"Mobile\", \"Laptop\", 100, \"Camera\", 310.28, \"Speakers\", 27.00, \"Television\", 1000, \"Laptop Case\", \"Camera Lens\"]\n",
    "B=[print(i)       for i in gadgets\n",
    "  if type(i)!=str]"
   ]
  },
  {
   "cell_type": "markdown",
   "id": "e9e51c08",
   "metadata": {},
   "source": [
    "### 34. An array is given from the array find the sum of diagonal using list comprehension a_2d=[1, 2, 3, 4, 5, 6, 7, 8, 9]"
   ]
  },
  {
   "cell_type": "code",
   "execution_count": 38,
   "id": "47acd007",
   "metadata": {},
   "outputs": [
    {
     "name": "stdout",
     "output_type": "stream",
     "text": [
      "[[1 2 3]\n",
      " [4 5 6]\n",
      " [7 8 9]]\n"
     ]
    }
   ],
   "source": [
    "a_2d=[1, 2, 3, 4, 5, 6, 7, 8, 9]\n",
    "grid = np.arange(1, 10).reshape((3, 3))\n",
    "print(grid)\n"
   ]
  },
  {
   "cell_type": "code",
   "execution_count": 41,
   "id": "67616b42",
   "metadata": {},
   "outputs": [
    {
     "name": "stdout",
     "output_type": "stream",
     "text": [
      "15\n",
      "15\n"
     ]
    }
   ],
   "source": [
    "l = len(grid[0])\n",
    "print(sum([grid[i][i] for i in range(l)])  )            \n",
    "print(sum([grid[l-1-i][i] for i in range(l-1,-1,-1)]))"
   ]
  },
  {
   "cell_type": "markdown",
   "id": "855018a3",
   "metadata": {},
   "source": [
    "### 35. convert number into tuple of words using comprehension num=8976543201"
   ]
  },
  {
   "cell_type": "code",
   "execution_count": 59,
   "id": "505eece9",
   "metadata": {},
   "outputs": [
    {
     "name": "stdout",
     "output_type": "stream",
     "text": [
      "('8', '9', '7', '6', '5', '4', '3', '2', '0', '1')\n"
     ]
    }
   ],
   "source": [
    "num=8976543201\n",
    "num1=str(num)\n",
    "L=[i for i in num1]\n",
    "print(tuple(L))\n",
    "\n"
   ]
  },
  {
   "cell_type": "markdown",
   "id": "ce18547f",
   "metadata": {},
   "source": [
    "### 36. print the numbers which are divisible by 2 but are not a multiple of 5 numbers = range(1, 10)"
   ]
  },
  {
   "cell_type": "code",
   "execution_count": 65,
   "id": "aa2f7fd8",
   "metadata": {},
   "outputs": [
    {
     "name": "stdout",
     "output_type": "stream",
     "text": [
      "range(1, 10)\n",
      "[2, 4, 6, 8]\n"
     ]
    }
   ],
   "source": [
    "numbers = range(1, 10)\n",
    "print(numbers)\n",
    "L=[i   for i in numbers\n",
    "if i%2==0 and i%5!=0]\n",
    "print(L)"
   ]
  },
  {
   "cell_type": "markdown",
   "id": "8b31d6e9",
   "metadata": {},
   "source": [
    "### 37. print the sum of tuple : use comprehension init_tuple = [(0, 1), (1, 2), (2, 3)]"
   ]
  },
  {
   "cell_type": "code",
   "execution_count": 68,
   "id": "7923457f",
   "metadata": {},
   "outputs": [
    {
     "data": {
      "text/plain": [
       "[1, 3, 5]"
      ]
     },
     "execution_count": 68,
     "metadata": {},
     "output_type": "execute_result"
    }
   ],
   "source": [
    "init_tuple = [(0, 1), (1, 2), (2, 3)]\n",
    "[i[0]+i[1]      for i in init_tuple ]"
   ]
  },
  {
   "cell_type": "markdown",
   "id": "9b849202",
   "metadata": {},
   "source": [
    "### 38. delete the last coumn from the given 4*4 matrix arr = [[1, 2, 3, 4], [4, 5, 6, 7], [8, 9, 10, 11], [12, 13, 14, 15]]"
   ]
  },
  {
   "cell_type": "code",
   "execution_count": 75,
   "id": "4b2574bc",
   "metadata": {},
   "outputs": [
    {
     "data": {
      "text/plain": [
       "array([[ 1,  2,  3],\n",
       "       [ 4,  5,  6],\n",
       "       [ 8,  9, 10],\n",
       "       [12, 13, 14]])"
      ]
     },
     "execution_count": 75,
     "metadata": {},
     "output_type": "execute_result"
    }
   ],
   "source": [
    "arr = [[1, 2, 3, 4], [4, 5, 6, 7], [8, 9, 10, 11], [12, 13, 14, 15]]\n",
    "subarray = np.delete(arr,-1, axis=1)\n",
    "subarray"
   ]
  },
  {
   "cell_type": "markdown",
   "id": "82dffcb5",
   "metadata": {},
   "source": [
    "### 39. get the list of value of dict in sorted way dict = {'c': 97, 'a': 96, 'b': 98}"
   ]
  },
  {
   "cell_type": "code",
   "execution_count": 79,
   "id": "4e581d1f",
   "metadata": {},
   "outputs": [
    {
     "data": {
      "text/plain": [
       "dict_values([97, 96, 98])"
      ]
     },
     "execution_count": 79,
     "metadata": {},
     "output_type": "execute_result"
    }
   ],
   "source": [
    "dict = {'c': 97, 'a': 96, 'b': 98}\n",
    "dict.values()"
   ]
  },
  {
   "cell_type": "markdown",
   "id": "47dc0501",
   "metadata": {},
   "source": [
    "### 40. Creating a Dictionary with Integer Keys and print it"
   ]
  },
  {
   "cell_type": "code",
   "execution_count": 87,
   "id": "4cf37581",
   "metadata": {},
   "outputs": [
    {
     "name": "stdout",
     "output_type": "stream",
     "text": [
      "{1: 1, 2: 2, 3: 3}\n"
     ]
    }
   ],
   "source": [
    "D={}\n",
    "for (k,v) in zip(range(1, 4), range(1, 4)):\n",
    "    D[k] = v\n",
    "\n",
    "print(D)"
   ]
  },
  {
   "cell_type": "code",
   "execution_count": 83,
   "id": "75522990",
   "metadata": {},
   "outputs": [
    {
     "data": {
      "text/plain": [
       "{1: None, 2: None, 3: None}"
      ]
     },
     "execution_count": 83,
     "metadata": {},
     "output_type": "execute_result"
    }
   ],
   "source": [
    "dict.fromkeys(range(1, 4))\n",
    "{1: None, 2: None, 3: None}"
   ]
  },
  {
   "cell_type": "markdown",
   "id": "2b840c6b",
   "metadata": {},
   "source": [
    "### 41. Creating a Dictionary with Mixed keys"
   ]
  },
  {
   "cell_type": "code",
   "execution_count": null,
   "id": "83bd5889",
   "metadata": {},
   "outputs": [],
   "source": [
    "dict_sample = {'brand': 'Tesla', 1: [4, 0]}"
   ]
  },
  {
   "cell_type": "markdown",
   "id": "a3f04dec",
   "metadata": {},
   "source": [
    "### 42. Creating an empty Dictionary"
   ]
  },
  {
   "cell_type": "code",
   "execution_count": 88,
   "id": "49bc09d0",
   "metadata": {},
   "outputs": [
    {
     "name": "stdout",
     "output_type": "stream",
     "text": [
      "{}\n"
     ]
    }
   ],
   "source": [
    "D={}\n",
    "print(D)"
   ]
  },
  {
   "cell_type": "markdown",
   "id": "2787d968",
   "metadata": {},
   "source": [
    "### 43. Creating a Dictionary with dict() method"
   ]
  },
  {
   "cell_type": "code",
   "execution_count": 3,
   "id": "346bd425",
   "metadata": {},
   "outputs": [
    {
     "name": "stdout",
     "output_type": "stream",
     "text": [
      "{4: 2, 3: 2}\n"
     ]
    }
   ],
   "source": [
    "result= dict([(4,2),(3,2)])  \n",
    "print(result)\n"
   ]
  },
  {
   "cell_type": "markdown",
   "id": "2591763a",
   "metadata": {},
   "source": [
    "### 44. Creating a Dictionary with each item as a Pair"
   ]
  },
  {
   "cell_type": "code",
   "execution_count": null,
   "id": "9b4e0bfd",
   "metadata": {},
   "outputs": [],
   "source": [
    "result= dict([(4,2),(3,2)])  \n",
    "print(result)"
   ]
  },
  {
   "cell_type": "markdown",
   "id": "547b85c3",
   "metadata": {},
   "source": [
    "### 45. Creating a Nested Dictionary as shown in the below image {1: 'python', 2: 'For', 3: {'A': 'Welcome', 'B': 'To', 'C': 'Python', 'D': 'class'}}"
   ]
  },
  {
   "cell_type": "code",
   "execution_count": 2,
   "id": "87435bf7",
   "metadata": {},
   "outputs": [
    {
     "name": "stdout",
     "output_type": "stream",
     "text": [
      "{1: 'python', 2: 'For', 3: {'A': 'Welcome', 'B': 'To', 'C': 'Python', 'D': 'class'}}\n"
     ]
    }
   ],
   "source": [
    "a=(1,2,3)\n",
    "b=(\"python\",\"For\", {'A': 'Welcome', 'B': 'To', 'C': 'Python', 'D': 'class'})\n",
    "D=list(zip(a,b))\n",
    "D1=dict(D)\n",
    "print(D1)"
   ]
  },
  {
   "cell_type": "markdown",
   "id": "5854fb1c",
   "metadata": {},
   "source": [
    "### 46. Add a Nested Key value to nested dictionary Dictionary"
   ]
  },
  {
   "cell_type": "code",
   "execution_count": 5,
   "id": "5163ecd3",
   "metadata": {},
   "outputs": [
    {
     "ename": "TypeError",
     "evalue": "unhashable type: 'dict'",
     "output_type": "error",
     "traceback": [
      "\u001b[0;31m---------------------------------------------------------------------------\u001b[0m",
      "\u001b[0;31mTypeError\u001b[0m                                 Traceback (most recent call last)",
      "Input \u001b[0;32mIn [5]\u001b[0m, in \u001b[0;36m<module>\u001b[0;34m\u001b[0m\n\u001b[0;32m----> 1\u001b[0m D1[{\u001b[38;5;241m1\u001b[39m:\u001b[38;5;124m\"\u001b[39m\u001b[38;5;124mshakiba\u001b[39m\u001b[38;5;124m\"\u001b[39m}]\u001b[38;5;241m=\u001b[39m\u001b[38;5;124m\"\u001b[39m\u001b[38;5;124mshakiba\u001b[39m\u001b[38;5;124m\"\u001b[39m\n\u001b[1;32m      2\u001b[0m \u001b[38;5;28mprint\u001b[39m(D1)\n",
      "\u001b[0;31mTypeError\u001b[0m: unhashable type: 'dict'"
     ]
    }
   ],
   "source": [
    "\n",
    "D1[{1:\"shakiba\"}]=\"shakiba\"\n",
    "print(D1)\n",
    "#That does not work because the keys have to be hashable. As a general rule, only immutable objects (strings, integers, floats, frozensets, tuples of immutables) are hashable (though exceptions are possible). So this does not work:"
   ]
  },
  {
   "cell_type": "markdown",
   "id": "99877cdb",
   "metadata": {},
   "source": [
    "### 47. create a dictionary with id:num and value: square for range (0,6) using dict comprehension"
   ]
  },
  {
   "cell_type": "code",
   "execution_count": 6,
   "id": "600ed59d",
   "metadata": {},
   "outputs": [
    {
     "name": "stdout",
     "output_type": "stream",
     "text": [
      "{0: 0, 1: 1, 2: 4, 3: 9, 4: 16, 5: 25}\n"
     ]
    }
   ],
   "source": [
    "D= dict()\n",
    "for i in range(6):\n",
    "    D[i] = i**2\n",
    "print(D)"
   ]
  },
  {
   "cell_type": "markdown",
   "id": "9a47ed64",
   "metadata": {},
   "source": [
    "###  48. create a dictionary using dict comprehension to get the odd square only"
   ]
  },
  {
   "cell_type": "code",
   "execution_count": 7,
   "id": "3d630660",
   "metadata": {},
   "outputs": [
    {
     "name": "stdout",
     "output_type": "stream",
     "text": [
      "{1: 1, 3: 9, 5: 25, 7: 49, 9: 81}\n"
     ]
    }
   ],
   "source": [
    "D= dict()\n",
    "for i in range(10):\n",
    "    if i%2!=0:\n",
    "        D[i] = i**2\n",
    "print(D)"
   ]
  },
  {
   "cell_type": "markdown",
   "id": "4dc036bc",
   "metadata": {},
   "source": [
    "### 49. from a given dict {1: 'a', 2: 'b', 3: 'c'} change the key into item and viceversa"
   ]
  },
  {
   "cell_type": "code",
   "execution_count": 13,
   "id": "6b5d1b81",
   "metadata": {},
   "outputs": [
    {
     "name": "stdout",
     "output_type": "stream",
     "text": [
      "dict_keys([1, 2, 3])\n",
      "dict_values(['a', 'b', 'c'])\n",
      "{'a': 1, 'b': 2, 'c': 3}\n"
     ]
    }
   ],
   "source": [
    "D={1: 'a', 2: 'b', 3: 'c'}\n",
    "D1={}\n",
    "k=D.keys()\n",
    "v=D.values()\n",
    "print(k)\n",
    "print(v)\n",
    "for i in D:\n",
    "    D1[D[i]]=i\n",
    "print(D1)"
   ]
  },
  {
   "cell_type": "markdown",
   "id": "40b1ff5b",
   "metadata": {},
   "source": [
    "### 50. get a hello from the given dict d = {'k1':[{'nest_key':['this is deep','hello']}]}"
   ]
  },
  {
   "cell_type": "code",
   "execution_count": 14,
   "id": "b8688118",
   "metadata": {},
   "outputs": [
    {
     "name": "stdout",
     "output_type": "stream",
     "text": [
      "hello\n"
     ]
    }
   ],
   "source": [
    "d = {'k1':[{'nest_key':['this is deep','hello']}]}\n",
    "print(d[\"k1\"][0][\"nest_key\"][1])"
   ]
  },
  {
   "cell_type": "markdown",
   "id": "a302cee5",
   "metadata": {},
   "source": [
    "### 51. Divisibility Check of user given 2 input of numbers"
   ]
  },
  {
   "cell_type": "code",
   "execution_count": 17,
   "id": "dd467be3",
   "metadata": {},
   "outputs": [
    {
     "name": "stdout",
     "output_type": "stream",
     "text": [
      "Enter num1: 3\n",
      "Enter num2: 4\n",
      "Not Divisible\n"
     ]
    }
   ],
   "source": [
    "num1 = int(input('Enter num1: '))\n",
    "num2 = int(input('Enter num2: '))\n",
    "if(num1%num2 == 0):\n",
    "    print(\"Divisible\")\n",
    "else: \n",
    "    print(\"Not Divisible\")\n",
    "    "
   ]
  },
  {
   "cell_type": "markdown",
   "id": "5eafa807",
   "metadata": {},
   "source": [
    "### 52. Check if number is even or odd"
   ]
  },
  {
   "cell_type": "code",
   "execution_count": 19,
   "id": "65e5d718",
   "metadata": {},
   "outputs": [
    {
     "name": "stdout",
     "output_type": "stream",
     "text": [
      " 3\n",
      "odd\n"
     ]
    }
   ],
   "source": [
    "num=int(input(\" \"))\n",
    "if num%2==0:\n",
    "    print(\"even\")\n",
    "else:\n",
    "    print(\"odd\")"
   ]
  },
  {
   "cell_type": "markdown",
   "id": "38f45575",
   "metadata": {},
   "source": [
    "### 53. Check whether Entered character is Vowel or not"
   ]
  },
  {
   "cell_type": "code",
   "execution_count": 24,
   "id": "bf5a5317",
   "metadata": {},
   "outputs": [
    {
     "name": "stdout",
     "output_type": "stream",
     "text": [
      "Enter your character: r\n",
      " Not Vowel\n"
     ]
    }
   ],
   "source": [
    "Vowels=[\"a\",\"e\",\"o\",\"u\",\"i\",\"A\",\"E\",\"O\",\"U\",\"I\"]\n",
    "character=input(\"Enter your character: \")\n",
    "if character in Vowels:\n",
    "    print(\"Vowel\")\n",
    "else:\n",
    "    print(\" Not Vowel\")"
   ]
  },
  {
   "cell_type": "markdown",
   "id": "c48b23d0",
   "metadata": {},
   "source": [
    "### 54. calculate Sum of n positive Integer example: Sum of n positive Integer till 2 is 3"
   ]
  },
  {
   "cell_type": "code",
   "execution_count": 28,
   "id": "1f5c12d0",
   "metadata": {},
   "outputs": [
    {
     "name": "stdout",
     "output_type": "stream",
     "text": [
      " 5\n",
      "15\n"
     ]
    }
   ],
   "source": [
    "s=0\n",
    "n= int(input(\" \"))\n",
    "for i in range(0,n+1):\n",
    "    s=s+i\n",
    "print(s)"
   ]
  },
  {
   "cell_type": "markdown",
   "id": "52df256a",
   "metadata": {},
   "source": [
    "### 55. calculate the Digit Sum of a number (eg: 123 print 1+2+3=6)"
   ]
  },
  {
   "cell_type": "code",
   "execution_count": 35,
   "id": "ec43b4a1",
   "metadata": {},
   "outputs": [
    {
     "name": "stdout",
     "output_type": "stream",
     "text": [
      " 12345\n",
      "15\n"
     ]
    }
   ],
   "source": [
    "n= int(input(\" \"))\n",
    "num1=str(n)\n",
    "L=[int(i) for i in num1]\n",
    "s=0\n",
    "for j in L:\n",
    "    s=s+j\n",
    "print(s)\n",
    "    "
   ]
  },
  {
   "cell_type": "markdown",
   "id": "8c487e2d",
   "metadata": {},
   "source": [
    "### 56. Count Numbers, Alphabets, and Special Character from user input string"
   ]
  },
  {
   "cell_type": "code",
   "execution_count": 37,
   "id": "6d041d49",
   "metadata": {},
   "outputs": [
    {
     "name": "stdout",
     "output_type": "stream",
     "text": [
      " 123shakiba&\n",
      "11\n"
     ]
    }
   ],
   "source": [
    "char=input(\" \")\n",
    "L=[i for i in char]\n",
    "print(len(L))\n",
    "    "
   ]
  },
  {
   "cell_type": "markdown",
   "id": "e0c94afa",
   "metadata": {},
   "source": [
    "### 57. constuct the given pattern"
   ]
  },
  {
   "cell_type": "code",
   "execution_count": 9,
   "id": "eba46f1b",
   "metadata": {},
   "outputs": [
    {
     "name": "stdout",
     "output_type": "stream",
     "text": [
      "*\n",
      "**\n",
      "***\n",
      "****\n",
      "*****\n",
      "****\n",
      "***\n",
      "**\n",
      "*\n"
     ]
    }
   ],
   "source": [
    "for i in range(0,9):\n",
    "    if i<=4:\n",
    "        print((i+1)* \"*\" )\n",
    "    else:\n",
    "        print((9-i)*\"*\")\n",
    "    "
   ]
  },
  {
   "cell_type": "markdown",
   "id": "02f8c181",
   "metadata": {},
   "source": [
    "### 58. Count number of characters in a string eg : {'h': 1, 'e': 1, 'l': 2, 'o': 1}"
   ]
  },
  {
   "cell_type": "code",
   "execution_count": 11,
   "id": "ef7af68b",
   "metadata": {},
   "outputs": [
    {
     "name": "stdout",
     "output_type": "stream",
     "text": [
      "Counter({'i': 2, 'a': 2, 'H': 1, ' ': 1, 's': 1, 'h': 1, 'k': 1, 'b': 1})\n"
     ]
    }
   ],
   "source": [
    "from collections import Counter\n",
    "print(Counter('Hi shakiba'))\n"
   ]
  },
  {
   "cell_type": "markdown",
   "id": "da8df506",
   "metadata": {},
   "source": [
    "### 59.write a program to compute 5/0 using try except"
   ]
  },
  {
   "cell_type": "code",
   "execution_count": 2,
   "id": "110954a9",
   "metadata": {},
   "outputs": [
    {
     "name": "stdout",
     "output_type": "stream",
     "text": [
      "Enter a number:  12\n",
      "Enter a number: 0\n",
      "An attempt to divide by 0 was detected.\n"
     ]
    }
   ],
   "source": [
    "try:\n",
    "\n",
    "    userInput1 = int(input(\"Enter a number:  \"))\n",
    "    userInput2 = int(input(\"Enter a number: \"))\n",
    "    answer = userInput1/userInput2\n",
    "    print (\"The answer is \", answer)\n",
    "\n",
    "except ZeroDivisionError:\n",
    "    print (\"An attempt to divide by 0 was detected.\")\n"
   ]
  },
  {
   "cell_type": "markdown",
   "id": "ad06155d",
   "metadata": {},
   "source": [
    "### 60. Handle the exception thrown by the code below by using try and except blocks.\n"
   ]
  },
  {
   "cell_type": "code",
   "execution_count": 40,
   "id": "cc61440a",
   "metadata": {},
   "outputs": [
    {
     "name": "stdout",
     "output_type": "stream",
     "text": [
      "unsupported operand type(s) for ** or pow(): 'str' and 'int'\n",
      "typeError\n"
     ]
    }
   ],
   "source": [
    "try:\n",
    "    li=[\"hello\",\"class\"]\n",
    "    for i in li:\n",
    "        M=i**2\n",
    "        print(M)\n",
    "except TypeError as type_err:\n",
    "    print(type_err)\n",
    "    print(\"typeError\")\n"
   ]
  },
  {
   "cell_type": "markdown",
   "id": "5602efd6",
   "metadata": {},
   "source": [
    "### 61. Write a function that asks for an integer and prints the square of it. Use a while loop with a try,except, else block to account for incorrect inputs."
   ]
  },
  {
   "cell_type": "code",
   "execution_count": null,
   "id": "6bced6ee",
   "metadata": {},
   "outputs": [],
   "source": [
    "example: Input an integer: null\n",
    "An error occurred! Please try again!\n",
    "Input an integer: 2\n",
    "Thank you, you number squared is: 4"
   ]
  },
  {
   "cell_type": "code",
   "execution_count": 5,
   "id": "f115afb7",
   "metadata": {},
   "outputs": [
    {
     "name": "stdout",
     "output_type": "stream",
     "text": [
      " Enter a number: \n",
      "An error occurred! Please try again!\n",
      " Enter a number: 2\n",
      "Thank you, you number squared is: 4\n"
     ]
    }
   ],
   "source": [
    "def give_number():\n",
    "    while True:\n",
    "        try:\n",
    "            num=int(input(\" Enter a number: \"))\n",
    "            A=num ** 2\n",
    "            print(f\"Thank you, you number squared is: {A}\" )\n",
    "        except :\n",
    "            print(\"An error occurred! Please try again!\")\n",
    "            continue\n",
    "        else:\n",
    "            break\n",
    "            \n",
    "a=give_number()\n",
    "\n",
    "        \n",
    "    "
   ]
  },
  {
   "cell_type": "markdown",
   "id": "2b04392c",
   "metadata": {},
   "source": [
    "### 62. Accept the String and print the words composed of digits only"
   ]
  },
  {
   "cell_type": "code",
   "execution_count": 9,
   "id": "70554d4d",
   "metadata": {},
   "outputs": [
    {
     "data": {
      "text/plain": [
       "['apple3']"
      ]
     },
     "execution_count": 9,
     "metadata": {},
     "output_type": "execute_result"
    }
   ],
   "source": [
    "L = []\n",
    "str_ = \"Hi shakiba 222 apple3\"\n",
    "t_str_ = str_.split()\n",
    "for i in t_str_:\n",
    "    if any(chr.isalpha() for chr in i) and any(chr.isdigit() for chr in i):\n",
    "        L.append(i)\n",
    "L"
   ]
  },
  {
   "cell_type": "markdown",
   "id": "0bf01438",
   "metadata": {},
   "source": [
    "### 63. find the parity outlier from the given sequence use list comprehension\n",
    "seq=1,2,3,5,7"
   ]
  },
  {
   "cell_type": "code",
   "execution_count": 17,
   "id": "e5646ce9",
   "metadata": {},
   "outputs": [
    {
     "data": {
      "text/plain": [
       "[2]"
      ]
     },
     "execution_count": 17,
     "metadata": {},
     "output_type": "execute_result"
    }
   ],
   "source": [
    "seq=1,2,3,5,7\n",
    "[i    for i in seq \n",
    "if i%2==0\n",
    "]\n"
   ]
  },
  {
   "cell_type": "markdown",
   "id": "8a60c307",
   "metadata": {},
   "source": [
    "### 64. get the complement\n",
    "where:\n",
    "\n",
    "```\n",
    "A ->> T\n",
    "T -->> A\n",
    "C --> G\n",
    "G --> C\n",
    "```\n",
    "\n",
    "for the given DNA dna=\"ATTGC\"\n"
   ]
  },
  {
   "cell_type": "code",
   "execution_count": 18,
   "id": "2e3d183a",
   "metadata": {},
   "outputs": [
    {
     "data": {
      "text/plain": [
       "'TAACG'"
      ]
     },
     "execution_count": 18,
     "metadata": {},
     "output_type": "execute_result"
    }
   ],
   "source": [
    "dna=\"ATTGC\"\n",
    "dict1 = {'A':'T','T':'A','C':'G','G':'C'}\n",
    "\"\".join((dict1[i]) for i in dna)"
   ]
  },
  {
   "cell_type": "markdown",
   "id": "e5845813",
   "metadata": {},
   "source": [
    "### 65. Write a program that inputs a number from the user and displays the factorial of that number using while loop."
   ]
  },
  {
   "cell_type": "code",
   "execution_count": 12,
   "id": "3d6fce5c",
   "metadata": {},
   "outputs": [
    {
     "name": "stdout",
     "output_type": "stream",
     "text": [
      "Enter a number:  5\n",
      "5! = 120\n"
     ]
    }
   ],
   "source": [
    "num=int(input(\"Enter a number:  \"))\n",
    "m=1\n",
    "i=1\n",
    "while i<=num:\n",
    "    m=i*m\n",
    "    i+=1\n",
    "print(f\"{num}! = {m}\")\n",
    "\n",
    "    \n",
    "    "
   ]
  },
  {
   "cell_type": "markdown",
   "id": "feeab215",
   "metadata": {},
   "source": [
    "### 66. Ask the user for a number,to pick the color from the list print the color.\n",
    "color= Blue, Green, Orange, Red"
   ]
  },
  {
   "cell_type": "code",
   "execution_count": 15,
   "id": "c736d7de",
   "metadata": {},
   "outputs": [
    {
     "name": "stdout",
     "output_type": "stream",
     "text": [
      "{1: 'Blue', 2: 'Green', 3: 'Orange', 4: 'Red'}\n",
      "Enter a number:  3\n",
      "Orange\n"
     ]
    }
   ],
   "source": [
    "color=[\"Blue\", \"Green\", \"Orange\",\"Red\"]\n",
    "dict_={}\n",
    "color1=tuple(color)\n",
    "for (k,v) in zip(range(1,5),color1):\n",
    "    dict_[k] = v\n",
    "print(dict_)\n",
    "num=int(input(\"Enter a number:  \"))\n",
    "print(dict_[num])"
   ]
  },
  {
   "cell_type": "markdown",
   "id": "c489f752",
   "metadata": {},
   "source": [
    "### 67. Write a program that computes the value of a+aa+aaa+aaaa with a given digit as the value of a."
   ]
  },
  {
   "cell_type": "code",
   "execution_count": 13,
   "id": "102d67e6",
   "metadata": {},
   "outputs": [
    {
     "name": "stdout",
     "output_type": "stream",
     "text": [
      "Enter digit:5\n",
      "enter a number:2\n",
      "2\n",
      "22\n",
      "222\n",
      "2222\n",
      "22222\n",
      "________________+\n",
      "\n",
      "24690\n"
     ]
    }
   ],
   "source": [
    "digit=int(input(\"Enter digit:\"))\n",
    "num=input(\"enter a number:\")\n",
    " \n",
    " \n",
    "result=0\n",
    "for i in range(1,digit+1):\n",
    "  result= result + int(str(num*i))\n",
    "  print(num*i)\n",
    " \n",
    "print(\"________________+\\n\")\n",
    "print(result)"
   ]
  },
  {
   "cell_type": "markdown",
   "id": "6905f316",
   "metadata": {},
   "source": [
    "## 68. write a program that lets user to input the value seperate by \",\" and create a list from it using list comprehension"
   ]
  },
  {
   "cell_type": "code",
   "execution_count": 1,
   "id": "a5d39afa",
   "metadata": {},
   "outputs": [
    {
     "name": "stdout",
     "output_type": "stream",
     "text": [
      "Enter text with comma: shakiba,hi,are,you,ok\n",
      "['shakiba', 'hi', 'are', 'you', 'ok']\n"
     ]
    }
   ],
   "source": [
    "comma_text = input(\"Enter text with comma: \")\n",
    "comma_text = comma_text.split(',')\n",
    "result = []\n",
    "for i in comma_text:\n",
    "    result.append(i)\n",
    "print(result)"
   ]
  },
  {
   "cell_type": "markdown",
   "id": "0527856a",
   "metadata": {},
   "source": [
    "### 69. Write a program that calculates and prints the value according to the given formula:\n"
   ]
  },
  {
   "cell_type": "code",
   "execution_count": null,
   "id": "7d167930",
   "metadata": {},
   "outputs": [],
   "source": [
    "Q = Square root of (2* C *D)/H\n",
    "given,\n",
    "c=50\n",
    "h=30\n",
    "D is the variable whose values should be input to your program in a comma-separated sequence.\n",
    "Example 100,150,180\n",
    "The output : 18,22,24"
   ]
  },
  {
   "cell_type": "code",
   "execution_count": 3,
   "id": "24782089",
   "metadata": {},
   "outputs": [
    {
     "name": "stdout",
     "output_type": "stream",
     "text": [
      "D: 100,150,180\n",
      "[18, 22, 24]\n"
     ]
    }
   ],
   "source": [
    "import math\n",
    "numbers_list = input(\"D: \")\n",
    "c = 50\n",
    "h = 30\n",
    "numbers_list = numbers_list.split(',')\n",
    "result = []\n",
    "for D in numbers_list:\n",
    "    Q = round(math.sqrt(2 * c * int(D) / h))\n",
    "    result.append(Q)\n",
    "print(result)"
   ]
  },
  {
   "cell_type": "markdown",
   "id": "8bd8d403",
   "metadata": {},
   "source": [
    "### 70. Write a program that accepts a sequence of whitespace separated words as input and prints the words after removing all duplicate words and sorting them alphanumerically."
   ]
  },
  {
   "cell_type": "code",
   "execution_count": 7,
   "id": "fce7af04",
   "metadata": {},
   "outputs": [
    {
     "name": "stdout",
     "output_type": "stream",
     "text": [
      " Enter your text: I have an apple and an green apple\n",
      "I an and apple green have\n"
     ]
    }
   ],
   "source": [
    "str_=input(\" Enter your text: \")\n",
    "L=str_.split(\" \")\n",
    "for i in L:\n",
    "    counts=L.count(i)\n",
    "    if counts>=2:\n",
    "        L.remove(i)\n",
    "        L.sort()\n",
    "print((' ').join(L))\n",
    "        \n",
    "        \n",
    "\n"
   ]
  },
  {
   "cell_type": "markdown",
   "id": "aab39384",
   "metadata": {},
   "source": [
    "### 71. Write a program which accepts a sequence of comma separated 4 digit binary numbers and then check whether they are divisible by 5 or not. print the number.\n",
    "Example: 0100,0011,1010,1001 Then the output should be: 1010\n"
   ]
  },
  {
   "cell_type": "code",
   "execution_count": 14,
   "id": "27ca70b2",
   "metadata": {},
   "outputs": [
    {
     "name": "stdout",
     "output_type": "stream",
     "text": [
      "Enter numbers:0100,0011,1010,1001 \n",
      "1010\n"
     ]
    }
   ],
   "source": [
    "binary_ = input(\"Enter numbers:\")\n",
    "splited = binary_.split(',')\n",
    "\n",
    "number = []\n",
    "for i in splited:\n",
    "        number.append(i)\n",
    "for i in number: \n",
    "    if(int(i, 2)%5 == 0):\n",
    "        print(i)"
   ]
  },
  {
   "cell_type": "markdown",
   "id": "ff1281e2",
   "metadata": {},
   "source": [
    "### 72. By using list comprehension, please write a program to print the list after removing the even index numbers\n",
    "li=range(10)"
   ]
  },
  {
   "cell_type": "code",
   "execution_count": 22,
   "id": "bfa75888",
   "metadata": {},
   "outputs": [
    {
     "name": "stdout",
     "output_type": "stream",
     "text": [
      "[1, 3, 5, 7, 9]\n"
     ]
    }
   ],
   "source": [
    "L=[]\n",
    "for i in range (10):\n",
    "    if i%2!=0:\n",
    "        L.append(i)\n",
    "print(L)"
   ]
  },
  {
   "cell_type": "markdown",
   "id": "7477d749",
   "metadata": {},
   "source": [
    "### 73. write a function to get the sum of two num(use lambda)"
   ]
  },
  {
   "cell_type": "code",
   "execution_count": 24,
   "id": "6c213be1",
   "metadata": {},
   "outputs": [
    {
     "data": {
      "text/plain": [
       "9"
      ]
     },
     "execution_count": 24,
     "metadata": {},
     "output_type": "execute_result"
    }
   ],
   "source": [
    "sum_ = lambda x,y: x+y\n",
    "sum_(4,5)\n"
   ]
  },
  {
   "cell_type": "markdown",
   "id": "8c741601",
   "metadata": {},
   "source": [
    "### 74. write a function to print if leap year or not"
   ]
  },
  {
   "cell_type": "code",
   "execution_count": 25,
   "id": "6c6e3042",
   "metadata": {},
   "outputs": [
    {
     "name": "stdout",
     "output_type": "stream",
     "text": [
      "Enter year:1985\n",
      "not a leap year\n"
     ]
    }
   ],
   "source": [
    "year = int(input(\"Enter year:\"))\n",
    "if (year%4 == 0):\n",
    "    if (year%100 == 0):\n",
    "        if (year%400 == 0):\n",
    "            print(\"leap year\")\n",
    "        else:\n",
    "            print(\"leap year\")\n",
    "    else:\n",
    "        print(\"leap year\")\n",
    "else:\n",
    "    print(\"not a leap year\")"
   ]
  },
  {
   "cell_type": "markdown",
   "id": "7d54d4db",
   "metadata": {},
   "source": [
    "### 75. write a function to count a bit(number of 1) in number (use lambda)"
   ]
  },
  {
   "cell_type": "code",
   "execution_count": 26,
   "id": "59f97686",
   "metadata": {},
   "outputs": [
    {
     "name": "stdout",
     "output_type": "stream",
     "text": [
      "enter bit strearm: 1011\n"
     ]
    },
    {
     "data": {
      "text/plain": [
       "3"
      ]
     },
     "execution_count": 26,
     "metadata": {},
     "output_type": "execute_result"
    }
   ],
   "source": [
    "b = lambda x:x.count('1')\n",
    "b(input(\"enter bit strearm: \"))"
   ]
  },
  {
   "cell_type": "markdown",
   "id": "1138495d",
   "metadata": {},
   "source": [
    "### 76. write a program to get the area of a circle from the radius (use lambda)"
   ]
  },
  {
   "cell_type": "code",
   "execution_count": 1,
   "id": "33ae5f9c",
   "metadata": {},
   "outputs": [
    {
     "data": {
      "text/plain": [
       "50.26548245743669"
      ]
     },
     "execution_count": 1,
     "metadata": {},
     "output_type": "execute_result"
    }
   ],
   "source": [
    "import math\n",
    "area = lambda x: math.pi * x * x\n",
    "area(4)"
   ]
  },
  {
   "cell_type": "markdown",
   "id": "adeb11e0",
   "metadata": {},
   "source": [
    "### 77. write a function to get the factorial of given number use recurssion"
   ]
  },
  {
   "cell_type": "code",
   "execution_count": 10,
   "id": "b86767ee",
   "metadata": {},
   "outputs": [
    {
     "name": "stdout",
     "output_type": "stream",
     "text": [
      "120\n"
     ]
    }
   ],
   "source": [
    "def factorial(n):\n",
    "    if type(n) == int and n >=0:\n",
    "        if n == 0:\n",
    "            return 1\n",
    "        else:\n",
    "            return n * factorial(n-1)\n",
    "    else:\n",
    "        raise TypeError(\"n has to be a positive integer or zero\")\n",
    "        \n",
    "        \n",
    "print(factorial(5))\n"
   ]
  },
  {
   "cell_type": "code",
   "execution_count": null,
   "id": "f42e995b",
   "metadata": {},
   "outputs": [],
   "source": [
    "def factorial(n):\n",
    "    \"\"\" calculates the factorial of n, \n",
    "        n should be an integer and n <= 0 \"\"\"\n",
    "    def inner_factorial(n):\n",
    "        if n == 0:\n",
    "            return 1\n",
    "        else:\n",
    "            return n * inner_factorial(n-1)\n",
    "    if type(n) == int and n >=0:\n",
    "        return inner_factorial(n)\n",
    "    else:\n",
    "        raise TypeError(\"n should be a positve int or 0\")"
   ]
  },
  {
   "cell_type": "markdown",
   "id": "ec45423b",
   "metadata": {},
   "source": [
    "### 78. write a program to remove a duplicate word in a list or user input sentences"
   ]
  },
  {
   "cell_type": "code",
   "execution_count": 3,
   "id": "2ac741a9",
   "metadata": {},
   "outputs": [
    {
     "name": "stdout",
     "output_type": "stream",
     "text": [
      "Enter a sectence:  Hi shakiba Hi Sarah\n",
      "['shakiba', 'Sarah']\n"
     ]
    }
   ],
   "source": [
    "str_=input(\"Enter a sectence:  \")\n",
    "str1= str_.split()\n",
    "L=[]\n",
    "for i in str1:\n",
    "    count=str1.count(i)\n",
    "    if count<2:\n",
    "        L.append(i)\n",
    "print(L)\n",
    "        \n",
    "    "
   ]
  },
  {
   "cell_type": "markdown",
   "id": "8f2cb375",
   "metadata": {},
   "source": [
    "### 79. calculate fibonacci"
   ]
  },
  {
   "cell_type": "code",
   "execution_count": 4,
   "id": "b13b9a62",
   "metadata": {},
   "outputs": [
    {
     "name": "stdout",
     "output_type": "stream",
     "text": [
      " 8\n",
      "0\n",
      "1\n",
      "1\n",
      "2\n",
      "3\n",
      "5\n",
      "8\n",
      "13\n"
     ]
    }
   ],
   "source": [
    "n=int(input(\" \"))\n",
    "A=[]\n",
    "for i in range (0,n):\n",
    "    if i <=1:\n",
    "        A.append(i)\n",
    "    else:\n",
    "        A.append(A[i-1]+A[i-2])\n",
    "for j in A:\n",
    "    print(j)\n",
    "    \n",
    "    \n",
    "    \n",
    "    \n",
    "    "
   ]
  },
  {
   "cell_type": "markdown",
   "id": "d2bd218f",
   "metadata": {},
   "source": [
    "### 80. write a function to get the premutation and combination"
   ]
  },
  {
   "cell_type": "code",
   "execution_count": 5,
   "id": "2e4e65ee",
   "metadata": {},
   "outputs": [
    {
     "name": "stdout",
     "output_type": "stream",
     "text": [
      "permutations:\n",
      "(1, 2)\n",
      "(1, 3)\n",
      "(1, 4)\n",
      "(2, 1)\n",
      "(2, 3)\n",
      "(2, 4)\n",
      "(3, 1)\n",
      "(3, 2)\n",
      "(3, 4)\n",
      "(4, 1)\n",
      "(4, 2)\n",
      "(4, 3)\n",
      "combinations:\n",
      "(1, 2)\n",
      "(1, 3)\n",
      "(1, 4)\n",
      "(2, 3)\n",
      "(2, 4)\n",
      "(3, 4)\n"
     ]
    }
   ],
   "source": [
    "from itertools import permutations\n",
    "from itertools import combinations\n",
    "\n",
    "perm = permutations([1, 2, 3, 4], 2)\n",
    "print(\"permutations:\")\n",
    "for i in list(perm):\n",
    "    print (i)\n",
    "    \n",
    "comb = combinations([1, 2, 3, 4], 2)\n",
    "print(\"combinations:\")\n",
    "for i in list(comb):\n",
    "    print (i)"
   ]
  },
  {
   "cell_type": "markdown",
   "id": "a407404f",
   "metadata": {},
   "source": [
    "### 81. write a function to draw a diamond shape from a user given number: hint: only odd number can draw a diamond shape"
   ]
  },
  {
   "cell_type": "code",
   "execution_count": 19,
   "id": "a379976d",
   "metadata": {},
   "outputs": [
    {
     "name": "stdout",
     "output_type": "stream",
     "text": [
      "Enter odd number: 11\n",
      "     *\n",
      "    ***\n",
      "   *****\n",
      "  *******\n",
      " *********\n",
      "***********\n",
      " *********\n",
      "  *******\n",
      "   *****\n",
      "    ***\n",
      "     *\n"
     ]
    }
   ],
   "source": [
    "n=int(input(\"Enter odd number: \"))\n",
    "for i in range(0,n):\n",
    "    if i<(n+1)/2:\n",
    "        print(((((n-1)//2)-i)*\" \")+(2*i+1)*\"*\")\n",
    "    else:\n",
    "        print((((-n+2*i+1)//2)*\" \")+(2*n-2*i-1)*\"*\")\n",
    "    \n",
    "        \n",
    "    "
   ]
  },
  {
   "cell_type": "code",
   "execution_count": 49,
   "id": "7fb773a5",
   "metadata": {},
   "outputs": [
    {
     "name": "stdout",
     "output_type": "stream",
     "text": [
      "      *\n",
      "     ***\n",
      "    *****\n",
      "   *******\n",
      "  *********\n",
      " ***********\n",
      "  *********\n",
      "   *******\n",
      "    *****\n",
      "     ***\n",
      "      *\n"
     ]
    }
   ],
   "source": [
    "print(((6*\" \")+\"*\"))\n",
    "print(((5*\" \")+\"***\"))\n",
    "print(((4*\" \")+\"*****\"))\n",
    "print(((3*\" \")+\"*******\"))\n",
    "print(((2*\" \")+\"*********\"))\n",
    "print(((1*\" \")+\"***********\"))\n",
    "print(((2*\" \")+\"*********\"))\n",
    "print(((3*\" \")+\"*******\"))\n",
    "print(((4*\" \")+\"*****\"))\n",
    "print(((5*\" \")+\"***\"))\n",
    "print(((6*\" \")+\"*\"))"
   ]
  },
  {
   "cell_type": "markdown",
   "id": "aa2a76f4",
   "metadata": {},
   "source": [
    "### 82. build a simple calculator which can: add subtract multiply divide"
   ]
  },
  {
   "cell_type": "code",
   "execution_count": 16,
   "id": "9324704a",
   "metadata": {},
   "outputs": [
    {
     "name": "stdout",
     "output_type": "stream",
     "text": [
      "Number one :2\n",
      "number second: 7\n",
      "Select operation: Add,Subtract,Multiply,DivideDivide\n",
      "a/b = 0.2857142857142857\n"
     ]
    }
   ],
   "source": [
    "D={\"Add\":(\"a+b\"),\"Subtract\":(\"a-b\"),\"Multiply\":(\"a*b\"),\"Divide\":(\"a/b\")}\n",
    "try:\n",
    "    a=int(input(\"Number one :\"))\n",
    "    b=int(input(\"number second: \"))\n",
    "    n = input(\"Select operation: Add,Subtract,Multiply,Divide\")\n",
    "    print(f\"{D[n]} = {eval(D[n])}\")\n",
    "    \n",
    "except ZeroDivisionError:\n",
    "    print (\"An attempt to divide by 0 was detected.\")\n"
   ]
  },
  {
   "cell_type": "markdown",
   "id": "16ed1ef0",
   "metadata": {},
   "source": [
    "### 83. define a function which can print a given string in a circular rotation"
   ]
  },
  {
   "cell_type": "code",
   "execution_count": 25,
   "id": "f6fb669c",
   "metadata": {},
   "outputs": [
    {
     "name": "stdout",
     "output_type": "stream",
     "text": [
      " shakiba\n",
      "abikahs\n"
     ]
    }
   ],
   "source": [
    "str1=input(\" \")\n",
    "str2=[i   for i in str1]\n",
    "L=[]\n",
    "for i in range(len(str2)):\n",
    "    L.append(str2.pop())\n",
    "print(\"\".join(L))"
   ]
  },
  {
   "cell_type": "markdown",
   "id": "2f7fab50",
   "metadata": {},
   "source": [
    "### 84. write a function to calculate the GCD of 2 number"
   ]
  },
  {
   "cell_type": "code",
   "execution_count": 23,
   "id": "95e80ad7",
   "metadata": {},
   "outputs": [
    {
     "name": "stdout",
     "output_type": "stream",
     "text": [
      "Enter one number: 5\n",
      "Enter second number: 35\n",
      "[1, 5]\n",
      "5\n"
     ]
    }
   ],
   "source": [
    "def divider(a):\n",
    "    L1=[]\n",
    "    for i in range(1,a+1):\n",
    "        if a%i==0:\n",
    "            L1.append(i)\n",
    "    return L1\n",
    "    \n",
    "\n",
    "    \n",
    "num1=int(input(\"Enter one number: \"))\n",
    "num2=int(input(\"Enter second number: \"))\n",
    "\n",
    "L2=[]\n",
    "for i in divider(num1):\n",
    "    if i in divider(num2):\n",
    "        L2.append(i)\n",
    "print(L2)\n",
    "        \n",
    "L2.sort()\n",
    "print(L2[-1])\n",
    "        \n",
    "\n",
    "\n",
    "            \n",
    "            \n",
    "            \n",
    "\n",
    "\n",
    "            "
   ]
  },
  {
   "cell_type": "markdown",
   "id": "7ee8bc1c",
   "metadata": {},
   "source": [
    "### 85. Write a Python function to check whether a string is pangram or not."
   ]
  },
  {
   "cell_type": "code",
   "execution_count": 22,
   "id": "9681021c",
   "metadata": {},
   "outputs": [
    {
     "name": "stdout",
     "output_type": "stream",
     "text": [
      "True\n"
     ]
    }
   ],
   "source": [
    "def is_panagram(sentence):\n",
    "    alphabets='abcdefghijklmnopqrstuvwxyz' \n",
    "    b=0\n",
    "    for letter in alphabets:             \n",
    "        if letter not in sentence.lower(): \n",
    "            return False\n",
    "        else:\n",
    "            b=1\n",
    "    if b!=0:\n",
    "        return True\n",
    "        \n",
    "        \n",
    "\n",
    "w=is_panagram(\"The quick brown fox jumps over the lazy dog\")\n",
    "print(w)\n",
    "    \n",
    "    "
   ]
  },
  {
   "cell_type": "markdown",
   "id": "a56b2f51",
   "metadata": {},
   "source": [
    "### 86. write a function which take a list of number and target where target is number . print the index from the list where the sum of the index value is equal to that of the target"
   ]
  },
  {
   "cell_type": "code",
   "execution_count": 22,
   "id": "11584b98",
   "metadata": {},
   "outputs": [
    {
     "name": "stdout",
     "output_type": "stream",
     "text": [
      "[0, 5]\n"
     ]
    }
   ],
   "source": [
    "def target_value(target,List):\n",
    "    A=[]\n",
    "    for i in range(0,target+1):\n",
    "        z=target-i\n",
    "        A.append(z)\n",
    "        for i in A:\n",
    "            return [A.index(i),i]\n",
    "    \n",
    "    \n",
    "List = [1,2,3,4,5,6,7,8]\n",
    "print(target_value(5, List))\n",
    "    "
   ]
  },
  {
   "cell_type": "markdown",
   "id": "b6ec31d0",
   "metadata": {},
   "source": [
    "### 87. write a function to calculate the LCM of a 2 number lcm of 54 and 42 is 216"
   ]
  },
  {
   "cell_type": "code",
   "execution_count": 5,
   "id": "ce4bb994",
   "metadata": {},
   "outputs": [
    {
     "name": "stdout",
     "output_type": "stream",
     "text": [
      "12\n"
     ]
    }
   ],
   "source": [
    "def multiples(a,b):\n",
    "    i=1\n",
    "    while True:\n",
    "        c=a*i\n",
    "        if c%b!=0:\n",
    "             i+=1\n",
    "        else:\n",
    "            break\n",
    "    return c\n",
    "    \n",
    "print(multiples(4,6))\n",
    "        \n",
    "        \n",
    "        "
   ]
  },
  {
   "cell_type": "markdown",
   "id": "dcd828fa",
   "metadata": {},
   "source": [
    "### 88. write a function that gives the prime factor only"
   ]
  },
  {
   "cell_type": "code",
   "execution_count": 28,
   "id": "ac6d818c",
   "metadata": {},
   "outputs": [
    {
     "name": "stdout",
     "output_type": "stream",
     "text": [
      " 12\n",
      "[2, 3]\n"
     ]
    }
   ],
   "source": [
    "a=int(input(\" \"))\n",
    "\n",
    "def prim(a):\n",
    "    A=[]\n",
    "    for j in range(1,a+1):\n",
    "            if a%j==0:\n",
    "                A.append(j)\n",
    "    return A\n",
    "\n",
    "\n",
    "\n",
    "\n",
    "B=[]\n",
    "for k in prim(a):\n",
    "    T=prim(k)\n",
    "    if len(T)==2:\n",
    "        B.append(k)\n",
    "print(B)\n",
    "\n",
    "     "
   ]
  },
  {
   "cell_type": "markdown",
   "id": "eb6e46c1",
   "metadata": {},
   "source": [
    "### 89. write a function that print the first non repeating letter"
   ]
  },
  {
   "cell_type": "code",
   "execution_count": 33,
   "id": "4ba48df1",
   "metadata": {},
   "outputs": [
    {
     "name": "stdout",
     "output_type": "stream",
     "text": [
      "s\n"
     ]
    }
   ],
   "source": [
    "def notrepeating(mystring):\n",
    "    C=[i  for i in mystring]\n",
    "    A=[]\n",
    "    for j in C:\n",
    "        if mystring.count(j)==1:\n",
    "            A.append(j)\n",
    "    return A[0]\n",
    "\n",
    "print(notrepeating(\"hishakiba\"))\n",
    "   \n",
    "        "
   ]
  },
  {
   "cell_type": "markdown",
   "id": "c15d5457",
   "metadata": {},
   "source": [
    "### 90. return sum of array excluding the lowest and highest element"
   ]
  },
  {
   "cell_type": "code",
   "execution_count": 4,
   "id": "fb757cc9",
   "metadata": {},
   "outputs": [
    {
     "name": "stdout",
     "output_type": "stream",
     "text": [
      "[ 0  1  4 11]\n",
      "16\n"
     ]
    }
   ],
   "source": [
    "import numpy as np\n",
    "mylist=[100,-2,0,11,4,1]\n",
    "mylist.sort()\n",
    "mylist_array=np.array(mylist[1:-1])\n",
    "print(mylist_array)\n",
    "sum=0\n",
    "for i in mylist_array:\n",
    "    sum+=i\n",
    "print(sum)\n",
    "\n",
    "\n",
    "    "
   ]
  },
  {
   "cell_type": "markdown",
   "id": "6bc28f0b",
   "metadata": {},
   "source": [
    "### 91. define a function take a string value replace any number below 5 with 0 and any number above 5 with 1"
   ]
  },
  {
   "cell_type": "code",
   "execution_count": 5,
   "id": "05413d3e",
   "metadata": {},
   "outputs": [
    {
     "data": {
      "text/plain": [
       "'000011111'"
      ]
     },
     "execution_count": 5,
     "metadata": {},
     "output_type": "execute_result"
    }
   ],
   "source": [
    "def Five_convert(str_):\n",
    "    li=[]\n",
    "    for i in str_:\n",
    "        if int(i)<5:\n",
    "            li.append(0)\n",
    "        elif int(i)>=5:\n",
    "            li.append(1)\n",
    "    return ' '.join([str(j) for j in li]).replace(' ','')\n",
    "    \n",
    "Five_convert(\"123456789\")"
   ]
  },
  {
   "cell_type": "markdown",
   "id": "81a5ba69",
   "metadata": {},
   "source": [
    "### 92. write a function to get a day of week eg: (30,8,2010)=1"
   ]
  },
  {
   "cell_type": "markdown",
   "id": "42d87487",
   "metadata": {},
   "source": [
    "### 93. write a function to get all the permutation of the string"
   ]
  },
  {
   "cell_type": "code",
   "execution_count": 17,
   "id": "b1043a68",
   "metadata": {},
   "outputs": [
    {
     "name": "stdout",
     "output_type": "stream",
     "text": [
      "[0, 1, 8, 27, 64]\n"
     ]
    }
   ],
   "source": [
    "def cube (num):\n",
    "    L=[i**3 for i in range(num)]\n",
    "    return L\n",
    "print(cube(5))\n",
    "    "
   ]
  },
  {
   "cell_type": "code",
   "execution_count": 22,
   "id": "b2b9f7a8",
   "metadata": {},
   "outputs": [
    {
     "name": "stdout",
     "output_type": "stream",
     "text": [
      "<generator object cube at 0x7fd608309660>\n"
     ]
    }
   ],
   "source": [
    "def cube (num):\n",
    "    for i in range(num):\n",
    "        yield i**3\n",
    "    return\n",
    "        \n",
    "num=5\n",
    "for i in cube(num):\n",
    "    print(i)\n"
   ]
  },
  {
   "cell_type": "code",
   "execution_count": 39,
   "id": "e3999a62",
   "metadata": {},
   "outputs": [
    {
     "name": "stdout",
     "output_type": "stream",
     "text": [
      "['ABC', 'ACB', 'BAC', 'BCA', 'CAB', 'CBA']\n"
     ]
    }
   ],
   "source": [
    "def permutations(string):\n",
    "    \"\"\"\n",
    "    Create all permutations of a string with non-repeating characters\n",
    "    \"\"\"\n",
    "    permutation_list = []\n",
    "    if len(string) == 1:\n",
    "        return [string]\n",
    "    else:\n",
    "        for char in string:\n",
    "            [permutation_list.append(char + a) for a in permutations(string.replace(char, \"\", 1))]\n",
    "    return permutation_list\n",
    "\n",
    "print(permutations(\"ABC\"))"
   ]
  },
  {
   "cell_type": "markdown",
   "id": "08235487",
   "metadata": {},
   "source": [
    "### 94. write a function to get all the possible subset of a string in a list"
   ]
  },
  {
   "cell_type": "code",
   "execution_count": 108,
   "id": "9eb6514a",
   "metadata": {},
   "outputs": [
    {
     "name": "stdout",
     "output_type": "stream",
     "text": [
      "['AA', 'AB', 'AC', 'AD', 'BA', 'BB', 'BC', 'BD', 'CA', 'CB', 'CC', 'CD', 'DA', 'DB', 'DC', 'DD']\n"
     ]
    }
   ],
   "source": [
    "def list_string(str):\n",
    "  L = [x+y for x in str for y in str if len(str) > 1]\n",
    "  return L\n",
    "\n",
    "print(list_string(\"ABCD\"))"
   ]
  },
  {
   "cell_type": "markdown",
   "id": "4fd93a2c",
   "metadata": {},
   "source": [
    "### 95. write a function to get the length of the last word only from a string seperated by space ex:('string of words') == 5 ex:('adasd ')=5"
   ]
  },
  {
   "cell_type": "code",
   "execution_count": 109,
   "id": "5a5606ee",
   "metadata": {},
   "outputs": [
    {
     "name": "stdout",
     "output_type": "stream",
     "text": [
      "5\n"
     ]
    }
   ],
   "source": [
    "def list_string(str):\n",
    "    L=str.split(\" \")\n",
    "    return len(L[-1])\n",
    "print(list_string('string of words'))\n",
    "        \n",
    "    "
   ]
  },
  {
   "cell_type": "markdown",
   "id": "016d7a37",
   "metadata": {},
   "source": [
    "### 96. write a program for a tower of hanoi puzzle"
   ]
  },
  {
   "cell_type": "markdown",
   "id": "fc5c620d",
   "metadata": {},
   "source": [
    "### 97. Use a for loop to estimate π from the first 20 terms of the Madhava series:\n"
   ]
  },
  {
   "cell_type": "code",
   "execution_count": 111,
   "id": "5745145c",
   "metadata": {},
   "outputs": [
    {
     "name": "stdout",
     "output_type": "stream",
     "text": [
      "pi= 3.1415926535714034\n"
     ]
    }
   ],
   "source": [
    "import math\n",
    "series = 0\n",
    "for k in range(20):\n",
    "    series += math.pow(-3, -k) / (2*k+1)\n",
    "pi = math.sqrt(12)*series\n",
    "print('pi=', pi)"
   ]
  },
  {
   "cell_type": "markdown",
   "id": "3bcc7802",
   "metadata": {},
   "source": [
    "### 98. write a function to check if the number is harshad or not A Harshad number is an integer that is divisible by the sum of its digits (for example, 21 is divisible by 2+1=3 and so is a Harshad number)."
   ]
  },
  {
   "cell_type": "code",
   "execution_count": 13,
   "id": "bec4a878",
   "metadata": {},
   "outputs": [
    {
     "name": "stdout",
     "output_type": "stream",
     "text": [
      "45\n",
      "[4, 5]\n",
      "Harshed\n"
     ]
    }
   ],
   "source": [
    "num = input()\n",
    "\n",
    "l=[int(num[x]) for x in range(len(num))]\n",
    "\n",
    "print(l)\n",
    "\n",
    "if(int(num)%sum(l)==0):\n",
    "    print(\"Harshed\")\n",
    "else:\n",
    "    print(\"Not Harshed\")"
   ]
  },
  {
   "cell_type": "markdown",
   "id": "cf2c83d4",
   "metadata": {},
   "source": [
    "### 99. write a function select_word(): to get a random word from a list of words use module random and call random.randint() to chose random"
   ]
  },
  {
   "cell_type": "code",
   "execution_count": 15,
   "id": "b677c1df",
   "metadata": {},
   "outputs": [
    {
     "name": "stdout",
     "output_type": "stream",
     "text": [
      "shakiba\n"
     ]
    }
   ],
   "source": [
    "import random \n",
    " \n",
    "word_list = [\"I\", \"am\", \"shakiba\"] \n",
    "random_word = random.choice(word_list) \n",
    "print(random_word)"
   ]
  },
  {
   "cell_type": "markdown",
   "id": "aa839757",
   "metadata": {},
   "source": [
    "### 100. write a function blank(word): where it should print _ after first letter to the range of length of word i.e apple= a _ _ _ _"
   ]
  },
  {
   "cell_type": "code",
   "execution_count": 24,
   "id": "c5245419",
   "metadata": {},
   "outputs": [
    {
     "name": "stdout",
     "output_type": "stream",
     "text": [
      "s------\n"
     ]
    }
   ],
   "source": [
    "def blanck_word(str):\n",
    "    L=[ i  for i in str]\n",
    "    for i in range(1,len(L)):\n",
    "        L[i]=\"-\"\n",
    "    return ''.join(L)\n",
    "print(blanck_word(\"shakiba\"))    "
   ]
  },
  {
   "cell_type": "markdown",
   "id": "46aeb356",
   "metadata": {},
   "source": [
    "### 101.compete the code below"
   ]
  },
  {
   "cell_type": "code",
   "execution_count": null,
   "id": "65ae1fc6",
   "metadata": {},
   "outputs": [],
   "source": [
    "write a code in your code section\n",
    "def clue(str):\n",
    "    L=[ i  for i in str]\n",
    "    for i in range(1,len(L)):\n",
    "        L[i]=\"-\"\n",
    "    return ''.join(L)\n",
    "\n",
    "\n",
    "\n",
    "\n",
    "def hang_man(word,clue,letter,try=True):\n",
    "    # create a variable \"try\" and set it to True\n",
    "    try=len(word)\n",
    "    #--------------------------------\n",
    "    # loop through the length of the word\n",
    "    for i in range(len(word)):\n",
    "        if i==letter:\n",
    "            clue(i+letter+clue)\n",
    "            try=len(word)-1\n",
    "           \n",
    "            \n",
    "        # check condition if word is equal to letter\n",
    "        #the set clue= clue from o to current index of loop + letter + clue from current index +1 to last\n",
    "        # your code\n",
    "        #set try to false\n",
    "        # your code\n",
    "    #---------------------------------------------------\n",
    "    # check condition if try is true then decrease the try_left by 1\n",
    "    # your code\n",
    "        print(\"wrong try\", try_left)\n",
    "    print(\"you got so far\",clue)\n",
    "\n",
    "    # check if word is equal to clue:\n",
    "    #your code\n",
    "        print(\"you win\")\n",
    "    # check is try_left is 0:\n",
    "    # your code\n",
    "        print(\"you lost\")\n",
    "    else:\n",
    "        # ask user to input next letter \n",
    "        #next_letter=\"your code\"\n",
    "        # call the recursive function of itself\n",
    "\n",
    "word=# call a function select word\n",
    "clue=# call a function balnk\n",
    " call a function hang_man() where set letter to word[0] and try_left to=5"
   ]
  },
  {
   "cell_type": "markdown",
   "id": "4a0382d8",
   "metadata": {},
   "source": [
    "### 102. write a map function which calculate the list multiple of 5: eg: x == [ 2, 3, 4, 5, 6] y == [10, 15, 20, 25, 30]"
   ]
  },
  {
   "cell_type": "code",
   "execution_count": 25,
   "id": "a1cc126a",
   "metadata": {},
   "outputs": [
    {
     "name": "stdout",
     "output_type": "stream",
     "text": [
      "[10, 15, 20, 25, 30]\n"
     ]
    }
   ],
   "source": [
    "my_list = [ 2, 3, 4, 5, 6]\n",
    "print(list(map(lambda x:x*5, my_list)))"
   ]
  },
  {
   "cell_type": "markdown",
   "id": "d181ca85",
   "metadata": {},
   "source": [
    "### 103. write a map function which multiply the odd values by 5 and add them to the list"
   ]
  },
  {
   "cell_type": "code",
   "execution_count": 31,
   "id": "64ab9506",
   "metadata": {},
   "outputs": [
    {
     "name": "stdout",
     "output_type": "stream",
     "text": [
      "[15, 25, 2, 3, 4, 5, 6]\n"
     ]
    }
   ],
   "source": [
    "my_list = [ 2, 3, 4, 5, 6]\n",
    "L1=[i for i in my_list if i%2!=0]\n",
    "L2=(list(map(lambda x:x*5,L1)))\n",
    "L2.extend(my_list)\n",
    "print(L2)\n"
   ]
  },
  {
   "cell_type": "markdown",
   "id": "d39c324d",
   "metadata": {},
   "source": [
    "### 104. write a map fu\n",
    "nction to get: x=[2,3,4] y=[4,5] ans: z=[[6,7],[7,8],[8,9]]"
   ]
  },
  {
   "cell_type": "code",
   "execution_count": 64,
   "id": "36618fed",
   "metadata": {},
   "outputs": [
    {
     "name": "stdout",
     "output_type": "stream",
     "text": [
      "[[6, 7], [7, 8], [8, 9]]\n"
     ]
    }
   ],
   "source": [
    "x=[2,3,4]\n",
    "y=[4,5]\n",
    "A=[]\n",
    "for i in y:\n",
    "    L2=(list((map(lambda x:x+i,x))))\n",
    "    A.append(L2)\n",
    "new_lst = [list(x) for x in zip(A[0],A[1])]\n",
    "print(new_lst)\n",
    "\n",
    "    \n",
    "    \n",
    "    \n",
    "    \n",
    "   \n",
    "\n"
   ]
  },
  {
   "cell_type": "markdown",
   "id": "f9713a42",
   "metadata": {},
   "source": [
    "### 105. write a function to convert a z list to 1d list : use reduce"
   ]
  },
  {
   "cell_type": "code",
   "execution_count": 66,
   "id": "b0a92668",
   "metadata": {},
   "outputs": [
    {
     "data": {
      "text/plain": [
       "[1, 2, 3, 1, 2, 1, 4, 5, 6, 7]"
      ]
     },
     "execution_count": 66,
     "metadata": {},
     "output_type": "execute_result"
    }
   ],
   "source": [
    "from functools import reduce \n",
    "\n",
    "reduce(lambda x,y :x+y ,[[1,2,3],[1,2],[1,4,5,6,7]])\n"
   ]
  },
  {
   "cell_type": "markdown",
   "id": "551c6c58",
   "metadata": {},
   "source": [
    "### 107.write a function using a type annotations which take a two vector a and b which calculate the vector sum eg: [1,2,3]+[4,5,6]=[5,7,9] "
   ]
  },
  {
   "cell_type": "code",
   "execution_count": 67,
   "id": "5e26f228",
   "metadata": {},
   "outputs": [
    {
     "name": "stdout",
     "output_type": "stream",
     "text": [
      "[5, 7, 9]\n"
     ]
    }
   ],
   "source": [
    "a = [1,2,3]\n",
    "b = [4,5,6]\n",
    "print(list(map(lambda x,y: x+y, a, b)))"
   ]
  },
  {
   "cell_type": "markdown",
   "id": "825158af",
   "metadata": {},
   "source": [
    "### 108. write a function which using a type annotation to calculate te dot product of two vector\n",
    "eg: [1,2,3]+[4,5,6]=32"
   ]
  },
  {
   "cell_type": "code",
   "execution_count": 4,
   "id": "3458fbe7",
   "metadata": {},
   "outputs": [
    {
     "name": "stdout",
     "output_type": "stream",
     "text": [
      "32\n"
     ]
    }
   ],
   "source": [
    "def multivector(a,b):\n",
    "     return(sum(list(map(lambda x,y: x*y, a, b))))\n",
    "    \n",
    "\n",
    "\n",
    "print(multivector([1,2,3],[4,5,6]))       \n",
    "    \n",
    "    "
   ]
  },
  {
   "cell_type": "markdown",
   "id": "b1129ce3",
   "metadata": {},
   "source": [
    "### 109. write a function to calculate the sum of vector which take a list of vector using type annotation eg:[1,2],[3,4],[5,6]=[9,12]"
   ]
  },
  {
   "cell_type": "code",
   "execution_count": 8,
   "id": "3d7997bc",
   "metadata": {},
   "outputs": [
    {
     "name": "stdout",
     "output_type": "stream",
     "text": [
      "[9, 12]\n"
     ]
    }
   ],
   "source": [
    "def multivector(a,b,c):\n",
    "    return (list(map(lambda x,y,z: x+y+z, a, b, c)))\n",
    "\n",
    "\n",
    "print(multivector([1,2],[3,4],[5,6]))        \n",
    "    "
   ]
  },
  {
   "cell_type": "markdown",
   "id": "6e558223",
   "metadata": {},
   "source": [
    "### 110. write a function to get the shape of a matrix also use type annotation: eg:[[1,2],[2,3]]=(2,2)"
   ]
  },
  {
   "cell_type": "code",
   "execution_count": 9,
   "id": "14fa60dc",
   "metadata": {},
   "outputs": [
    {
     "name": "stdout",
     "output_type": "stream",
     "text": [
      "(2, 2)\n"
     ]
    }
   ],
   "source": [
    "def shape(a):\n",
    "    for i in a:\n",
    "        b=len(i)\n",
    "    return(len(a),b)\n",
    "\n",
    "print(shape([[1,2],[2,3]]))"
   ]
  },
  {
   "cell_type": "markdown",
   "id": "dd56ece8",
   "metadata": {},
   "source": [
    "### 111. write a functions to create a matrix and used function to crete a 3*3 identity matrix : hint:use a Callable from typing"
   ]
  },
  {
   "cell_type": "code",
   "execution_count": 12,
   "id": "594877c0",
   "metadata": {},
   "outputs": [
    {
     "name": "stdout",
     "output_type": "stream",
     "text": [
      "Enter the number of rows:3\n",
      "Enter the number of columns:3\n",
      "Enter the number in a single line separated by space:\n",
      "1 2 3 4 5 6 7 8 9\n",
      "[[1 2 3]\n",
      " [4 5 6]\n",
      " [7 8 9]]\n"
     ]
    }
   ],
   "source": [
    "import numpy as np\n",
    "def Matrix():\n",
    "    print(\"Enter the number in a single line separated by space:\")\n",
    "    val = list(map(int, input().split()))\n",
    "    matrix = np.array(val).reshape(a,b)\n",
    "    return matrix\n",
    "\n",
    "a = int(input(\"Enter the number of rows:\"))\n",
    "b = int(input(\"Enter the number of columns:\"))\n",
    "print(Matrix())"
   ]
  },
  {
   "cell_type": "markdown",
   "id": "c5ec9b1b",
   "metadata": {},
   "source": [
    "### 112. follow the link https://www.willamette.edu/~gorr/classes/cs449/reber.html and try to generate a embedded reber grammar as shown in fig 2. HINT: -first create a list of list of tuple of reber_ grammar\n",
    "\n",
    "the node and edges are:\n",
    "\n",
    "B=1,T=2, P=3, S=2,X=4,T=3,V=5,X=3,S=6,P=4,V=6,E=None\n",
    "\n",
    "create a list of tuple of (edge,Node)\n",
    "\n",
    "eg:[[(\"B\",1)], [(),()]]\n",
    "\n",
    "after that crete a list as shown in graph in figure 2"
   ]
  },
  {
   "cell_type": "code",
   "execution_count": null,
   "id": "fff7fb33",
   "metadata": {},
   "outputs": [],
   "source": [
    "def generate_reber_string(grammar):\n",
    "    s=0\n",
    "    optput=[]\n",
    "    # loop untill s in not None:\n",
    "        p,s=grammar[s][np.random.randint(len(grammar[s]))]\n",
    "        # if instane is still list:\n",
    "            # call the function again\n",
    "        #append the called funcion output to output\n",
    "    #return the join output"
   ]
  },
  {
   "cell_type": "code",
   "execution_count": null,
   "id": "d36d1c5b",
   "metadata": {},
   "outputs": [],
   "source": [
    "import random\n",
    "import numpy as np\n",
    "def grammer():\n",
    "    List=[]\n",
    "    k1=1\n",
    "    nod=[1,2,3,4,5,6]\n",
    "    List2=[(\"T\",(1,2)),(\"P\",(1,3)),(\"S\",(2,2)),(\"X\",(2,4)),(\"T\",(3,3)),(\"V\",(3,5)),(\"X\",(4,3)),(\"S\",(4,6)),(\"P\",(5,4)),(\"V\",(5,6)),(\"E\",(6,None))]\n",
    "    while k1!=6:\n",
    "        k2=np.random.randint(1,len(nod)+1)\n",
    "        print(k2)\n",
    "        for j in List2:\n",
    "            if (k1,k2) in j:\n",
    "                List.append(j[0])\n",
    "                k1=k2\n",
    "    return List\n",
    "    \n",
    "\n",
    "\n",
    "#for i in grammer():\n",
    "    #print(i) \n",
    "print(grammer())"
   ]
  },
  {
   "cell_type": "markdown",
   "id": "7143f3c5",
   "metadata": {},
   "source": [
    "### 113. write a function to generate a password :\n",
    "password should have a number,special_char,alphabet(both capital and small)\n",
    "allow user to input the length of password"
   ]
  },
  {
   "cell_type": "code",
   "execution_count": 3,
   "id": "c617a46c",
   "metadata": {},
   "outputs": [
    {
     "name": "stdout",
     "output_type": "stream",
     "text": [
      "asd@Asd1\n",
      "8\n",
      "Valid Password\n"
     ]
    }
   ],
   "source": [
    "import re\n",
    "\n",
    "def password(a):\n",
    "    reg=\"^(?=.*[a-z])(?=.*[A-Z])(?=.*\\d)(?=.*[@$!%*#?&])[A-Za-z\\d@$!#%*?&]{8,18}$\"\n",
    "    match_re = re.compile(reg)\n",
    "    res = re.search(match_re, a)\n",
    "    if res:\n",
    "        print(\"Valid Password\")\n",
    "    else:\n",
    "        print(\"Invalid Password\")\n",
    "\n",
    "\n",
    "\n",
    "\n",
    "a=input()\n",
    "length_pass=input()\n",
    "password(a)"
   ]
  },
  {
   "cell_type": "markdown",
   "id": "1976fb96",
   "metadata": {},
   "source": [
    "### 114. write a function to get the integers satisfying a2+b2=c2 called Pythagorean numbers.\n",
    "the function take a input from a user with a maximal number: eg: if user give: 5 it should print (3,4) similarly:10 3 ,4 6,8"
   ]
  },
  {
   "cell_type": "code",
   "execution_count": 6,
   "id": "ac73d09c",
   "metadata": {},
   "outputs": [
    {
     "name": "stdout",
     "output_type": "stream",
     "text": [
      "(3, 4)\n"
     ]
    }
   ],
   "source": [
    "def pythagorean(c):\n",
    "    for b in range(1,c):\n",
    "        for a in range(1,b):\n",
    "            if ((a**2 + b**2) == c**2):\n",
    "                print((a, b))    \n",
    "pythagorean(5)"
   ]
  },
  {
   "cell_type": "markdown",
   "id": "a9181e2d",
   "metadata": {},
   "source": [
    "### 115. write a program to guess a random number between range 1 to n\n",
    "\n"
   ]
  },
  {
   "cell_type": "code",
   "execution_count": 8,
   "id": "bec87cfc",
   "metadata": {},
   "outputs": [
    {
     "name": "stdout",
     "output_type": "stream",
     "text": [
      "I am guessing a number between 1 to 30, what is that?\n",
      "12\n",
      "Your guess is too high.\n",
      "7\n",
      "Your guess is too low.\n",
      "10\n",
      "Your guess is too low.\n",
      "11\n",
      "Perfect\n"
     ]
    }
   ],
   "source": [
    "import random\n",
    "guessesTaken = 0\n",
    "print(\"I am guessing a number between 1 to 30, what is that?\")\n",
    "number = random.randint(1, 30)\n",
    "while True:\n",
    "    user_num = int(input())\n",
    "    if user_num == 0:\n",
    "        break\n",
    "    if user_num < number:\n",
    "        print('Your guess is too low.')\n",
    "    if user_num > number:\n",
    "        print('Your guess is too high.')\n",
    "    if user_num == number:\n",
    "        print('Perfect')\n",
    "        break"
   ]
  },
  {
   "cell_type": "markdown",
   "id": "cf3b9856",
   "metadata": {},
   "source": [
    "### 116. Write a function which takes a text and encrypts it with a Caesar cipher as well as decrypt.(https://en.wikipedia.org/wiki/Caesar_cipher) ."
   ]
  },
  {
   "cell_type": "code",
   "execution_count": null,
   "id": "7dd8d4ab",
   "metadata": {},
   "outputs": [],
   "source": [
    "input:\"hello\",\n",
    "output: encrypt:EBIIL\n",
    "decyprt: HELLO"
   ]
  },
  {
   "cell_type": "code",
   "execution_count": 25,
   "id": "1aaab6a4",
   "metadata": {},
   "outputs": [
    {
     "name": "stdout",
     "output_type": "stream",
     "text": [
      " SHAKIBA\n",
      "PEXHFYX\n"
     ]
    }
   ],
   "source": [
    "alphabet=[\"A\",\"B\",\"C\",\"D\",\"E\",\"F\",\"G\",\"H\",\"I\",\"J\",\"K\",\"L\",\"M\",\"N\",\"O\",\"P\",\"Q\",\"R\",\"S\",\"T\",\"U\",\"V\",\"W\",\"X\",\"Y\",\"Z\"]\n",
    "L1=list(enumerate(alphabet))\n",
    "L3=[]\n",
    "def encrypts(str):\n",
    "    for i in str:\n",
    "        for j in range(len(L1)):\n",
    "            if i==L1[j][1]:\n",
    "                k=j-3\n",
    "                L3.append(L1[k][1])\n",
    "    return \"\".join(L3)\n",
    "    \n",
    "str=input(\" \")\n",
    "print(encrypts(str))\n",
    "                \n",
    "                \n",
    "                \n",
    "                \n",
    "    \n"
   ]
  },
  {
   "cell_type": "markdown",
   "id": "972e9081",
   "metadata": {},
   "source": [
    "### 117.write a function which take a text and dictionary to decrypt or encrypt the text with a permutated alphabet hint:"
   ]
  },
  {
   "cell_type": "code",
   "execution_count": 5,
   "id": "4d718ec2",
   "metadata": {},
   "outputs": [
    {
     "name": "stdout",
     "output_type": "stream",
     "text": [
      "please enter your key: shakiba\n",
      "Would you like to encrypt or decrypt? decrypt\n",
      "please enter your message hi tehran\n",
      "be tibsco\n"
     ]
    }
   ],
   "source": [
    "import random\n",
    "import string\n",
    "key=input(\"please enter your key: \")\n",
    "key=''.join([j for i,j in enumerate(key) if j not in key[:i]])\n",
    "letters = \"abcdefghijklmnopqrstuvwxyz\"\n",
    "for j in key:\n",
    "    for i in letters:\n",
    "        if j==i:\n",
    "            letters=letters.replace(i,\"\")\n",
    "newalphabet=key+letters\n",
    "L1=list(enumerate(newalphabet))\n",
    "A=[]\n",
    "letters1 = \"abcdefghijklmnopqrstuvwxyz\"\n",
    "for i in letters1:\n",
    "    A.append(i)\n",
    "L2=list(enumerate(A))\n",
    "\n",
    "choose=input(\"Would you like to encrypt or decrypt? \")\n",
    "str=input(\"please enter your message \")\n",
    "if choose==\"encrypt\":\n",
    "    L3=[]\n",
    "    def encrypt(str):\n",
    "        for i in str:\n",
    "            if i ==\" \":\n",
    "                L3.append(\" \")\n",
    "            else:\n",
    "                for j in range(len(L2)):\n",
    "                    if i==L2[j][1]:\n",
    "                        k=L2[j][0]\n",
    "                        L3.append(L1[k][1])\n",
    "                \n",
    "                    \n",
    "                \n",
    "        \n",
    "        return \"\".join(L3)\n",
    "    print(encrypts(str))\n",
    "elif choose==\"decrypt\":\n",
    "    L4=[]\n",
    "    def decrypt(str):\n",
    "        for i in str:\n",
    "            if i ==\" \":\n",
    "                L4.append(\" \")\n",
    "            else:\n",
    "                for j in range(len(L1)):\n",
    "                    if i==L1[j][1]:\n",
    "                        k=L1[j][0]\n",
    "                        L4.append(L2[k][1])\n",
    "                    \n",
    "        return \"\".join(L4)\n",
    "    print(decrypt(str))\n",
    "\n",
    "else:\n",
    "        print(\"You need to enter in a valid answer. Please try again. \") \n"
   ]
  },
  {
   "cell_type": "code",
   "execution_count": null,
   "id": "ff16cbcf",
   "metadata": {},
   "outputs": [],
   "source": []
  },
  {
   "cell_type": "markdown",
   "id": "86bc3589",
   "metadata": {},
   "source": [
    "### 120.write a recursive function for f(n) = 7 * n, i.e. the multiples of 7 "
   ]
  },
  {
   "cell_type": "code",
   "execution_count": 26,
   "id": "385b3013",
   "metadata": {},
   "outputs": [
    {
     "name": "stdout",
     "output_type": "stream",
     "text": [
      "7 * 1 = 7\n",
      "7 * 2 = 14\n",
      "7 * 3 = 21\n",
      "7 * 4 = 28\n",
      "7 * 5 = 35\n",
      "7 * 6 = 42\n",
      "7 * 7 = 49\n",
      "7 * 8 = 56\n",
      "7 * 9 = 63\n",
      "7 * 10 = 70\n"
     ]
    }
   ],
   "source": [
    "def mul_table(N, i):\n",
    "     \n",
    "   \n",
    "    if (i>10):\n",
    "        return\n",
    "    else:\n",
    "        print(N,\"*\",i,\"=\",N * i)\n",
    "        return mul_table(N, i + 1)\n",
    "\n",
    "mul_table(7, 1)"
   ]
  },
  {
   "cell_type": "markdown",
   "id": "725caa6e",
   "metadata": {},
   "source": [
    "### 121. Write a function which implements the Pascal's triangle use recursion"
   ]
  },
  {
   "cell_type": "code",
   "execution_count": null,
   "id": "606885ca",
   "metadata": {},
   "outputs": [],
   "source": []
  },
  {
   "cell_type": "markdown",
   "id": "63741271",
   "metadata": {},
   "source": [
    "### 133. write a decorator to count the number of times a function has beeen called . eg define a add function and loop it for 10 time and check"
   ]
  },
  {
   "cell_type": "code",
   "execution_count": 7,
   "id": "193f2249",
   "metadata": {},
   "outputs": [
    {
     "name": "stdout",
     "output_type": "stream",
     "text": [
      "2\n",
      "3\n",
      "4\n",
      "5\n",
      "6\n",
      "7\n",
      "8\n",
      "9\n",
      "10\n",
      "11\n"
     ]
    },
    {
     "data": {
      "text/plain": [
       "10"
      ]
     },
     "execution_count": 7,
     "metadata": {},
     "output_type": "execute_result"
    }
   ],
   "source": [
    "def outer_add(f):\n",
    "    global k\n",
    "    k=0\n",
    "    def inner_add(t):\n",
    "        global k\n",
    "        k+=1\n",
    "        return f(t)\n",
    "    return inner_add\n",
    "\n",
    "@outer_add\n",
    "def add(a):\n",
    "    return a+2\n",
    "for i in range(10):\n",
    "    print(add(i)) \n",
    "k\n"
   ]
  },
  {
   "cell_type": "code",
   "execution_count": 6,
   "id": "22957831",
   "metadata": {},
   "outputs": [
    {
     "name": "stdout",
     "output_type": "stream",
     "text": [
      "['shakina']\n"
     ]
    }
   ],
   "source": [
    "l=\"shakina\"\n",
    "print(l.split(\" \"))"
   ]
  },
  {
   "cell_type": "code",
   "execution_count": null,
   "id": "bd3fdcf6",
   "metadata": {},
   "outputs": [],
   "source": []
  }
 ],
 "metadata": {
  "kernelspec": {
   "display_name": "Python 3",
   "language": "python",
   "name": "python3"
  },
  "language_info": {
   "codemirror_mode": {
    "name": "ipython",
    "version": 3
   },
   "file_extension": ".py",
   "mimetype": "text/x-python",
   "name": "python",
   "nbconvert_exporter": "python",
   "pygments_lexer": "ipython3",
   "version": "3.9.7"
  }
 },
 "nbformat": 4,
 "nbformat_minor": 5
}
