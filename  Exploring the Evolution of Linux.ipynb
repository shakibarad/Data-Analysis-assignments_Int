{
 "cells": [
  {
   "cell_type": "code",
   "execution_count": 2,
   "id": "735350f8",
   "metadata": {},
   "outputs": [],
   "source": [
    "import numpy as np\n",
    "import pandas as pd\n",
    "import matplotlib.pyplot as plt\n",
    "import gzip"
   ]
  },
  {
   "cell_type": "markdown",
   "id": "9fea69f6",
   "metadata": {},
   "source": [
    "### In this notebook, we will analyze the evolution of a very famous open-source project – the Linux kernel."
   ]
  },
  {
   "cell_type": "code",
   "execution_count": 3,
   "id": "ded029ec",
   "metadata": {},
   "outputs": [
    {
     "data": {
      "text/html": [
       "<div>\n",
       "<style scoped>\n",
       "    .dataframe tbody tr th:only-of-type {\n",
       "        vertical-align: middle;\n",
       "    }\n",
       "\n",
       "    .dataframe tbody tr th {\n",
       "        vertical-align: top;\n",
       "    }\n",
       "\n",
       "    .dataframe thead th {\n",
       "        text-align: right;\n",
       "    }\n",
       "</style>\n",
       "<table border=\"1\" class=\"dataframe\">\n",
       "  <thead>\n",
       "    <tr style=\"text-align: right;\">\n",
       "      <th></th>\n",
       "      <th>timestamp</th>\n",
       "      <th>author</th>\n",
       "    </tr>\n",
       "  </thead>\n",
       "  <tbody>\n",
       "    <tr>\n",
       "      <th>0</th>\n",
       "      <td>1502826583</td>\n",
       "      <td>Linus Torvalds</td>\n",
       "    </tr>\n",
       "    <tr>\n",
       "      <th>1</th>\n",
       "      <td>1501749089</td>\n",
       "      <td>Adrian Hunter</td>\n",
       "    </tr>\n",
       "    <tr>\n",
       "      <th>2</th>\n",
       "      <td>1501749088</td>\n",
       "      <td>Adrian Hunter</td>\n",
       "    </tr>\n",
       "    <tr>\n",
       "      <th>3</th>\n",
       "      <td>1501882480</td>\n",
       "      <td>Kees Cook</td>\n",
       "    </tr>\n",
       "    <tr>\n",
       "      <th>4</th>\n",
       "      <td>1497271395</td>\n",
       "      <td>Rob Clark</td>\n",
       "    </tr>\n",
       "    <tr>\n",
       "      <th>...</th>\n",
       "      <td>...</td>\n",
       "      <td>...</td>\n",
       "    </tr>\n",
       "    <tr>\n",
       "      <th>699066</th>\n",
       "      <td>1113690236</td>\n",
       "      <td>akpm@osdl.org</td>\n",
       "    </tr>\n",
       "    <tr>\n",
       "      <th>699067</th>\n",
       "      <td>1113690235</td>\n",
       "      <td>akpm@osdl.org</td>\n",
       "    </tr>\n",
       "    <tr>\n",
       "      <th>699068</th>\n",
       "      <td>1113690234</td>\n",
       "      <td>Neil Brown</td>\n",
       "    </tr>\n",
       "    <tr>\n",
       "      <th>699069</th>\n",
       "      <td>1113690233</td>\n",
       "      <td>Christoph Lameter</td>\n",
       "    </tr>\n",
       "    <tr>\n",
       "      <th>699070</th>\n",
       "      <td>1113690036</td>\n",
       "      <td>Linus Torvalds</td>\n",
       "    </tr>\n",
       "  </tbody>\n",
       "</table>\n",
       "<p>699071 rows × 2 columns</p>\n",
       "</div>"
      ],
      "text/plain": [
       "         timestamp             author\n",
       "0       1502826583     Linus Torvalds\n",
       "1       1501749089      Adrian Hunter\n",
       "2       1501749088      Adrian Hunter\n",
       "3       1501882480          Kees Cook\n",
       "4       1497271395          Rob Clark\n",
       "...            ...                ...\n",
       "699066  1113690236      akpm@osdl.org\n",
       "699067  1113690235      akpm@osdl.org\n",
       "699068  1113690234         Neil Brown\n",
       "699069  1113690233  Christoph Lameter\n",
       "699070  1113690036     Linus Torvalds\n",
       "\n",
       "[699071 rows x 2 columns]"
      ]
     },
     "execution_count": 3,
     "metadata": {},
     "output_type": "execute_result"
    }
   ],
   "source": [
    "df = pd.read_csv(\"git_log.gz\",sep='#',encoding='latin-1',header=None,names=['timestamp', 'author'])\n",
    "df"
   ]
  },
  {
   "cell_type": "code",
   "execution_count": 10,
   "id": "87e3a5f0",
   "metadata": {},
   "outputs": [
    {
     "name": "stdout",
     "output_type": "stream",
     "text": [
      "17385\n",
      "699071\n"
     ]
    }
   ],
   "source": [
    "#calculating number of commits and authors\n",
    "number_of_author=len(df[\"author\"].dropna().unique())\n",
    "number_of_commit=df.shape[0]\n",
    "print(number_of_author)\n",
    "print(number_of_commit)"
   ]
  },
  {
   "cell_type": "code",
   "execution_count": 11,
   "id": "5c91c266",
   "metadata": {},
   "outputs": [],
   "source": [
    "## converting the timestamp column\n",
    "df['timestamp'] = pd.to_datetime(df['timestamp'], unit=\"s\")\n"
   ]
  },
  {
   "cell_type": "code",
   "execution_count": 14,
   "id": "059307ff",
   "metadata": {},
   "outputs": [
    {
     "data": {
      "text/plain": [
       "2008-09-04 05:30:19    99\n",
       "2005-09-12 16:49:24    58\n",
       "2008-11-18 09:48:22    56\n",
       "2008-07-11 23:27:31    56\n",
       "2016-02-22 12:13:28    55\n",
       "                       ..\n",
       "2014-08-06 17:44:21     1\n",
       "2014-08-06 17:44:20     1\n",
       "2014-08-03 17:03:13     1\n",
       "2014-08-03 17:03:12     1\n",
       "2005-04-16 22:20:36     1\n",
       "Name: timestamp, Length: 668448, dtype: int64"
      ]
     },
     "execution_count": 14,
     "metadata": {},
     "output_type": "execute_result"
    }
   ],
   "source": [
    "df[\"timestamp\"].value_counts()"
   ]
  },
  {
   "cell_type": "code",
   "execution_count": 16,
   "id": "df18a159",
   "metadata": {},
   "outputs": [
    {
     "data": {
      "text/plain": [
       "Timestamp('2005-04-16 22:20:36')"
      ]
     },
     "execution_count": 16,
     "metadata": {},
     "output_type": "execute_result"
    }
   ],
   "source": [
    "#determining the first real commit timestamp\n",
    "fist_date_commit=df[\"timestamp\"].iloc[-1]\n",
    "fist_date_commit"
   ]
  },
  {
   "cell_type": "code",
   "execution_count": 24,
   "id": "b4d5f8ee",
   "metadata": {},
   "outputs": [
    {
     "data": {
      "text/plain": [
       "Timestamp('2018-01-01 00:00:00')"
      ]
     },
     "execution_count": 24,
     "metadata": {},
     "output_type": "execute_result"
    }
   ],
   "source": [
    "# determining the last sensible commit timestamp\n",
    "last_date_commit=pd.to_datetime('2018')\n",
    "last_date_commit         "
   ]
  },
  {
   "cell_type": "code",
   "execution_count": 27,
   "id": "682a4608",
   "metadata": {},
   "outputs": [
    {
     "data": {
      "text/html": [
       "<div>\n",
       "<style scoped>\n",
       "    .dataframe tbody tr th:only-of-type {\n",
       "        vertical-align: middle;\n",
       "    }\n",
       "\n",
       "    .dataframe tbody tr th {\n",
       "        vertical-align: top;\n",
       "    }\n",
       "\n",
       "    .dataframe thead th {\n",
       "        text-align: right;\n",
       "    }\n",
       "</style>\n",
       "<table border=\"1\" class=\"dataframe\">\n",
       "  <thead>\n",
       "    <tr style=\"text-align: right;\">\n",
       "      <th></th>\n",
       "      <th>timestamp</th>\n",
       "      <th>author</th>\n",
       "    </tr>\n",
       "  </thead>\n",
       "  <tbody>\n",
       "    <tr>\n",
       "      <th>0</th>\n",
       "      <td>2017-08-15 19:49:43</td>\n",
       "      <td>Linus Torvalds</td>\n",
       "    </tr>\n",
       "    <tr>\n",
       "      <th>1</th>\n",
       "      <td>2017-08-03 08:31:29</td>\n",
       "      <td>Adrian Hunter</td>\n",
       "    </tr>\n",
       "    <tr>\n",
       "      <th>2</th>\n",
       "      <td>2017-08-03 08:31:28</td>\n",
       "      <td>Adrian Hunter</td>\n",
       "    </tr>\n",
       "    <tr>\n",
       "      <th>3</th>\n",
       "      <td>2017-08-04 21:34:40</td>\n",
       "      <td>Kees Cook</td>\n",
       "    </tr>\n",
       "    <tr>\n",
       "      <th>4</th>\n",
       "      <td>2017-06-12 12:43:15</td>\n",
       "      <td>Rob Clark</td>\n",
       "    </tr>\n",
       "    <tr>\n",
       "      <th>...</th>\n",
       "      <td>...</td>\n",
       "      <td>...</td>\n",
       "    </tr>\n",
       "    <tr>\n",
       "      <th>699066</th>\n",
       "      <td>2005-04-16 22:23:56</td>\n",
       "      <td>akpm@osdl.org</td>\n",
       "    </tr>\n",
       "    <tr>\n",
       "      <th>699067</th>\n",
       "      <td>2005-04-16 22:23:55</td>\n",
       "      <td>akpm@osdl.org</td>\n",
       "    </tr>\n",
       "    <tr>\n",
       "      <th>699068</th>\n",
       "      <td>2005-04-16 22:23:54</td>\n",
       "      <td>Neil Brown</td>\n",
       "    </tr>\n",
       "    <tr>\n",
       "      <th>699069</th>\n",
       "      <td>2005-04-16 22:23:53</td>\n",
       "      <td>Christoph Lameter</td>\n",
       "    </tr>\n",
       "    <tr>\n",
       "      <th>699070</th>\n",
       "      <td>2005-04-16 22:20:36</td>\n",
       "      <td>Linus Torvalds</td>\n",
       "    </tr>\n",
       "  </tbody>\n",
       "</table>\n",
       "<p>698569 rows × 2 columns</p>\n",
       "</div>"
      ],
      "text/plain": [
       "                 timestamp             author\n",
       "0      2017-08-15 19:49:43     Linus Torvalds\n",
       "1      2017-08-03 08:31:29      Adrian Hunter\n",
       "2      2017-08-03 08:31:28      Adrian Hunter\n",
       "3      2017-08-04 21:34:40          Kees Cook\n",
       "4      2017-06-12 12:43:15          Rob Clark\n",
       "...                    ...                ...\n",
       "699066 2005-04-16 22:23:56      akpm@osdl.org\n",
       "699067 2005-04-16 22:23:55      akpm@osdl.org\n",
       "699068 2005-04-16 22:23:54         Neil Brown\n",
       "699069 2005-04-16 22:23:53  Christoph Lameter\n",
       "699070 2005-04-16 22:20:36     Linus Torvalds\n",
       "\n",
       "[698569 rows x 2 columns]"
      ]
     },
     "execution_count": 27,
     "metadata": {},
     "output_type": "execute_result"
    }
   ],
   "source": [
    "# filtering out wrong timestamps\n",
    "correct_date_commit=df[(df[\"timestamp\"]>=fist_date_commit)  & (df[\"timestamp\"]<=last_date_commit)]\n",
    "correct_date_commit"
   ]
  },
  {
   "cell_type": "code",
   "execution_count": 33,
   "id": "03aae1bb",
   "metadata": {},
   "outputs": [
    {
     "data": {
      "text/plain": [
       "<AxesSubplot:title={'center':'commits_per_year'}, xlabel='timestamp', ylabel='The number of commits'>"
      ]
     },
     "execution_count": 33,
     "metadata": {},
     "output_type": "execute_result"
    },
    {
     "data": {
      "image/png": "[encoded data removed]",
      "text/plain": [
       "<Figure size 432x288 with 1 Axes>"
      ]
     },
     "metadata": {
      "needs_background": "light"
     },
     "output_type": "display_data"
    }
   ],
   "source": [
    "commits_per_year = correct_date_commit.groupby(correct_date_commit.timestamp.dt.year).count().plot(kind=\"bar\",title=\"commits_per_year\",legend=False,ylabel=\"The number of commits\")\n",
    "commits_per_year"
   ]
  },
  {
   "cell_type": "code",
   "execution_count": null,
   "id": "24b9e6e5",
   "metadata": {},
   "outputs": [],
   "source": [
    "# calculating or setting the year with the most commits to Linux\n",
    "year_with_most_commits = 2016 "
   ]
  }
 ],
 "metadata": {
  "kernelspec": {
   "display_name": "Python 3",
   "language": "python",
   "name": "python3"
  },
  "language_info": {
   "codemirror_mode": {
    "name": "ipython",
    "version": 3
   },
   "file_extension": ".py",
   "mimetype": "text/x-python",
   "name": "python",
   "nbconvert_exporter": "python",
   "pygments_lexer": "ipython3",
   "version": "3.9.7"
  }
 },
 "nbformat": 4,
 "nbformat_minor": 5
}
