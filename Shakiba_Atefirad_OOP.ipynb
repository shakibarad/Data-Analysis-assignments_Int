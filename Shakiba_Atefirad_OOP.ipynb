{
 "cells": [
  {
   "cell_type": "markdown",
   "id": "e9f6c877",
   "metadata": {},
   "source": [
    "### questiion1:\n",
    "\n",
    "create a class Contact\n",
    "\n",
    "- create a class attribute contacts which is an empty list\n",
    "- define a init method which take name,email,street and **kwargs\n",
    "-append name and email to contacts"
   ]
  },
  {
   "cell_type": "code",
   "execution_count": 67,
   "id": "18e06d79",
   "metadata": {},
   "outputs": [
    {
     "name": "stdout",
     "output_type": "stream",
     "text": [
      "['Shakiba', 'sh.atefirad@gmail.com']\n",
      "{'name': 'Shakiba', 'email': 'sh.atefirad@gmail.com', 'street': 'Espoo'}\n"
     ]
    }
   ],
   "source": [
    "class Contact():\n",
    "    contacts=[]\n",
    "    \n",
    "\n",
    "    def __init__(self,name,email,street,**kwargs):\n",
    "        self.name=name\n",
    "        self.email=email\n",
    "        self.street=street\n",
    "        Contact.contacts.append(self.name)\n",
    "        Contact.contacts.append(self.email)\n",
    "        \n",
    "    \n",
    "        \n",
    "        \n",
    "    \n",
    "        \n",
    "        \n",
    "        \n",
    "contact=Contact(\"Shakiba\",\"sh.atefirad@gmail.com\",\"Espoo\")\n",
    "print(Contact.contacts)\n",
    "print(contact.__dict__)\n",
    "\n",
    "\n",
    "\n",
    "\n",
    "\n"
   ]
  },
  {
   "cell_type": "markdown",
   "id": "152fe0b0",
   "metadata": {},
   "source": [
    "### create a Address class\n",
    "\n",
    "- create a init with street,city,code and kwargs\n",
    "-call the super method with kwargs"
   ]
  },
  {
   "cell_type": "code",
   "execution_count": 68,
   "id": "35b3b5eb",
   "metadata": {},
   "outputs": [
    {
     "name": "stdout",
     "output_type": "stream",
     "text": [
      "{'name': 'shakiba', 'email': 'sh.atefirad@gmail.com', 'street': 'Espoo', 'city': 'Helsinki', 'code': '125'}\n"
     ]
    }
   ],
   "source": [
    "class Address(Contact):\n",
    "    \n",
    "    \n",
    "    def __init__(self,name,email,street,city,code,**kwargs):\n",
    "        super().__init__(name,email,street,**kwargs)\n",
    "        self.city=city\n",
    "        self.code=code\n",
    "        \n",
    "address=Address(\"shakiba\",\"sh.atefirad@gmail.com\",\"Espoo\",\"Helsinki\",\"125\")\n",
    "print(address.__dict__)\n",
    "    "
   ]
  },
  {
   "cell_type": "markdown",
   "id": "e57e03cf",
   "metadata": {},
   "source": [
    "### create a class Friend which inherits Address and Contact\n",
    "\n",
    "- initialize a phone:number and kwargs\n",
    "- call super method"
   ]
  },
  {
   "cell_type": "code",
   "execution_count": 69,
   "id": "fdd50b30",
   "metadata": {},
   "outputs": [
    {
     "name": "stdout",
     "output_type": "stream",
     "text": [
      "{'name': 'shakiba', 'email': 'sh.atefirad@gmail.com', 'street': 'Espoo', 'city': 'Helsinki', 'code': '125', 'phone': '1234567'}\n"
     ]
    }
   ],
   "source": [
    "class Friend(Address,Contact):\n",
    "    \n",
    "    def __init__(self,name,email,street,city,code,phone,**kwargs):\n",
    "        super().__init__(name,email,street,city,code,**kwargs)\n",
    "        self.phone=phone\n",
    "        \n",
    "    \n",
    "friend=Friend(\"shakiba\",\"sh.atefirad@gmail.com\",\"Espoo\",\"Helsinki\",\"125\",\"1234567\") \n",
    "print(friend.__dict__)"
   ]
  },
  {
   "cell_type": "markdown",
   "id": "62622598",
   "metadata": {},
   "source": [
    "### OOP Blackjack"
   ]
  },
  {
   "cell_type": "code",
   "execution_count": 105,
   "id": "1d33f655",
   "metadata": {},
   "outputs": [],
   "source": [
    "import random\n",
    "\n",
    "palying=False\n",
    "chip_pool=100\n",
    "bet=1\n",
    "\n",
    "restart_phrase = \"Press 'd' to deal the cards again, or press 'q' to quit\""
   ]
  },
  {
   "cell_type": "code",
   "execution_count": 106,
   "id": "5c53d441",
   "metadata": {},
   "outputs": [],
   "source": [
    "suit=(\"H\",\"D\",\"c\",\"S\")\n",
    "\n",
    "\n",
    "# create a tuple of possible card ranks\n",
    "# eg:(\"A\",\"2\"-------,\"K\")\n",
    "\n",
    "rank=(\"A\",\"2\",\"3\",\"4\",\"5\",\"6\",\"7\",\"8\",\"9\",\"10\",\"J\",\"Q\",\"K\")\n",
    "\n",
    "\n",
    "#create a dict of each ranking with a ranking point value\n",
    "# {\"A\":1----------,\"k\":10}\n",
    "card_val={\"A\":11,\"2\":2,\"3\":3,\"4\":4,\"5\":5,\"6\":6,\"7\":7,\"8\":8,\"9\":9,\"10\":10,\"J\":10,\"Q\":10,\"k\":10}"
   ]
  },
  {
   "cell_type": "code",
   "execution_count": 107,
   "id": "bd613f15",
   "metadata": {},
   "outputs": [],
   "source": [
    "class Card():\n",
    "\n",
    "  \n",
    "    def __init__(self,suit,rank):\n",
    "        self.suit=suit\n",
    "        self.rank=rank\n",
    "    def __str__(self):\n",
    "        return self.suit + self.rank\n",
    "    \n",
    "    def grab_suit(self):\n",
    "        return self.suit\n",
    "    \n",
    "    def grab_rank(self):\n",
    "        return self.rank\n",
    "    \n",
    "    def draw(self):\n",
    "        print (self.suit + self.rank)\n",
    "        \n",
    "    \n",
    "\n",
    "    \n",
    "\n"
   ]
  },
  {
   "cell_type": "markdown",
   "id": "bed17216",
   "metadata": {},
   "source": [
    "### create a Hand class"
   ]
  },
  {
   "cell_type": "code",
   "execution_count": 108,
   "id": "60d4d861",
   "metadata": {},
   "outputs": [],
   "source": [
    "class Hand:\n",
    "    def __init__(self):\n",
    "        self.cards=[]\n",
    "        self.value=0\n",
    "        self.ace=False\n",
    "        \n",
    "        \n",
    "    def __str__(self):\n",
    "\n",
    "        hand_comp = \"\"\n",
    "        for card in self.cards:\n",
    "            card_name = card.__str__()\n",
    "            hand_comp += \" \" + card_name\n",
    "            \n",
    "        return 'The hand has %s' %hand_comp\n",
    "        \n",
    "    def card_add(self,card):\n",
    "        \n",
    "        self.cards.append(card)\n",
    "        if card.rank == 'A':\n",
    "            self.ace = True\n",
    "        self.value += card_val[card.rank]\n",
    "        \n",
    "    def calc_val(self):\n",
    "        if (self.ace == True and self.value < 12):\n",
    "            return self.value + 10\n",
    "        else:\n",
    "            return self.value \n",
    "        \n",
    "        \n",
    "    def draw(self,hidden):\n",
    "        if hidden == True and playing == True:\n",
    "            starting_card = 1\n",
    "        else:\n",
    "            starting_card = 0\n",
    "        for x in range(starting_card,len(self.cards)):\n",
    "            self.cards[x].draw()\n",
    "\n",
    "    "
   ]
  },
  {
   "cell_type": "markdown",
   "id": "4f3356ad",
   "metadata": {},
   "source": [
    "### create a class Deck"
   ]
  },
  {
   "cell_type": "code",
   "execution_count": 109,
   "id": "a5bc7e7b",
   "metadata": {},
   "outputs": [],
   "source": [
    "class Deck:\n",
    "    \n",
    "    def __init__(self):\n",
    "        ''' Create a deck in order '''\n",
    "        self.deck = []\n",
    "        for suit in suits:\n",
    "            for rank in ranking:\n",
    "                self.deck.append(Card(suit,rank))\n",
    "                \n",
    "    def shuffle(self):\n",
    "        ''' Shuffle the deck, python actually already has a shuffle method in its random lib '''\n",
    "        random.shuffle(self.deck)\n",
    "        \n",
    "    def deal(self):\n",
    "        ''' Grab the first item in the deck '''\n",
    "        single_card = self.deck.pop()\n",
    "        return single_card\n",
    "    \n",
    "    def __str__(self):\n",
    "        deck_comp = \"\"\n",
    "        for card in self.cards:\n",
    "            deck_comp += \" \" + deck_comp.__str__()\n",
    "\n",
    "        return \"The deck has\" + deck_comp"
   ]
  },
  {
   "cell_type": "code",
   "execution_count": 110,
   "id": "43a02ec5",
   "metadata": {},
   "outputs": [],
   "source": [
    "# First Bet\n",
    "def make_bet():\n",
    "    \n",
    "    \n",
    "    global bet\n",
    "    bet = 0\n",
    "    \n",
    "    print (' What amount of chips would you like to bet? (Enter whole integer please) ')\n",
    "    \n",
    "    # While loop to keep asking for the bet\n",
    "    while bet == 0:\n",
    "        bet_comp = raw_input() # Use bet_comp as a checker\n",
    "        bet_comp = int(bet_comp)\n",
    "        # Check to make sure the bet is within the remaining amount of chips left.\n",
    "        if bet_comp >= 1 and bet_comp <= chip_pool:\n",
    "            bet = bet_comp\n",
    "        else:\n",
    "            print (\"Invalid bet, you only have \" + str(chip_pool) + \" remaining\")"
   ]
  },
  {
   "cell_type": "code",
   "execution_count": 111,
   "id": "ff0276ed",
   "metadata": {},
   "outputs": [],
   "source": [
    "def deal_cards():\n",
    "    \n",
    "    \n",
    "    # Set up all global variables\n",
    "    global result,playing,deck,player_hand,dealer_hand,chip_pool,bet\n",
    "    \n",
    "    # Create a deck\n",
    "    deck = Deck()\n",
    "    \n",
    "    #Shuffle it\n",
    "    deck.shuffle()\n",
    "    \n",
    "    #Set up bet\n",
    "    make_bet()\n",
    "    \n",
    "    # Set up both player and dealer hands\n",
    "    player_hand = Hand()\n",
    "    dealer_hand = Hand()\n",
    "    \n",
    "    # Deal out initial cards\n",
    "    player_hand.card_add(deck.deal())\n",
    "    player_hand.card_add(deck.deal())\n",
    "    \n",
    "    dealer_hand.card_add(deck.deal())\n",
    "    dealer_hand.card_add(deck.deal())\n",
    "    \n",
    "    result = \"Hit or Stand? Press either h or s: \"\n",
    "    \n",
    "    if playing == True:\n",
    "        print ('Fold, Sorry')\n",
    "        chip_pool -= bet\n",
    "    \n",
    "    # Set up to know currently playing hand\n",
    "    playing = True \n",
    "    game_step()\n",
    "\n",
    "\n",
    "def hit():\n",
    "    \n",
    "   \n",
    "    global playing,chip_pool,deck,player_hand,dealer_hand,result,bet\n",
    "    \n",
    "    # If hand is in play add card\n",
    "    if playing:\n",
    "        if player_hand.calc_val() <= 21:\n",
    "            player_hand.card_add(deck.deal())\n",
    "        \n",
    "        print (\"Player hand is %s\" %player_hand)\n",
    "        \n",
    "        if player_hand.calc_val() > 21:\n",
    "            result = 'Busted! '+ restart_phrase\n",
    "            \n",
    "            chip_pool -= bet\n",
    "            playing = False\n",
    "    \n",
    "    else:\n",
    "        result = \"Sorry, can't hit\" + restart_phrase\n",
    "    \n",
    "    game_step()"
   ]
  },
  {
   "cell_type": "code",
   "execution_count": 112,
   "id": "295f7cf6",
   "metadata": {},
   "outputs": [],
   "source": [
    "def stand():\n",
    "    global playing,chip_pool,deck,player_hand,dealer_hand,result,bet\n",
    "    \n",
    "    \n",
    "    if playing == False:\n",
    "        if player_hand.calc_val() > 0:\n",
    "            result = \"Sorry, you can't stand!\"\n",
    "            \n",
    "    # Now go through all the other possible options\n",
    "    else:\n",
    "        \n",
    "        # Soft 17 rule\n",
    "        while dealer_hand.calc_val() < 17:\n",
    "            dealer_hand.card_add(deck.deal())\n",
    "            \n",
    "        # Dealer Busts    \n",
    "        if dealer_hand.calc_val() > 21:\n",
    "            result = 'Dealer busts! You win!' + restart_phrase\n",
    "            chip_pool += bet\n",
    "            playing = False\n",
    "            \n",
    "        #Player has better hand than dealer\n",
    "        elif dealer_hand.calc_val() < player_hand.calc_val():\n",
    "            result = 'You beat the dealer, you win!' + restart_phrase\n",
    "            chip_pool += bet\n",
    "            playing = False\n",
    "        \n",
    "        # Push\n",
    "        elif dealer_hand.calc_val() == player_hand.calc_val():\n",
    "            result = 'Tied up, push!' + restart_phrase\n",
    "            playing = False\n",
    "        \n",
    "        # Dealer beats player\n",
    "        else:\n",
    "            result = 'Dealer Wins!' + restart_phrase\n",
    "            chip_pool -= bet\n",
    "            playing = False\n",
    "    game_step()"
   ]
  },
  {
   "cell_type": "code",
   "execution_count": 113,
   "id": "71214c42",
   "metadata": {},
   "outputs": [],
   "source": [
    "def game_step():\n",
    "    \n",
    "    \n",
    "    #Display Player Hand\n",
    "    print(\"\")\n",
    "    print('Player Hand is: '),\n",
    "    player_hand.draw(hidden =False)\n",
    "    \n",
    "    print('Player hand total is: '+str(player_hand.calc_val()))\n",
    "    \n",
    "    #Display Dealer Hand\n",
    "    print('Dealer Hand is: '),\n",
    "    dealer_hand.draw(hidden=True)\n",
    "    \n",
    "    # If game round is over\n",
    "    if playing == False:\n",
    "        print(\" --- for a total of \" + str(dealer_hand.calc_val() ))\n",
    "        print(\"Chip Total: \" + str(chip_pool))\n",
    "    # Otherwise, don't know the second card yet\n",
    "    else: \n",
    "        print(\" with another card hidden upside down\")\n",
    "    \n",
    "    # Print result of hit or stand.\n",
    "    print(result)\n",
    "    \n",
    "    player_input()"
   ]
  },
  {
   "cell_type": "code",
   "execution_count": 114,
   "id": "3a18005f",
   "metadata": {},
   "outputs": [],
   "source": [
    "def game_exit():\n",
    "    print('Thanks for playing!')\n",
    "    exit()"
   ]
  },
  {
   "cell_type": "code",
   "execution_count": 115,
   "id": "16a9422a",
   "metadata": {},
   "outputs": [],
   "source": [
    "def player_input():\n",
    "    \n",
    "    plin = raw_input().lower()\n",
    "    \n",
    "    \n",
    "    if plin == 'h':\n",
    "        hit()\n",
    "    elif plin == 's':\n",
    "        stand()\n",
    "    elif plin == 'd':\n",
    "        deal_cards()\n",
    "    elif plin == 'q':\n",
    "        game_exit()\n",
    "    else:\n",
    "        print(\"Invalid Input...Enter h, s, d, or q: \")\n",
    "        player_input()"
   ]
  },
  {
   "cell_type": "code",
   "execution_count": 116,
   "id": "23ebc11c",
   "metadata": {},
   "outputs": [],
   "source": [
    "def player_input():\n",
    "    \n",
    "    plin = raw_input().lower()\n",
    "    \n",
    "    \n",
    "    if plin == 'h':\n",
    "        hit()\n",
    "    elif plin == 's':\n",
    "        stand()\n",
    "    elif plin == 'd':\n",
    "        deal_cards()\n",
    "    elif plin == 'q':\n",
    "        game_exit()\n",
    "    else:\n",
    "        print(\"Invalid Input...Enter h, s, d, or q: \")\n",
    "        player_input()"
   ]
  },
  {
   "cell_type": "code",
   "execution_count": null,
   "id": "9afd6b03",
   "metadata": {},
   "outputs": [],
   "source": []
  },
  {
   "cell_type": "code",
   "execution_count": null,
   "id": "29f2f8b4",
   "metadata": {},
   "outputs": [],
   "source": []
  }
 ],
 "metadata": {
  "kernelspec": {
   "display_name": "Python 3",
   "language": "python",
   "name": "python3"
  },
  "language_info": {
   "codemirror_mode": {
    "name": "ipython",
    "version": 3
   },
   "file_extension": ".py",
   "mimetype": "text/x-python",
   "name": "python",
   "nbconvert_exporter": "python",
   "pygments_lexer": "ipython3",
   "version": "3.9.7"
  }
 },
 "nbformat": 4,
 "nbformat_minor": 5
}
