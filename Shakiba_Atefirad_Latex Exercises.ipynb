{
 "cells": [
  {
   "cell_type": "markdown",
   "id": "27e6ba6f",
   "metadata": {},
   "source": [
    "#### 1. Write LaTeX code to display the [angle sum identity](https://en.wikipedia.org/wiki/List_of_trigonometric_identities#Angle_sum_and_difference_identities)"
   ]
  },
  {
   "cell_type": "code",
   "execution_count": 7,
   "id": "46eeecdd",
   "metadata": {
    "ExecuteTime": {
     "end_time": "2022-02-23T18:34:47.722160Z",
     "start_time": "2022-02-23T18:34:47.708216Z"
    }
   },
   "outputs": [
    {
     "data": {
      "text/latex": [
       " \\begin{equation}\n",
       " {\\displaystyle \\cos(\\alpha \\pm \\beta )}{\\displaystyle =}{\\displaystyle \\cos \\alpha \\cos \\beta \\mp \\sin \\alpha \\sin \\beta }\n",
       "\\end{equation}\n"
      ],
      "text/plain": [
       "<IPython.core.display.Latex object>"
      ]
     },
     "metadata": {},
     "output_type": "display_data"
    }
   ],
   "source": [
    "%%latex\n",
    " \\begin{equation}\n",
    " {\\displaystyle \\cos(\\alpha \\pm \\beta )}{\\displaystyle =}{\\displaystyle \\cos \\alpha \\cos \\beta \\mp \\sin \\alpha \\sin \\beta }\n",
    "\\end{equation}"
   ]
  },
  {
   "cell_type": "markdown",
   "id": "285759c7",
   "metadata": {
    "ExecuteTime": {
     "end_time": "2022-02-23T18:34:54.912670Z",
     "start_time": "2022-02-23T18:34:54.909601Z"
    }
   },
   "source": [
    "#### 2. Write LaTeX code to display the [indefinite integral](https://en.wikipedia.org/wiki/Lists_of_integrals)"
   ]
  },
  {
   "cell_type": "code",
   "execution_count": 9,
   "id": "f4d27118",
   "metadata": {
    "ExecuteTime": {
     "end_time": "2022-02-23T18:35:17.212954Z",
     "start_time": "2022-02-23T18:35:17.207923Z"
    }
   },
   "outputs": [
    {
     "data": {
      "text/latex": [
       " \\begin{equation}\n",
       " \\int \\frac{1}{1+x^{2}} d x=\\arctan x+C\n",
       "\\end{equation}\n"
      ],
      "text/plain": [
       "<IPython.core.display.Latex object>"
      ]
     },
     "metadata": {},
     "output_type": "display_data"
    }
   ],
   "source": [
    "%%latex\n",
    " \\begin{equation}\n",
    " \\int \\frac{1}{1+x^{2}} d x=\\arctan x+C\n",
    "\\end{equation}"
   ]
  },
  {
   "cell_type": "markdown",
   "id": "f23b9335",
   "metadata": {},
   "source": [
    "#### 3. Write LaTeX code to display the [Navier-Stokes Equation for Incompressible Flow](https://en.wikipedia.org/wiki/Navier%E2%80%93Stokes_equations)"
   ]
  },
  {
   "cell_type": "code",
   "execution_count": 10,
   "id": "6b2ef7d1",
   "metadata": {
    "ExecuteTime": {
     "end_time": "2022-02-23T18:35:32.255203Z",
     "start_time": "2022-02-23T18:35:32.244963Z"
    }
   },
   "outputs": [
    {
     "data": {
      "text/latex": [
       "\n",
       " \\begin{equation}\n",
       " \\frac{\\partial u}{\\partial t}+(u \\cdot \\nabla) u-\\nu \\nabla^{2} u=-\\nabla w+g\n",
       "\\end{equation}\n"
      ],
      "text/plain": [
       "<IPython.core.display.Latex object>"
      ]
     },
     "metadata": {},
     "output_type": "display_data"
    }
   ],
   "source": [
    "%%latex\n",
    "\n",
    " \\begin{equation}\n",
    " \\frac{\\partial u}{\\partial t}+(u \\cdot \\nabla) u-\\nu \\nabla^{2} u=-\\nabla w+g\n",
    "\\end{equation}"
   ]
  },
  {
   "cell_type": "markdown",
   "id": "3b8d627a",
   "metadata": {},
   "source": [
    "#### 4. Write LaTeX code to display [Green's Theorem](https://en.wikipedia.org/wiki/Green%27s_theorem)"
   ]
  },
  {
   "cell_type": "code",
   "execution_count": 11,
   "id": "5cb9ce78",
   "metadata": {
    "ExecuteTime": {
     "end_time": "2022-02-23T18:35:41.038711Z",
     "start_time": "2022-02-23T18:35:41.033389Z"
    }
   },
   "outputs": [
    {
     "data": {
      "text/latex": [
       "\n",
       " \\begin{equation}\n",
       " \\oint_{C}(L d x+M d y)=\\iint_{D}\\left(\\frac{\\partial M}{\\partial x}-\\frac{\\partial L}{\\partial y}\\right) d x d y\n",
       "\\end{equation}\n"
      ],
      "text/plain": [
       "<IPython.core.display.Latex object>"
      ]
     },
     "metadata": {},
     "output_type": "display_data"
    }
   ],
   "source": [
    "%%latex\n",
    "\n",
    " \\begin{equation}\n",
    " \\oint_{C}(L d x+M d y)=\\iint_{D}\\left(\\frac{\\partial M}{\\partial x}-\\frac{\\partial L}{\\partial y}\\right) d x d y\n",
    "\\end{equation}"
   ]
  },
  {
   "cell_type": "markdown",
   "id": "0a490e3e",
   "metadata": {},
   "source": [
    "#### 5. Write LaTeX code to display the [Prime Number Theorem](https://en.wikipedia.org/wiki/Prime_number_theorem)"
   ]
  },
  {
   "cell_type": "code",
   "execution_count": 12,
   "id": "426ccdca",
   "metadata": {
    "ExecuteTime": {
     "end_time": "2022-02-23T18:35:50.685615Z",
     "start_time": "2022-02-23T18:35:50.675132Z"
    }
   },
   "outputs": [
    {
     "data": {
      "text/latex": [
       " \\begin{equation}\n",
       "\\lim_{x\\to\\infty} \\frac{\\pi(x)}{\\frac{x}{\\log (x)}}=1 \n",
       "\\end{equation}\n"
      ],
      "text/plain": [
       "<IPython.core.display.Latex object>"
      ]
     },
     "metadata": {},
     "output_type": "display_data"
    }
   ],
   "source": [
    "%%latex\n",
    " \\begin{equation}\n",
    "\\lim_{x\\to\\infty} \\frac{\\pi(x)}{\\frac{x}{\\log (x)}}=1 \n",
    "\\end{equation}"
   ]
  },
  {
   "cell_type": "markdown",
   "id": "f20fe3ce",
   "metadata": {},
   "source": [
    "#### 6. Write LaTeX code to display the general formula for [Taylor series](https://en.wikipedia.org/wiki/Taylor_series)"
   ]
  },
  {
   "cell_type": "code",
   "execution_count": 13,
   "id": "5dbf5022",
   "metadata": {
    "ExecuteTime": {
     "end_time": "2022-02-23T18:35:55.358721Z",
     "start_time": "2022-02-23T18:35:55.353894Z"
    }
   },
   "outputs": [
    {
     "data": {
      "text/latex": [
       " \\begin{equation}\n",
       "\\displaystyle \\sum _{n=0}^{\\infty }{\\frac {f^{(n)}(a)}{n!}}(x-a)^{n} \n",
       "\\end{equation}\n"
      ],
      "text/plain": [
       "<IPython.core.display.Latex object>"
      ]
     },
     "metadata": {},
     "output_type": "display_data"
    }
   ],
   "source": [
    "%%latex\n",
    " \\begin{equation}\n",
    "\\displaystyle \\sum _{n=0}^{\\infty }{\\frac {f^{(n)}(a)}{n!}}(x-a)^{n} \n",
    "\\end{equation}\n"
   ]
  },
  {
   "cell_type": "markdown",
   "id": "a68208e5",
   "metadata": {},
   "source": [
    "#### 7. Write LaTeX code to display [Stokes' Theorem](https://en.wikipedia.org/wiki/Stokes%27_theorem)"
   ]
  },
  {
   "cell_type": "code",
   "execution_count": 14,
   "id": "e31d69d2",
   "metadata": {
    "ExecuteTime": {
     "end_time": "2022-02-23T18:36:03.475784Z",
     "start_time": "2022-02-23T18:36:03.471505Z"
    }
   },
   "outputs": [
    {
     "data": {
      "text/latex": [
       "\\begin{equation}\n",
       "\\int_{\\partial \\Omega} \\omega=\\int_{\\Omega} d \\omega\n",
       "\\end{equation}\n"
      ],
      "text/plain": [
       "<IPython.core.display.Latex object>"
      ]
     },
     "metadata": {},
     "output_type": "display_data"
    }
   ],
   "source": [
    "%%latex\n",
    "\\begin{equation}\n",
    "\\int_{\\partial \\Omega} \\omega=\\int_{\\Omega} d \\omega\n",
    "\\end{equation}"
   ]
  },
  {
   "cell_type": "markdown",
   "id": "a5a16fb5",
   "metadata": {},
   "source": [
    "#### 8. Write LaTeX code to display the adjoint property of the [tensor product](https://en.wikipedia.org/wiki/Tensor_product)"
   ]
  },
  {
   "cell_type": "code",
   "execution_count": 15,
   "id": "b43a44ea",
   "metadata": {
    "ExecuteTime": {
     "end_time": "2022-02-23T18:36:10.452778Z",
     "start_time": "2022-02-23T18:36:10.442923Z"
    }
   },
   "outputs": [
    {
     "data": {
      "text/latex": [
       "\\begin{equation}\n",
       "\\displaystyle \\mathrm {Hom} (U\\otimes V,W)\\cong \\mathrm {Hom} (U,\\mathrm {Hom} (V,W))\n",
       "\\end{equation}\n"
      ],
      "text/plain": [
       "<IPython.core.display.Latex object>"
      ]
     },
     "metadata": {},
     "output_type": "display_data"
    }
   ],
   "source": [
    "%%latex\n",
    "\\begin{equation}\n",
    "\\displaystyle \\mathrm {Hom} (U\\otimes V,W)\\cong \\mathrm {Hom} (U,\\mathrm {Hom} (V,W))\n",
    "\\end{equation}"
   ]
  },
  {
   "cell_type": "markdown",
   "id": "36601315",
   "metadata": {},
   "source": [
    "#### 9. Write LaTeX code to display the definition of the [ Laplace transform](https://en.wikipedia.org/wiki/Laplace_transform)"
   ]
  },
  {
   "cell_type": "code",
   "execution_count": 16,
   "id": "fb7a2599",
   "metadata": {
    "ExecuteTime": {
     "end_time": "2022-02-23T18:36:13.628860Z",
     "start_time": "2022-02-23T18:36:13.624196Z"
    }
   },
   "outputs": [
    {
     "data": {
      "text/latex": [
       "\\begin{equation}\n",
       "\\mathscr{L} f(t)=F(s)=\\int_{0}^{\\infty} f(t) e^{-s t} d t\n",
       "\\end{equation}\n"
      ],
      "text/plain": [
       "<IPython.core.display.Latex object>"
      ]
     },
     "metadata": {},
     "output_type": "display_data"
    }
   ],
   "source": [
    "%%latex\n",
    "\\begin{equation}\n",
    "\\mathscr{L} f(t)=F(s)=\\int_{0}^{\\infty} f(t) e^{-s t} d t\n",
    "\\end{equation}"
   ]
  },
  {
   "cell_type": "markdown",
   "id": "5cd9b572",
   "metadata": {},
   "source": [
    "#### 10. Write LaTeX code to display the[inverse matrix ](https://en.wikipedia.org/wiki/Invertible_matrix) formula"
   ]
  },
  {
   "cell_type": "code",
   "execution_count": 17,
   "id": "9dc98ebf",
   "metadata": {
    "ExecuteTime": {
     "end_time": "2022-02-23T18:36:16.207810Z",
     "start_time": "2022-02-23T18:36:16.198952Z"
    }
   },
   "outputs": [
    {
     "data": {
      "text/latex": [
       "\\begin{equation}\n",
       "\\left[\\begin{array}{ll}\n",
       "a & b \\\\\n",
       "c & d\n",
       "\\end{array}\\right]^{-1}=\\frac{1}{a d-b c}\\left[\\begin{array}{cc}\n",
       "d & -b \\\\\n",
       "-c & a\n",
       "\\end{array}\\right]\n",
       "\\end{equation}\n"
      ],
      "text/plain": [
       "<IPython.core.display.Latex object>"
      ]
     },
     "metadata": {},
     "output_type": "display_data"
    }
   ],
   "source": [
    "%%latex\n",
    "\\begin{equation}\n",
    "\\left[\\begin{array}{ll}\n",
    "a & b \\\\\n",
    "c & d\n",
    "\\end{array}\\right]^{-1}=\\frac{1}{a d-b c}\\left[\\begin{array}{cc}\n",
    "d & -b \\\\\n",
    "-c & a\n",
    "\\end{array}\\right]\n",
    "\\end{equation}"
   ]
  },
  {
   "cell_type": "markdown",
   "id": "77f82f9e",
   "metadata": {},
   "source": [
    "#### 11. Write LaTeX code to display the [infinite product ](https://en.wikipedia.org/wiki/List_of_trigonometric_identities#Infinite_product_formulae) formula"
   ]
  },
  {
   "cell_type": "code",
   "execution_count": 18,
   "id": "c9f2d142",
   "metadata": {
    "ExecuteTime": {
     "end_time": "2022-02-23T18:36:27.210980Z",
     "start_time": "2022-02-23T18:36:27.202404Z"
    }
   },
   "outputs": [
    {
     "data": {
      "text/latex": [
       "\\begin{equation}\n",
       "\\sin x=x \\prod_{n=1}^{\\infty}\\left(1-\\frac{x^{2}}{\\pi^{2} n^{2}}\\right)\n",
       "\\end{equation}\n"
      ],
      "text/plain": [
       "<IPython.core.display.Latex object>"
      ]
     },
     "metadata": {},
     "output_type": "display_data"
    }
   ],
   "source": [
    "%%latex\n",
    "\\begin{equation}\n",
    "\\sin x=x \\prod_{n=1}^{\\infty}\\left(1-\\frac{x^{2}}{\\pi^{2} n^{2}}\\right)\n",
    "\\end{equation}"
   ]
  },
  {
   "cell_type": "markdown",
   "id": "3242ffee",
   "metadata": {},
   "source": [
    "#### 12. Pick your favourite math course and write the notes from your last class in LaTeX."
   ]
  },
  {
   "cell_type": "markdown",
   "id": "9de9af00",
   "metadata": {},
   "source": [
    "### Linear systems"
   ]
  },
  {
   "cell_type": "markdown",
   "id": "4edeeada",
   "metadata": {},
   "source": [
    "A finite set of linear equations in a finite set of variables, for example, $x_{1}, x_{2}, \\ldots, x_{n}$ or $x, y, \\ldots, z$ is called a system of linear equations or a linear system."
   ]
  },
  {
   "cell_type": "markdown",
   "id": "7d6a8ef3",
   "metadata": {},
   "source": [
    "Systems of linear equations form a fundamental part of linear algebra. Historically, linear algebra and matrix theory has been developed for solving such systems. In the modern presentation of linear algebra through vector spaces and matrices, many problems may be interpreted in terms of linear systems.\n",
    "\n",
    "For example, let"
   ]
  },
  {
   "cell_type": "markdown",
   "id": "1f56125f",
   "metadata": {},
   "source": [
    "$\\begin{array}{rr}2 x+y-z= & 8 \\\\ -3 x-y+2 z= & -11 \\\\ -2 x+y+2 z= & -3\\end{array}$"
   ]
  },
  {
   "cell_type": "markdown",
   "id": "2bb001d7",
   "metadata": {},
   "source": [
    "be a linear system.\n",
    "\n",
    "To such a system, one may associate its matrix"
   ]
  },
  {
   "cell_type": "markdown",
   "id": "8f393b2b",
   "metadata": {},
   "source": [
    "\\begin{equation}\n",
    "M=\\left[\\begin{array}{rrr}\n",
    "2 & 1 & -1 \\\\\n",
    "-3 & -1 & 2 \\\\\n",
    "-2 & 1 & 2\n",
    "\\end{array}\\right]\n",
    "\\end{equation}"
   ]
  },
  {
   "cell_type": "markdown",
   "id": "cebce3fd",
   "metadata": {},
   "source": [
    "and its right member vector"
   ]
  },
  {
   "cell_type": "markdown",
   "id": "51725c9c",
   "metadata": {},
   "source": [
    "$\\mathbf{v}=\\left[\\begin{array}{c}8 \\\\ -11 \\\\ -3\\end{array}\\right]$"
   ]
  },
  {
   "cell_type": "markdown",
   "id": "4ce13a31",
   "metadata": {},
   "source": [
    "Let T be the linear transformation associated to the matrix M. A solution of the system (S) is a vector"
   ]
  },
  {
   "cell_type": "markdown",
   "id": "5bda0d48",
   "metadata": {},
   "source": [
    "$\\mathbf{X}=\\left[\\begin{array}{l}x \\\\ y \\\\ z\\end{array}\\right]$"
   ]
  },
  {
   "cell_type": "markdown",
   "id": "205fa12f",
   "metadata": {},
   "source": [
    "such that"
   ]
  },
  {
   "cell_type": "markdown",
   "id": "83bf9248",
   "metadata": {},
   "source": [
    "$T(\\mathbf{X})=\\mathbf{v}$"
   ]
  },
  {
   "cell_type": "code",
   "execution_count": null,
   "id": "77130c98",
   "metadata": {},
   "outputs": [],
   "source": []
  }
 ],
 "metadata": {
  "kernelspec": {
   "display_name": "Python 3",
   "language": "python",
   "name": "python3"
  },
  "language_info": {
   "codemirror_mode": {
    "name": "ipython",
    "version": 3
   },
   "file_extension": ".py",
   "mimetype": "text/x-python",
   "name": "python",
   "nbconvert_exporter": "python",
   "pygments_lexer": "ipython3",
   "version": "3.9.7"
  },
  "toc": {
   "base_numbering": 1,
   "nav_menu": {},
   "number_sections": false,
   "sideBar": true,
   "skip_h1_title": false,
   "title_cell": "Table of Contents",
   "title_sidebar": "Contents",
   "toc_cell": false,
   "toc_position": {},
   "toc_section_display": true,
   "toc_window_display": true
  },
  "varInspector": {
   "cols": {
    "lenName": 16,
    "lenType": 16,
    "lenVar": 40
   },
   "kernels_config": {
    "python": {
     "delete_cmd_postfix": "",
     "delete_cmd_prefix": "del ",
     "library": "var_list.py",
     "varRefreshCmd": "print(var_dic_list())"
    },
    "r": {
     "delete_cmd_postfix": ") ",
     "delete_cmd_prefix": "rm(",
     "library": "var_list.r",
     "varRefreshCmd": "cat(var_dic_list()) "
    }
   },
   "types_to_exclude": [
    "module",
    "function",
    "builtin_function_or_method",
    "instance",
    "_Feature"
   ],
   "window_display": false
  }
 },
 "nbformat": 4,
 "nbformat_minor": 5
}
